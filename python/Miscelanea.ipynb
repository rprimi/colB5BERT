{
  "nbformat": 4,
  "nbformat_minor": 0,
  "metadata": {
    "colab": {
      "provenance": [],
      "authorship_tag": "ABX9TyMJKcE/YI+YOcboEV6B9bVY",
      "include_colab_link": true
    },
    "kernelspec": {
      "name": "python3",
      "display_name": "Python 3"
    },
    "language_info": {
      "name": "python"
    }
  },
  "cells": [
    {
      "cell_type": "markdown",
      "metadata": {
        "id": "view-in-github",
        "colab_type": "text"
      },
      "source": [
        "<a href=\"https://colab.research.google.com/github/rprimi/colB5BERT/blob/main/python/Miscelanea.ipynb\" target=\"_parent\"><img src=\"https://colab.research.google.com/assets/colab-badge.svg\" alt=\"Open In Colab\"/></a>"
      ]
    },
    {
      "cell_type": "code",
      "execution_count": null,
      "metadata": {
        "id": "wFairBH2RBQb"
      },
      "outputs": [],
      "source": []
    },
    {
      "cell_type": "code",
      "source": [
        "import pickle\n",
        "import torch\n",
        "import numpy as np\n",
        "\n",
        "# Load the pickle file\n",
        "with open(\"/content/drive/MyDrive/colB5BERT/embeddings_L6.pkl\", \"rb\") as file:\n",
        "    data = pickle.load(file)\n",
        "\n",
        "type(data)\n",
        "len(data)\n",
        "len(data[1][0])\n",
        "\n",
        "\n",
        "cosims_L6 = [y.numpy() for y in [x[0] for x in data]]\n",
        "\n",
        "# Save the result as a new pickle file\n",
        "with open(\"/content/drive/MyDrive/colB5BERT/cosim_L6.pkl\", \"wb\") as file:\n",
        "    pickle.dump(cosims_L6, file)\n",
        "\n",
        "ids_cosims_L6 = [y.numpy() for y in [x[1] for x in data]]\n",
        "\n",
        "ids_cosims_L6[0:2]\n",
        "\n",
        "len(cosims_L6)\n",
        "\n",
        "with open(\"/content/drive/MyDrive/colB5BERT/ids_cosims_L6.pkl\", \"wb\") as file:\n",
        "    pickle.dump(ids_cosims_L6, file)\n"
      ],
      "metadata": {
        "id": "mdrdFvvoKcPd"
      },
      "execution_count": null,
      "outputs": []
    }
  ]
}