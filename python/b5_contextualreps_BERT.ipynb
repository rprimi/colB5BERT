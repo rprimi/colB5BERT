{
  "cells": [
    {
      "cell_type": "markdown",
      "metadata": {
        "id": "view-in-github",
        "colab_type": "text"
      },
      "source": [
        "<a href=\"https://colab.research.google.com/github/rprimi/colB5BERT/blob/main/python/b5_contextualreps_BERT.ipynb\" target=\"_parent\"><img src=\"https://colab.research.google.com/assets/colab-badge.svg\" alt=\"Open In Colab\"/></a>"
      ]
    },
    {
      "cell_type": "markdown",
      "source": [
        "## Getting BERT embeddings and calculating consine similarity between items and posts tokens\n",
        "Ricardo Primi\n",
        "Projeto Final, UNICAMP, Disciplina IA368 Deep Learning aplicada a buscas"
      ],
      "metadata": {
        "id": "6Gt7xmuV1a1j"
      }
    },
    {
      "cell_type": "markdown",
      "metadata": {
        "id": "NnEbhqVTY6-J"
      },
      "source": [
        "### General set-up\n",
        "\n"
      ]
    },
    {
      "cell_type": "markdown",
      "source": [],
      "metadata": {
        "id": "Rw8Xy2SLvf9N"
      }
    },
    {
      "cell_type": "code",
      "source": [
        "from google.colab import drive\n",
        "drive.mount('/content/drive')"
      ],
      "metadata": {
        "id": "z1wco2iUqepZ",
        "outputId": "e65a8627-5739-44e6-cbee-5601f5fed0f8",
        "colab": {
          "base_uri": "https://localhost:8080/"
        }
      },
      "execution_count": 1,
      "outputs": [
        {
          "output_type": "stream",
          "name": "stdout",
          "text": [
            "Mounted at /content/drive\n"
          ]
        }
      ]
    },
    {
      "cell_type": "code",
      "execution_count": 2,
      "metadata": {
        "id": "mZUio6VJkQfQ",
        "colab": {
          "base_uri": "https://localhost:8080/"
        },
        "outputId": "9f533120-77a9-4c2b-efc9-2370d5255fc8"
      },
      "outputs": [
        {
          "output_type": "stream",
          "name": "stdout",
          "text": [
            "Looking in indexes: https://pypi.org/simple, https://us-python.pkg.dev/colab-wheels/public/simple/\n",
            "Collecting transformers\n",
            "  Downloading transformers-4.30.2-py3-none-any.whl (7.2 MB)\n",
            "\u001b[2K     \u001b[90m━━━━━━━━━━━━━━━━━━━━━━━━━━━━━━━━━━━━━━━━\u001b[0m \u001b[32m7.2/7.2 MB\u001b[0m \u001b[31m61.5 MB/s\u001b[0m eta \u001b[36m0:00:00\u001b[0m\n",
            "\u001b[?25hRequirement already satisfied: filelock in /usr/local/lib/python3.10/dist-packages (from transformers) (3.12.0)\n",
            "Collecting huggingface-hub<1.0,>=0.14.1 (from transformers)\n",
            "  Downloading huggingface_hub-0.15.1-py3-none-any.whl (236 kB)\n",
            "\u001b[2K     \u001b[90m━━━━━━━━━━━━━━━━━━━━━━━━━━━━━━━━━━━━━━\u001b[0m \u001b[32m236.8/236.8 kB\u001b[0m \u001b[31m25.6 MB/s\u001b[0m eta \u001b[36m0:00:00\u001b[0m\n",
            "\u001b[?25hRequirement already satisfied: numpy>=1.17 in /usr/local/lib/python3.10/dist-packages (from transformers) (1.22.4)\n",
            "Requirement already satisfied: packaging>=20.0 in /usr/local/lib/python3.10/dist-packages (from transformers) (23.1)\n",
            "Requirement already satisfied: pyyaml>=5.1 in /usr/local/lib/python3.10/dist-packages (from transformers) (6.0)\n",
            "Requirement already satisfied: regex!=2019.12.17 in /usr/local/lib/python3.10/dist-packages (from transformers) (2022.10.31)\n",
            "Requirement already satisfied: requests in /usr/local/lib/python3.10/dist-packages (from transformers) (2.27.1)\n",
            "Collecting tokenizers!=0.11.3,<0.14,>=0.11.1 (from transformers)\n",
            "  Downloading tokenizers-0.13.3-cp310-cp310-manylinux_2_17_x86_64.manylinux2014_x86_64.whl (7.8 MB)\n",
            "\u001b[2K     \u001b[90m━━━━━━━━━━━━━━━━━━━━━━━━━━━━━━━━━━━━━━━━\u001b[0m \u001b[32m7.8/7.8 MB\u001b[0m \u001b[31m119.9 MB/s\u001b[0m eta \u001b[36m0:00:00\u001b[0m\n",
            "\u001b[?25hCollecting safetensors>=0.3.1 (from transformers)\n",
            "  Downloading safetensors-0.3.1-cp310-cp310-manylinux_2_17_x86_64.manylinux2014_x86_64.whl (1.3 MB)\n",
            "\u001b[2K     \u001b[90m━━━━━━━━━━━━━━━━━━━━━━━━━━━━━━━━━━━━━━━━\u001b[0m \u001b[32m1.3/1.3 MB\u001b[0m \u001b[31m80.8 MB/s\u001b[0m eta \u001b[36m0:00:00\u001b[0m\n",
            "\u001b[?25hRequirement already satisfied: tqdm>=4.27 in /usr/local/lib/python3.10/dist-packages (from transformers) (4.65.0)\n",
            "Requirement already satisfied: fsspec in /usr/local/lib/python3.10/dist-packages (from huggingface-hub<1.0,>=0.14.1->transformers) (2023.4.0)\n",
            "Requirement already satisfied: typing-extensions>=3.7.4.3 in /usr/local/lib/python3.10/dist-packages (from huggingface-hub<1.0,>=0.14.1->transformers) (4.5.0)\n",
            "Requirement already satisfied: urllib3<1.27,>=1.21.1 in /usr/local/lib/python3.10/dist-packages (from requests->transformers) (1.26.15)\n",
            "Requirement already satisfied: certifi>=2017.4.17 in /usr/local/lib/python3.10/dist-packages (from requests->transformers) (2022.12.7)\n",
            "Requirement already satisfied: charset-normalizer~=2.0.0 in /usr/local/lib/python3.10/dist-packages (from requests->transformers) (2.0.12)\n",
            "Requirement already satisfied: idna<4,>=2.5 in /usr/local/lib/python3.10/dist-packages (from requests->transformers) (3.4)\n",
            "Installing collected packages: tokenizers, safetensors, huggingface-hub, transformers\n",
            "Successfully installed huggingface-hub-0.15.1 safetensors-0.3.1 tokenizers-0.13.3 transformers-4.30.2\n"
          ]
        }
      ],
      "source": [
        "!pip3 install transformers"
      ]
    },
    {
      "cell_type": "code",
      "source": [
        "!git clone https://github.com/rprimi/colB5BERT.git\n",
        "\n",
        "%cd /content/colB5BERT\n",
        "!git pull\n",
        "\n"
      ],
      "metadata": {
        "colab": {
          "base_uri": "https://localhost:8080/"
        },
        "id": "H8evBd6sMsqT",
        "outputId": "f7c1bd53-f38d-45c1-b0ea-a42d9a62fa4e"
      },
      "execution_count": 3,
      "outputs": [
        {
          "output_type": "stream",
          "name": "stdout",
          "text": [
            "Cloning into 'colB5BERT'...\n",
            "remote: Enumerating objects: 178, done.\u001b[K\n",
            "remote: Counting objects: 100% (178/178), done.\u001b[K\n",
            "remote: Compressing objects: 100% (149/149), done.\u001b[K\n",
            "remote: Total 178 (delta 106), reused 56 (delta 22), pack-reused 0\u001b[K\n",
            "Receiving objects: 100% (178/178), 13.96 MiB | 27.86 MiB/s, done.\n",
            "Resolving deltas: 100% (106/106), done.\n",
            "/content/colB5BERT\n",
            "Already up to date.\n"
          ]
        }
      ]
    },
    {
      "cell_type": "code",
      "execution_count": 4,
      "metadata": {
        "id": "FneXYJMlY6-K"
      },
      "outputs": [],
      "source": [
        "import os\n",
        "import pandas as pd\n",
        "import numpy as np\n",
        "import textwrap\n",
        "import pickle\n",
        "\n",
        "from transformers import BertModel, BertTokenizer\n",
        "from transformers import RobertaModel, RobertaTokenizer\n",
        "\n",
        "import torch\n",
        "from torch.nn.functional import cosine_similarity\n",
        "from tqdm import tqdm\n"
      ]
    },
    {
      "cell_type": "markdown",
      "metadata": {
        "id": "XOgZt0MKWbOI"
      },
      "source": [
        "Modules `vsm`, `utils` and `sst` are from Stanford's CS224u https://github.com/cgpotts/cs224u"
      ]
    },
    {
      "cell_type": "code",
      "execution_count": 5,
      "metadata": {
        "id": "wIOgkGQmkk-5"
      },
      "outputs": [],
      "source": [
        "import sys\n",
        "sys.path.append('/content/colB5BERT/python/')\n",
        "\n",
        "import utils\n",
        "import vsm\n",
        "import sst\n"
      ]
    },
    {
      "cell_type": "code",
      "source": [
        "gpu_info = !nvidia-smi\n",
        "gpu_info = '\\n'.join(gpu_info)\n",
        "if gpu_info.find('failed') >= 0:\n",
        "  print('Not connected to a GPU')\n",
        "else:\n",
        "  print(gpu_info)"
      ],
      "metadata": {
        "id": "JAqaTuEMVTsp",
        "colab": {
          "base_uri": "https://localhost:8080/"
        },
        "outputId": "6ac8a15a-5849-4bde-f855-72effe050f60"
      },
      "execution_count": 6,
      "outputs": [
        {
          "output_type": "stream",
          "name": "stdout",
          "text": [
            "Sun Jun 18 15:44:05 2023       \n",
            "+-----------------------------------------------------------------------------+\n",
            "| NVIDIA-SMI 525.85.12    Driver Version: 525.85.12    CUDA Version: 12.0     |\n",
            "|-------------------------------+----------------------+----------------------+\n",
            "| GPU  Name        Persistence-M| Bus-Id        Disp.A | Volatile Uncorr. ECC |\n",
            "| Fan  Temp  Perf  Pwr:Usage/Cap|         Memory-Usage | GPU-Util  Compute M. |\n",
            "|                               |                      |               MIG M. |\n",
            "|===============================+======================+======================|\n",
            "|   0  NVIDIA A100-SXM...  Off  | 00000000:00:04.0 Off |                    0 |\n",
            "| N/A   31C    P0    42W / 400W |      0MiB / 40960MiB |      0%      Default |\n",
            "|                               |                      |             Disabled |\n",
            "+-------------------------------+----------------------+----------------------+\n",
            "                                                                               \n",
            "+-----------------------------------------------------------------------------+\n",
            "| Processes:                                                                  |\n",
            "|  GPU   GI   CI        PID   Type   Process name                  GPU Memory |\n",
            "|        ID   ID                                                   Usage      |\n",
            "|=============================================================================|\n",
            "|  No running processes found                                                 |\n",
            "+-----------------------------------------------------------------------------+\n"
          ]
        }
      ]
    },
    {
      "cell_type": "markdown",
      "metadata": {
        "id": "1dTrPrG2kdCz"
      },
      "source": [
        "### Data"
      ]
    },
    {
      "cell_type": "code",
      "execution_count": 7,
      "metadata": {
        "colab": {
          "base_uri": "https://localhost:8080/"
        },
        "id": "pboznS998H17",
        "outputId": "a3d7344d-b721-4120-ee9b-76e53eb5ddae"
      },
      "outputs": [
        {
          "output_type": "stream",
          "name": "stdout",
          "text": [
            "<class 'pandas.core.frame.DataFrame'>\n",
            "RangeIndex: 11537 entries, 0 to 11536\n",
            "Data columns (total 3 columns):\n",
            " #   Column          Non-Null Count  Dtype \n",
            "---  ------          --------------  ----- \n",
            " 0   id              11537 non-null  int64 \n",
            " 1   id_divisao      11537 non-null  int64 \n",
            " 2   texto_dividido  11537 non-null  object\n",
            "dtypes: int64(2), object(1)\n",
            "memory usage: 270.5+ KB\n"
          ]
        }
      ],
      "source": [
        "b5_data = pd.read_csv('/content/colB5BERT/data/db_textos.splitted.csv', sep=';')\n",
        "b5_data.info()"
      ]
    },
    {
      "cell_type": "code",
      "source": [
        "b5_data"
      ],
      "metadata": {
        "colab": {
          "base_uri": "https://localhost:8080/",
          "height": 423
        },
        "id": "ZX_oY24kO-Tg",
        "outputId": "16992562-95ab-43b3-a24d-fd43768266b8"
      },
      "execution_count": 17,
      "outputs": [
        {
          "output_type": "execute_result",
          "data": {
            "text/plain": [
              "        id  id_divisao                                     texto_dividido\n",
              "0      100           1  ajudando porque a zuzu é um amor e tem a voz f...\n",
              "1      100           2  vai ter share sim e se reclamar dou share mais...\n",
              "2      100           3  quanto parece , A , $NUMBER$ . MvC $NUMBER$ CL...\n",
              "3      100           4  $NUMBER$ jeitos de dar entry então é só sucess...\n",
              "4      100           5  quiser se vira Esse livro é de co-autoria de $...\n",
              "...    ...         ...                                                ...\n",
              "11532  999           6  amo muito ! < $NUMBER$ < $NUMBER$ \" Fique por ...\n",
              "11533  999           7  pai ! Feliz aniversário ! < $NUMBER$ < $NUMBER...\n",
              "11534  999           8  rei do $NAME$ Club de $NAME$ Oeste : $NAME$ $N...\n",
              "11535  999           9  todo tipo de público . A realização do projeto...\n",
              "11536  999          10  sobre sua vida , e as mais recentes ajudam a c...\n",
              "\n",
              "[11537 rows x 3 columns]"
            ],
            "text/html": [
              "\n",
              "  <div id=\"df-46d7b9ed-9ce7-4897-b383-ace400774db3\">\n",
              "    <div class=\"colab-df-container\">\n",
              "      <div>\n",
              "<style scoped>\n",
              "    .dataframe tbody tr th:only-of-type {\n",
              "        vertical-align: middle;\n",
              "    }\n",
              "\n",
              "    .dataframe tbody tr th {\n",
              "        vertical-align: top;\n",
              "    }\n",
              "\n",
              "    .dataframe thead th {\n",
              "        text-align: right;\n",
              "    }\n",
              "</style>\n",
              "<table border=\"1\" class=\"dataframe\">\n",
              "  <thead>\n",
              "    <tr style=\"text-align: right;\">\n",
              "      <th></th>\n",
              "      <th>id</th>\n",
              "      <th>id_divisao</th>\n",
              "      <th>texto_dividido</th>\n",
              "    </tr>\n",
              "  </thead>\n",
              "  <tbody>\n",
              "    <tr>\n",
              "      <th>0</th>\n",
              "      <td>100</td>\n",
              "      <td>1</td>\n",
              "      <td>ajudando porque a zuzu é um amor e tem a voz f...</td>\n",
              "    </tr>\n",
              "    <tr>\n",
              "      <th>1</th>\n",
              "      <td>100</td>\n",
              "      <td>2</td>\n",
              "      <td>vai ter share sim e se reclamar dou share mais...</td>\n",
              "    </tr>\n",
              "    <tr>\n",
              "      <th>2</th>\n",
              "      <td>100</td>\n",
              "      <td>3</td>\n",
              "      <td>quanto parece , A , $NUMBER$ . MvC $NUMBER$ CL...</td>\n",
              "    </tr>\n",
              "    <tr>\n",
              "      <th>3</th>\n",
              "      <td>100</td>\n",
              "      <td>4</td>\n",
              "      <td>$NUMBER$ jeitos de dar entry então é só sucess...</td>\n",
              "    </tr>\n",
              "    <tr>\n",
              "      <th>4</th>\n",
              "      <td>100</td>\n",
              "      <td>5</td>\n",
              "      <td>quiser se vira Esse livro é de co-autoria de $...</td>\n",
              "    </tr>\n",
              "    <tr>\n",
              "      <th>...</th>\n",
              "      <td>...</td>\n",
              "      <td>...</td>\n",
              "      <td>...</td>\n",
              "    </tr>\n",
              "    <tr>\n",
              "      <th>11532</th>\n",
              "      <td>999</td>\n",
              "      <td>6</td>\n",
              "      <td>amo muito ! &lt; $NUMBER$ &lt; $NUMBER$ \" Fique por ...</td>\n",
              "    </tr>\n",
              "    <tr>\n",
              "      <th>11533</th>\n",
              "      <td>999</td>\n",
              "      <td>7</td>\n",
              "      <td>pai ! Feliz aniversário ! &lt; $NUMBER$ &lt; $NUMBER...</td>\n",
              "    </tr>\n",
              "    <tr>\n",
              "      <th>11534</th>\n",
              "      <td>999</td>\n",
              "      <td>8</td>\n",
              "      <td>rei do $NAME$ Club de $NAME$ Oeste : $NAME$ $N...</td>\n",
              "    </tr>\n",
              "    <tr>\n",
              "      <th>11535</th>\n",
              "      <td>999</td>\n",
              "      <td>9</td>\n",
              "      <td>todo tipo de público . A realização do projeto...</td>\n",
              "    </tr>\n",
              "    <tr>\n",
              "      <th>11536</th>\n",
              "      <td>999</td>\n",
              "      <td>10</td>\n",
              "      <td>sobre sua vida , e as mais recentes ajudam a c...</td>\n",
              "    </tr>\n",
              "  </tbody>\n",
              "</table>\n",
              "<p>11537 rows × 3 columns</p>\n",
              "</div>\n",
              "      <button class=\"colab-df-convert\" onclick=\"convertToInteractive('df-46d7b9ed-9ce7-4897-b383-ace400774db3')\"\n",
              "              title=\"Convert this dataframe to an interactive table.\"\n",
              "              style=\"display:none;\">\n",
              "        \n",
              "  <svg xmlns=\"http://www.w3.org/2000/svg\" height=\"24px\"viewBox=\"0 0 24 24\"\n",
              "       width=\"24px\">\n",
              "    <path d=\"M0 0h24v24H0V0z\" fill=\"none\"/>\n",
              "    <path d=\"M18.56 5.44l.94 2.06.94-2.06 2.06-.94-2.06-.94-.94-2.06-.94 2.06-2.06.94zm-11 1L8.5 8.5l.94-2.06 2.06-.94-2.06-.94L8.5 2.5l-.94 2.06-2.06.94zm10 10l.94 2.06.94-2.06 2.06-.94-2.06-.94-.94-2.06-.94 2.06-2.06.94z\"/><path d=\"M17.41 7.96l-1.37-1.37c-.4-.4-.92-.59-1.43-.59-.52 0-1.04.2-1.43.59L10.3 9.45l-7.72 7.72c-.78.78-.78 2.05 0 2.83L4 21.41c.39.39.9.59 1.41.59.51 0 1.02-.2 1.41-.59l7.78-7.78 2.81-2.81c.8-.78.8-2.07 0-2.86zM5.41 20L4 18.59l7.72-7.72 1.47 1.35L5.41 20z\"/>\n",
              "  </svg>\n",
              "      </button>\n",
              "      \n",
              "  <style>\n",
              "    .colab-df-container {\n",
              "      display:flex;\n",
              "      flex-wrap:wrap;\n",
              "      gap: 12px;\n",
              "    }\n",
              "\n",
              "    .colab-df-convert {\n",
              "      background-color: #E8F0FE;\n",
              "      border: none;\n",
              "      border-radius: 50%;\n",
              "      cursor: pointer;\n",
              "      display: none;\n",
              "      fill: #1967D2;\n",
              "      height: 32px;\n",
              "      padding: 0 0 0 0;\n",
              "      width: 32px;\n",
              "    }\n",
              "\n",
              "    .colab-df-convert:hover {\n",
              "      background-color: #E2EBFA;\n",
              "      box-shadow: 0px 1px 2px rgba(60, 64, 67, 0.3), 0px 1px 3px 1px rgba(60, 64, 67, 0.15);\n",
              "      fill: #174EA6;\n",
              "    }\n",
              "\n",
              "    [theme=dark] .colab-df-convert {\n",
              "      background-color: #3B4455;\n",
              "      fill: #D2E3FC;\n",
              "    }\n",
              "\n",
              "    [theme=dark] .colab-df-convert:hover {\n",
              "      background-color: #434B5C;\n",
              "      box-shadow: 0px 1px 3px 1px rgba(0, 0, 0, 0.15);\n",
              "      filter: drop-shadow(0px 1px 2px rgba(0, 0, 0, 0.3));\n",
              "      fill: #FFFFFF;\n",
              "    }\n",
              "  </style>\n",
              "\n",
              "      <script>\n",
              "        const buttonEl =\n",
              "          document.querySelector('#df-46d7b9ed-9ce7-4897-b383-ace400774db3 button.colab-df-convert');\n",
              "        buttonEl.style.display =\n",
              "          google.colab.kernel.accessAllowed ? 'block' : 'none';\n",
              "\n",
              "        async function convertToInteractive(key) {\n",
              "          const element = document.querySelector('#df-46d7b9ed-9ce7-4897-b383-ace400774db3');\n",
              "          const dataTable =\n",
              "            await google.colab.kernel.invokeFunction('convertToInteractive',\n",
              "                                                     [key], {});\n",
              "          if (!dataTable) return;\n",
              "\n",
              "          const docLinkHtml = 'Like what you see? Visit the ' +\n",
              "            '<a target=\"_blank\" href=https://colab.research.google.com/notebooks/data_table.ipynb>data table notebook</a>'\n",
              "            + ' to learn more about interactive tables.';\n",
              "          element.innerHTML = '';\n",
              "          dataTable['output_type'] = 'display_data';\n",
              "          await google.colab.output.renderOutput(dataTable, element);\n",
              "          const docLink = document.createElement('div');\n",
              "          docLink.innerHTML = docLinkHtml;\n",
              "          element.appendChild(docLink);\n",
              "        }\n",
              "      </script>\n",
              "    </div>\n",
              "  </div>\n",
              "  "
            ]
          },
          "metadata": {},
          "execution_count": 17
        }
      ]
    },
    {
      "cell_type": "code",
      "source": [
        "import pandas as pd\n",
        "base_itens_b5 = pd.read_excel('/content/colB5BERT/data/base_itens.xlsx')\n",
        "\n",
        "\n",
        "base_itens_b5\n",
        "base_itens_b5.info()\n",
        "# base_itens_b5['item_pt_text'].tolist()"
      ],
      "metadata": {
        "colab": {
          "base_uri": "https://localhost:8080/"
        },
        "id": "fOaFKAKmhp5m",
        "outputId": "133f201f-cec3-49ce-9141-e87f4d145724"
      },
      "execution_count": 8,
      "outputs": [
        {
          "output_type": "stream",
          "name": "stdout",
          "text": [
            "<class 'pandas.core.frame.DataFrame'>\n",
            "RangeIndex: 415 entries, 0 to 414\n",
            "Data columns (total 9 columns):\n",
            " #   Column        Non-Null Count  Dtype  \n",
            "---  ------        --------------  -----  \n",
            " 0   ord0_index    415 non-null    int64  \n",
            " 1   test          415 non-null    object \n",
            " 2   coditem       415 non-null    object \n",
            " 3   item_pt_text  415 non-null    object \n",
            " 4   item_en_text  415 non-null    object \n",
            " 5   domain        413 non-null    object \n",
            " 6   facet         413 non-null    object \n",
            " 7   pole          415 non-null    int64  \n",
            " 8   seman_pairs   273 non-null    float64\n",
            "dtypes: float64(1), int64(2), object(6)\n",
            "memory usage: 29.3+ KB\n"
          ]
        }
      ]
    },
    {
      "cell_type": "markdown",
      "metadata": {
        "id": "JS59UBqrY6-L"
      },
      "source": [
        "### Loading Transformer models\n",
        "Specify a model, a tokenizer, and load a model pretrained weights:"
      ]
    },
    {
      "cell_type": "code",
      "execution_count": 9,
      "metadata": {
        "id": "O6f6UXqGY6-L",
        "colab": {
          "base_uri": "https://localhost:8080/",
          "height": 282,
          "referenced_widgets": [
            "1610e839d64646fdb06902d86fb78ec9",
            "bfc41b16e5cc419bb2514af61c39598d",
            "bd2f36a4d12f4640b35be681f403ff34",
            "5b54ee9329b5483d8a267146e5cbc141",
            "3e66de171e944b1ca31436bc32451cb3",
            "065a10a4c7ec494f9ba911adf7023ed3",
            "0489a86ba91e49bc8104cb7e7476ffb9",
            "2ec238f317da451ca3db64f1a26cecef",
            "9510b2991a8b41cb9d8feeb7fabf81f5",
            "2e657044d32443a3ae930dc91d5be1c2",
            "6e30fe14810843238711b4ae79c5ef5d",
            "23a021a9e6dd406f96bd445886b8d1c5",
            "8cbde59577404b048c380a33d2234e9b",
            "e9752b00dd9647feb3a4e4e46196bb07",
            "eb057da726124bfea34e9845492ba5a9",
            "2795b4056abc4a8d832478152510bc5d",
            "bde22f4fd50340aba7e06a0fc6b9b31d",
            "e23a09f1bd2e466495f5d49f700a6803",
            "d74438c689e34a4a8900d4117145325f",
            "2d58456d50dd4d9bb630db049c686257",
            "8daf6a199ed9478b9743af995ae65ced",
            "423da146f52d4e8eaf58865fe79dbead",
            "40cf3799aa9a48348fc6b2d52c22b228",
            "08b1613032dc4bd491db84566509683d",
            "39725a984f1a44bc82f148a99a39afc8",
            "89090bcef3c540c69ad9e56dddaa6362",
            "533e54e5e7ce4433931e82b905f0c008",
            "db7f57218f3f4506b4756d300142e4da",
            "b95c5ecb80704eddafeda7dd30920df9",
            "af31460e6baf482d9ba353e8f8b1142d",
            "a28b66d733514e70a8bec0728559bc68",
            "d209f03915584598a95950ce23f245b8",
            "6b61a13be6834dfaa6a6d23065b1e284",
            "b082adf4f7c74741b85504e66ec4be9f",
            "fda19cd98b9d4b149e5ac4d0170c603f",
            "78411d8e369b40ebaec29a587ea74628",
            "83bd5d32fe674ad8a9ccd2418d9f1489",
            "a098381e21e047bf939e139f4ca1568a",
            "bb12ec3dbffa44469cda40e96fa26c5d",
            "1c4206584ff740258808c7dc38c492f0",
            "c0db7b22470b4ba48926aa80c9acb858",
            "bf0b30c4a5f44849836a6f25edc47f71",
            "e42d16a11fa646c494c07a5042a99250",
            "b8b8139bc51f4427b97015ddae6c4e8e",
            "21eb04decd7c47199c6b0f7c33c0cacc",
            "3e7f1d9efdbc4d7e8b27459d03283a47",
            "76ff3e2228824326b2dbcb29f28ef8c7",
            "8b217e8ad64441e8a88044f9f287f9d8",
            "9a3c55d0776b40189cebeb00949af127",
            "10b6327a73044acc9a946cc4257ad19d",
            "355ae710aec54557a17f16e76d2f016b",
            "e8040c9cb1464502a438ed380fdb53f2",
            "bd36b4aeaf9141e6974c650b9e1b1873",
            "e8520069fc22400083b7e5cdd19de47c",
            "b3679d42559f4268aa949f53799b1760",
            "a2d4b667805f42ddb40c6c3a1752a3e0",
            "49bb72711ffd40139ee571d52c626f5d",
            "799550da467d4fedad0895887e08689f",
            "7ff851c45ecf44ceaf78ae9deabce36b",
            "a204e2dc3ba146a5a961ed1e9ca96cd1",
            "a974f2f4e06a45619369c41b32164e94",
            "a705e69b4f554652ae0012d9585110ec",
            "0e76e0da18534ca3a0986afadbaba98f",
            "af0a1438cb294f1ea0bff48ceb041179",
            "3a5f595b42bb4596886600bc621e65d3",
            "b502cceaf74545f4a4ef44fea11519b9"
          ]
        },
        "outputId": "78442feb-9106-455d-9271-752bda893562"
      },
      "outputs": [
        {
          "output_type": "display_data",
          "data": {
            "text/plain": [
              "Downloading (…)solve/main/vocab.txt:   0%|          | 0.00/210k [00:00<?, ?B/s]"
            ],
            "application/vnd.jupyter.widget-view+json": {
              "version_major": 2,
              "version_minor": 0,
              "model_id": "1610e839d64646fdb06902d86fb78ec9"
            }
          },
          "metadata": {}
        },
        {
          "output_type": "display_data",
          "data": {
            "text/plain": [
              "Downloading (…)in/added_tokens.json:   0%|          | 0.00/2.00 [00:00<?, ?B/s]"
            ],
            "application/vnd.jupyter.widget-view+json": {
              "version_major": 2,
              "version_minor": 0,
              "model_id": "23a021a9e6dd406f96bd445886b8d1c5"
            }
          },
          "metadata": {}
        },
        {
          "output_type": "display_data",
          "data": {
            "text/plain": [
              "Downloading (…)cial_tokens_map.json:   0%|          | 0.00/112 [00:00<?, ?B/s]"
            ],
            "application/vnd.jupyter.widget-view+json": {
              "version_major": 2,
              "version_minor": 0,
              "model_id": "40cf3799aa9a48348fc6b2d52c22b228"
            }
          },
          "metadata": {}
        },
        {
          "output_type": "display_data",
          "data": {
            "text/plain": [
              "Downloading (…)okenizer_config.json:   0%|          | 0.00/43.0 [00:00<?, ?B/s]"
            ],
            "application/vnd.jupyter.widget-view+json": {
              "version_major": 2,
              "version_minor": 0,
              "model_id": "b082adf4f7c74741b85504e66ec4be9f"
            }
          },
          "metadata": {}
        },
        {
          "output_type": "display_data",
          "data": {
            "text/plain": [
              "Downloading (…)lve/main/config.json:   0%|          | 0.00/647 [00:00<?, ?B/s]"
            ],
            "application/vnd.jupyter.widget-view+json": {
              "version_major": 2,
              "version_minor": 0,
              "model_id": "21eb04decd7c47199c6b0f7c33c0cacc"
            }
          },
          "metadata": {}
        },
        {
          "output_type": "display_data",
          "data": {
            "text/plain": [
              "Downloading pytorch_model.bin:   0%|          | 0.00/438M [00:00<?, ?B/s]"
            ],
            "application/vnd.jupyter.widget-view+json": {
              "version_major": 2,
              "version_minor": 0,
              "model_id": "a2d4b667805f42ddb40c6c3a1752a3e0"
            }
          },
          "metadata": {}
        },
        {
          "output_type": "stream",
          "name": "stderr",
          "text": [
            "Some weights of the model checkpoint at neuralmind/bert-base-portuguese-cased were not used when initializing BertModel: ['cls.seq_relationship.weight', 'cls.predictions.transform.dense.bias', 'cls.predictions.bias', 'cls.predictions.decoder.weight', 'cls.predictions.transform.LayerNorm.bias', 'cls.predictions.transform.LayerNorm.weight', 'cls.seq_relationship.bias', 'cls.predictions.transform.dense.weight']\n",
            "- This IS expected if you are initializing BertModel from the checkpoint of a model trained on another task or with another architecture (e.g. initializing a BertForSequenceClassification model from a BertForPreTraining model).\n",
            "- This IS NOT expected if you are initializing BertModel from the checkpoint of a model that you expect to be exactly identical (initializing a BertForSequenceClassification model from a BertForSequenceClassification model).\n"
          ]
        }
      ],
      "source": [
        "bert_weights_name = 'neuralmind/bert-base-portuguese-cased'\n",
        "bert_tokenizer = BertTokenizer.from_pretrained(bert_weights_name)\n",
        "bert_model = BertModel.from_pretrained(bert_weights_name)"
      ]
    },
    {
      "cell_type": "markdown",
      "metadata": {
        "id": "DHrst3TZY6-M"
      },
      "source": [
        "### The basics of tokenizing\n"
      ]
    },
    {
      "cell_type": "code",
      "execution_count": null,
      "metadata": {
        "id": "iOg05YkzY6-M"
      },
      "outputs": [],
      "source": [
        "def print_cell(df, row, column, wrap_length=80):\n",
        "    if row < len(df) and column in df.columns:\n",
        "        text = df.loc[row, column]\n",
        "        print('\\n'.join(textwrap.wrap(text, width=wrap_length)))\n",
        "    else:\n",
        "        print(\"Invalid row or column\")\n",
        "\n",
        "print_cell(b5_data, 3, 'texto_dividido')\n",
        "\n",
        "ex_ids = bert_tokenizer.encode(b5_data.loc[3, 'texto_dividido'], add_special_tokens=True)\n",
        "bert_tokenizer.convert_ids_to_tokens(ex_ids)\n"
      ]
    },
    {
      "cell_type": "markdown",
      "metadata": {
        "id": "vDRVTaxRY6-P"
      },
      "source": [
        "### Getting BERT embeddings"
      ]
    },
    {
      "cell_type": "markdown",
      "metadata": {
        "id": "wV8TNuFDY6-P"
      },
      "source": [
        "To obtain the representations for a batch of examples, we use the `forward` method of the model, as follows:"
      ]
    },
    {
      "cell_type": "code",
      "execution_count": null,
      "metadata": {
        "id": "z9BLypVjY6-P"
      },
      "outputs": [],
      "source": [
        "with torch.no_grad():\n",
        "    reps = bert_model(torch.tensor([ex_ids]), output_hidden_states=True)"
      ]
    },
    {
      "cell_type": "code",
      "source": [
        "def tokenize_texts(texts):\n",
        "    # Tokenize each text and convert to input IDs\n",
        "    input_ids = [bert_tokenizer.encode(text, add_special_tokens=True) for text in texts]\n",
        "    return input_ids\n",
        "\n",
        "\n",
        "def tokenize_texts(bert_tokenizer, texts):\n",
        "    tokenized_texts = []\n",
        "    for text in texts:\n",
        "        encoded_text = bert_tokenizer.encode(text, add_special_tokens=True)\n",
        "        # truncate the encoded text to the first 512 tokens\n",
        "        encoded_text = encoded_text[:512]\n",
        "        # encoded_text = encoded_text\n",
        "        tokenized_texts.append(encoded_text)\n",
        "    return tokenized_texts\n",
        "\n"
      ],
      "metadata": {
        "id": "r11vxToiVrfP"
      },
      "execution_count": 10,
      "outputs": []
    },
    {
      "cell_type": "code",
      "source": [
        "# tokenize_texts(ex_of_texts)\n",
        "ex_of_texts = b5_data.iloc[[0, 1, 2, 3], b5_data.columns.get_loc('texto_dividido')].tolist()\n",
        "lengths = [len(sublist) for sublist in tokenize_texts(bert_tokenizer, ex_of_texts)]\n",
        "\n",
        "print(lengths)  # Output: [3, 2, 4]"
      ],
      "metadata": {
        "colab": {
          "base_uri": "https://localhost:8080/"
        },
        "id": "Q2ddFICvXD7F",
        "outputId": "081ed75e-be17-4b9a-cafa-75298797954a"
      },
      "execution_count": null,
      "outputs": [
        {
          "output_type": "stream",
          "name": "stdout",
          "text": [
            "[512, 512, 477, 512]\n"
          ]
        }
      ]
    },
    {
      "cell_type": "code",
      "source": [
        "def get_bert_embeddings(bert_model, examples, layers):\n",
        "    # Move model to GPU if available\n",
        "    device = torch.device('cuda' if torch.cuda.is_available() else 'cpu')\n",
        "    bert_model = bert_model.to(device)\n",
        "\n",
        "    embeddings = {layer: [] for layer in layers}\n",
        "    for ex_ids in examples:\n",
        "        # Convert data to tensor and move to GPU\n",
        "        ex_ids_tensor = torch.tensor([ex_ids]).to(device)\n",
        "        with torch.no_grad():\n",
        "            # Output includes 'last_hidden_state', 'pooler_output', 'hidden_states'\n",
        "            output = bert_model(ex_ids_tensor, output_hidden_states=True)\n",
        "            hidden_states = output.hidden_states\n",
        "            for layer in layers:\n",
        "                # Verify layer index is valid\n",
        "                if layer < 0 or layer >= len(hidden_states):\n",
        "                    print(f\"Invalid layer {layer}\")\n",
        "                else:\n",
        "                    # Hidden states is a tuple. Indexing into it gives a tensor of shape\n",
        "                    # (batch_size, sequence_length, hidden_size). Since batch_size is 1,\n",
        "                    # we remove the batch dimension.\n",
        "                    layer_output = hidden_states[layer].squeeze(0)\n",
        "                    # Convert back to CPU for further processing or storage\n",
        "                    embeddings[layer].append(layer_output.to('cpu'))\n",
        "    return embeddings"
      ],
      "metadata": {
        "id": "6uybcKQ_VFQO"
      },
      "execution_count": 11,
      "outputs": []
    },
    {
      "cell_type": "code",
      "source": [
        "layers = [6, 9, 11, 12]  # Specify the layers you want\n",
        "layers = [6]\n",
        "embeddings = get_bert_embeddings(bert_model, tokenize_texts(bert_tokenizer, ex_of_texts), layers)\n",
        "\n",
        "import pprint\n",
        "pprint.pprint(embeddings )\n",
        "\n",
        "\n",
        "dir(embeddings)\n",
        "vars(embeddings)\n",
        "import inspect\n",
        "inspect.getmembers(embeddings)\n",
        "\n",
        "pprint.pprint(embeddings[9])\n",
        "len(embeddings[9])\n",
        "len(embeddings[9][2])\n",
        "pprint.pprint(embeddings[9][2])\n",
        "x = embeddings[9][2]\n",
        "x.shape\n",
        "\n",
        "dimensions = [len(inner_list) for inner_list in embeddings[9][0]]\n",
        "\n"
      ],
      "metadata": {
        "id": "cpAtS9ZIVH8j"
      },
      "execution_count": 22,
      "outputs": []
    },
    {
      "cell_type": "markdown",
      "source": [
        "### Finally getting the embeddings"
      ],
      "metadata": {
        "id": "k4pHrJ-3Du2S"
      }
    },
    {
      "cell_type": "code",
      "source": [
        "# Specify the layers you want\n",
        "layers = [ 6, 9, 11, 12]\n",
        "layers = [ 6]\n",
        "len(b5_data['texto_dividido'].tolist())\n",
        "\n",
        "embeddings_posts = get_bert_embeddings(bert_model, tokenize_texts(bert_tokenizer, b5_data['texto_dividido'].tolist()), layers)\n",
        "embeddings_itens = get_bert_embeddings(bert_model, tokenize_texts(bert_tokenizer, base_itens_b5['item_pt_text'].tolist()), layers)\n",
        "\n"
      ],
      "metadata": {
        "id": "l50Z1laf-fof"
      },
      "execution_count": 13,
      "outputs": []
    },
    {
      "cell_type": "markdown",
      "source": [
        "### Save embeddings\n",
        "This doesn't work. Post embeedings is 56Gb"
      ],
      "metadata": {
        "id": "SAJyN9gE3Juk"
      }
    },
    {
      "cell_type": "code",
      "source": [
        "def save_embeddings_to_disk(embeddings, filename):\n",
        "    # Convert tensors to numpy arrays and store them in the same structure\n",
        "    numpy_embeddings = {str(layer): [t.numpy() for t in tensors] for layer, tensors in embeddings.items()}\n",
        "\n",
        "    # Use numpy's savez function to store the dictionary\n",
        "    # We use ** to unpack the dictionary into keyword arguments\n",
        "    np.savez(filename, **numpy_embeddings)\n",
        "\n",
        "def load_embeddings_from_disk(filename):\n",
        "    with np.load(filename) as data:\n",
        "        embeddings = {layer: data[layer] for layer in data.files}\n",
        "    return embeddings\n",
        "\n",
        "filename=\"/content/drive/MyDrive/colB5BERT/embeddings_itens\"\n",
        "\n",
        "save_embeddings_to_disk(embeddings=embeddings_itens, filename=filename)\n",
        "\n",
        "filename=\"/content/drive/MyDrive/colB5BERT/embeddings_posts\"\n",
        "save_embeddings_to_disk(embeddings=embeddings_posts, filename=filename)\n"
      ],
      "metadata": {
        "id": "xzFTFdsti-2G",
        "colab": {
          "base_uri": "https://localhost:8080/"
        },
        "outputId": "327c4cbe-d39a-46b4-da80-1c495604cae0"
      },
      "execution_count": null,
      "outputs": [
        {
          "output_type": "stream",
          "name": "stderr",
          "text": [
            "/usr/local/lib/python3.10/dist-packages/numpy/lib/npyio.py:713: VisibleDeprecationWarning: Creating an ndarray from ragged nested sequences (which is a list-or-tuple of lists-or-tuples-or ndarrays with different lengths or shapes) is deprecated. If you meant to do this, you must specify 'dtype=object' when creating the ndarray.\n",
            "  val = np.asanyarray(val)\n"
          ]
        }
      ]
    },
    {
      "cell_type": "markdown",
      "source": [
        "Embeddings is a dict of `layers` keys. Each component of one key is composed of `batch size` elments of a tensor with size `num_of_tokens X embedding_dim`. The final structure is `layers X batch size X num_of_tokens X embedding_dim`"
      ],
      "metadata": {
        "id": "t4aDJx91AehR"
      }
    },
    {
      "cell_type": "code",
      "source": [
        "# how many posts\n",
        "len(embeddings_posts[6])\n",
        "embeddings_posts[6]\n",
        "\n",
        "# what is the first element ? of the first post\n",
        "type(embeddings_posts[6][0])\n",
        "\n",
        "# what is the dimension\n",
        "embeddings_posts[6][3].shape\n",
        "\n",
        "\n",
        "# how many posts\n",
        "len(embeddings_itens[6])\n",
        "\n",
        "# what is the first element ? of the first post\n",
        "type(embeddings_itens[6][0])\n",
        "\n",
        "# what is the dimension\n",
        "embeddings_itens[6][0].shape\n",
        "\n",
        "type(embeddings_itens[6])"
      ],
      "metadata": {
        "id": "H1d5NWmsDnVo",
        "colab": {
          "base_uri": "https://localhost:8080/"
        },
        "outputId": "17cb876c-db89-432f-82e4-d58f4441f57e"
      },
      "execution_count": 22,
      "outputs": [
        {
          "output_type": "execute_result",
          "data": {
            "text/plain": [
              "torch.Size([512, 768])"
            ]
          },
          "metadata": {},
          "execution_count": 22
        }
      ]
    },
    {
      "cell_type": "markdown",
      "source": [
        "### Cosine Similarity\n",
        "\n",
        "Testing the function"
      ],
      "metadata": {
        "id": "e8R8O1Jf3dP-"
      }
    },
    {
      "cell_type": "code",
      "source": [
        "def calculate_cosine_similarity0(list_A, list_B):\n",
        "    result = []\n",
        "    for tensor_A in list_A:\n",
        "        for tensor_B in list_B:\n",
        "            # Expand dimensions so that shapes are [n_tokens_A, 1, 768] and [1, n_tokens_B, 768]\n",
        "            tensor_A_exp = tensor_A.unsqueeze(1)\n",
        "            tensor_B_exp = tensor_B.unsqueeze(0)\n",
        "            # Compute cosine similarity\n",
        "            similarity = cosine_similarity(tensor_A_exp, tensor_B_exp, dim=-1)\n",
        "            result.append(similarity)\n",
        "    return result\n"
      ],
      "metadata": {
        "id": "7PIs8Nsp4GHK"
      },
      "execution_count": null,
      "outputs": []
    },
    {
      "cell_type": "markdown",
      "source": [
        "We can then use cosine_similarity(tensor_A_exp, tensor_B_exp, dim=-1) to compute the cosine similarity between all pairs of tokens from tensor_A and tensor_B, resulting in a tensor of shape [n_tokens_A, n_tokens_B]. Each element (i,j) in the resulting tensor represents the cosine similarity between the ith token from tensor_A and the jth token from tensor_B.\n",
        "\n"
      ],
      "metadata": {
        "id": "Wu2VNlfL40Q6"
      }
    },
    {
      "cell_type": "code",
      "source": [
        "temp = calculate_cosine_similarity0(embeddings_itens[6][0:10], embeddings_posts[6][0:5])\n",
        "\n",
        "temp.shape\n",
        "len(temp) # 10 itens X 5 posts\n",
        "len(temp[5][2]) # Item 1 com 13 tokens\n",
        "len(temp[0][9])\n",
        "temp[0].shape\n",
        "temp2 = torch.cat(temp.unsqueeze(0), dim=-1)"
      ],
      "metadata": {
        "id": "GT4_xNOi4H30"
      },
      "execution_count": null,
      "outputs": []
    },
    {
      "cell_type": "markdown",
      "source": [
        "This code tryes to recover all cosine similarities. But explode RAM"
      ],
      "metadata": {
        "id": "GtZYO8yZTmeJ"
      }
    },
    {
      "cell_type": "code",
      "source": [
        "\n",
        "\n",
        "# user = os.getenv('DB_USER')\n",
        "# password = os.getenv('DB_PASS')\n",
        "!pip install PyMySQL\n",
        "import pymysql\n",
        "\n",
        "# Establish the connection\n",
        "conn = pymysql.connect(\n",
        "    host = os.getenv('LABAPE6_HOST'),\n",
        "    user = os.getenv('LABAPE6_USER'),\n",
        "    password = os.getenv('LABAPE6_PASSWORD'),\n",
        "    db = os.getenv('LABAPE6_DBNAME')\n",
        ")\n",
        "\n",
        "# Create a cursor\n",
        "cur = conn.cursor()\n",
        "\n",
        "# Execute a query to fetch data\n",
        "cur.execute(\"SELECT * FROM your_table\")\n",
        "\n",
        "# Fetch the results\n",
        "results = cur.fetchall()\n",
        "\n",
        "for row in results:\n",
        "    print(row)\n",
        "\n",
        "# Now, let's insert data into a table\n",
        "cur.execute(\"INSERT INTO your_table (col1, col2) VALUES ('data1', 'data2')\")\n",
        "\n",
        "# Commit your changes\n",
        "conn.commit()\n",
        "\n",
        "# Close the connection\n",
        "conn.close()\n",
        "\n"
      ],
      "metadata": {
        "id": "oHPJBaIFk1Tx"
      },
      "execution_count": null,
      "outputs": []
    },
    {
      "cell_type": "code",
      "source": [
        "def calculate_cosine_similarity1(list_A, list_B, batch_size=1):\n",
        "    device = torch.device(\"cuda\" if torch.cuda.is_available() else \"cpu\")\n",
        "    result = []\n",
        "\n",
        "    # Move list_A tensors to GPU\n",
        "    list_A = [tensor.to(device) for tensor in list_A]\n",
        "\n",
        "    # Process batch_size tensor_A at a time\n",
        "    for i in tqdm(range(0, len(list_A), batch_size), desc='Processing', dynamic_ncols=True):\n",
        "        batch_A = list_A[i:i+batch_size]\n",
        "        batch_A = torch.nn.utils.rnn.pad_sequence(batch_A, batch_first=True).unsqueeze(2)  # [batch_size, max_n_tokens_A, 1, 768]\n",
        "        similarities = []\n",
        "\n",
        "        for tensor_B in list_B:\n",
        "            tensor_B = tensor_B.to(device).unsqueeze(0).unsqueeze(0)  # [1, 1, n_tokens_B, 768]\n",
        "            similarity = torch.nn.functional.cosine_similarity(batch_A, tensor_B, dim=-1)  # [batch_size, max_n_tokens_A, n_tokens_B]\n",
        "            similarity = similarity.half()  # Reduce precision to float16\n",
        "            similarities.append(similarity.cpu().numpy())  # Move similarity to CPU and convert to NumPy array\n",
        "            del tensor_B  # Delete tensor_B from GPU memory\n",
        "\n",
        "            # Store the batch's similarities to the result\n",
        "            result.append(similarities)\n",
        "\n",
        "    return result\n"
      ],
      "metadata": {
        "id": "ar4CrkpS78Nc"
      },
      "execution_count": 15,
      "outputs": []
    },
    {
      "cell_type": "code",
      "source": [
        "!pip install mysql-connector-python\n",
        "import mysql.connector\n",
        "import logging\n",
        "\n",
        "\n",
        "# Set up logging\n",
        "logging.basicConfig(level=logging.INFO)  # you can change the level to DEBUG if you want more detailed logs\n",
        "logger = logging.getLogger(__name__)\n",
        "\n",
        "def calculate_cosine_similarity1_db(list_A, list_B, db_config, table_name, batch_size=1):\n",
        "    device = torch.device(\"cuda\" if torch.cuda.is_available() else \"cpu\")\n",
        "\n",
        "    # Move list_A tensors to GPU\n",
        "    list_A = [tensor.to(device) for tensor in list_A]\n",
        "\n",
        "    # Connect to the MySQL server\n",
        "    cnx = mysql.connector.connect(**db_config)\n",
        "    cursor = cnx.cursor()\n",
        "\n",
        "    # Create a new table\n",
        "    cursor.execute(f\"CREATE TABLE IF NOT EXISTS {table_name} (n_batch INT, num_element_listA INT, num_token_A INT, num_element_list_B INT, num_token_B INT, cos_sim FLOAT)\")\n",
        "\n",
        "    # Process batch_size tensor_A at a time\n",
        "    for n_batch in tqdm(range(0, len(list_A), batch_size), desc='Processing', dynamic_ncols=True):\n",
        "        batch_A = list_A[n_batch:n_batch+batch_size]\n",
        "        batch_A = torch.nn.utils.rnn.pad_sequence(batch_A, batch_first=True).unsqueeze(2)  # [batch_size, max_n_tokens_A, 1, 768]\n",
        "        batch_data = []\n",
        "\n",
        "        for num_element_list_B, tensor_B in enumerate(list_B):\n",
        "            tensor_B = tensor_B.to(device).unsqueeze(0).unsqueeze(0)  # [1, 1, n_tokens_B, 768]\n",
        "            similarity = torch.nn.functional.cosine_similarity(batch_A, tensor_B, dim=-1)  # [batch_size, max_n_tokens_A, n_tokens_B]\n",
        "            similarity = similarity.half()  # Reduce precision to float16\n",
        "            similarity_np = similarity.cpu().numpy()  # Move similarity to CPU and convert to NumPy array\n",
        "\n",
        "            # Iterate over the elements in the similarity matrix\n",
        "            for num_element_listA in range(similarity_np.shape[0]):\n",
        "                for num_token_A in range(similarity_np.shape[1]):\n",
        "                    for num_token_B in range(similarity_np.shape[2]):\n",
        "                        # Extract the corresponding cosine similarity\n",
        "                        cos_sim = similarity_np[num_element_listA, num_token_A, num_token_B]\n",
        "\n",
        "                        # Add the row to the batch_data list\n",
        "                        batch_data.append((n_batch, num_element_listA, num_token_A, num_element_list_B, num_token_B, float(cos_sim)))\n",
        "\n",
        "            del tensor_B  # Delete tensor_B from GPU memory\n",
        "\n",
        "        # Insert all rows in batch_data into the database\n",
        "        query = f\"INSERT INTO {table_name} (n_batch, num_element_listA, num_token_A, num_element_list_B, num_token_B, cos_sim) VALUES (%s, %s, %s, %s, %s, %s)\"\n",
        "        cursor.executemany(query, batch_data)\n",
        "\n",
        "        logger.info(f\"Inserted {len(batch_data)} rows into the database\")\n",
        "\n",
        "    # Make sure data is committed to the database\n",
        "    cnx.commit()\n",
        "    cursor.close()\n",
        "    cnx.close()\n",
        "\n",
        "# Example usage\n",
        "db_config = {'host': 'localhost', 'database': 'test_db', 'user': 'test_user', 'password': 'test_password'}\n",
        "calculate_cosine_similarity1_db(list_A, list_B, db_config=db_config, table\n",
        "\n"
      ],
      "metadata": {
        "id": "du4qj1DApf0W"
      },
      "execution_count": 39,
      "outputs": []
    },
    {
      "cell_type": "markdown",
      "source": [],
      "metadata": {
        "id": "9e29dYSxwnvF"
      }
    },
    {
      "cell_type": "code",
      "source": [
        "\n",
        "# print(batch)\n",
        "# print(element_A)\n",
        "# print(batch_A.shape[1])\n",
        "# print(element_B)\n",
        "# print(tensor_B.shape[2])\n",
        "# print(similarity[element_A])\n",
        "\n",
        "calculate_cosine_similarity1_db(embeddings_itens[6], embeddings_posts[6], db_config=db_config,table_name=\"cos_sim_L6\",  batch_size=1)\n"
      ],
      "metadata": {
        "id": "eUsAXqmSrWBu"
      },
      "execution_count": null,
      "outputs": []
    },
    {
      "cell_type": "markdown",
      "source": [
        "This code saves the Top K cosine similarities with text divided tokens with all tokens in all items"
      ],
      "metadata": {
        "id": "KNsrI8nN6LnI"
      }
    },
    {
      "cell_type": "code",
      "source": [
        "def calculate_cosine_similarity2(list_A, list_B, topk=5, batch_size=10):\n",
        "    device = torch.device(\"cuda\" if torch.cuda.is_available() else \"cpu\")\n",
        "    result = []\n",
        "\n",
        "    # Move list_A tensors to GPU\n",
        "    list_A = [tensor.to(device) for tensor in list_A]\n",
        "\n",
        "    # Process batch_size tensor_A at a time\n",
        "    for i in tqdm(range(0, len(list_A), batch_size), desc='Processing', dynamic_ncols=True):\n",
        "        batch_A = list_A[i:i+batch_size]\n",
        "        batch_A = torch.nn.utils.rnn.pad_sequence(batch_A, batch_first=True).unsqueeze(2)  # [batch_size, max_n_tokens_A, 1, 768]\n",
        "\n",
        "        for tensor_B in list_B:\n",
        "            tensor_B = tensor_B.to(device).unsqueeze(0).unsqueeze(0)  # [1, 1, n_tokens_B, 768]\n",
        "            similarity = torch.nn.functional.cosine_similarity(batch_A, tensor_B, dim=-1)  # [batch_size, max_n_tokens_A, n_tokens_B]\n",
        "\n",
        "             # [batch_size, max_n_tokens_A, n_tokens_B]\n",
        "\n",
        "            current_topk = min(topk, similarity.size(-1))  # Ensure topk isn't larger than the number of tokens in tensor_B\n",
        "\n",
        "            topk_values, topk_indices = torch.topk(similarity, current_topk, dim=-1)  # [batch_size, max_n_tokens_A, current_topk]\n",
        "            result.append((topk_values.cpu().numpy(), topk_indices.cpu().numpy()))  # Move topk_values and topk_indices to CPU\n",
        "            del tensor_B  # Delete tensor_B from GPU memory\n",
        "\n",
        "    return result\n"
      ],
      "metadata": {
        "id": "a_bRt94M0qis"
      },
      "execution_count": 46,
      "outputs": []
    },
    {
      "cell_type": "markdown",
      "source": [
        "Trying to get embeddings in batched slices"
      ],
      "metadata": {
        "id": "KOqWEkAD1rsJ"
      }
    },
    {
      "cell_type": "code",
      "source": [
        "def calculate_cosine_similarity3(list_A, posts=b5_data['texto_dividido'].tolist(), topk=5, batch_size=25, layer=6):\n",
        "    device = torch.device(\"cuda\" if torch.cuda.is_available() else \"cpu\")\n",
        "    result = []\n",
        "\n",
        "\n",
        "    # Move list_A tensors to GPU\n",
        "    list_A = [tensor.to(device) for tensor in list_A]\n",
        "\n",
        "    # Process batch_size tensor_A at a time\n",
        "    for i in tqdm(range(0, len(posts), batch_size), desc='Processing', dynamic_ncols=True):\n",
        "        # batch_A = list_A[i:i+batch_size]\n",
        "        list_A = torch.nn.utils.rnn.pad_sequence(list_A, batch_first=True).unsqueeze(2)  # [batch_size, max_n_tokens_A, 1, 768]\n",
        "\n",
        "\n",
        "        batch_posts = get_bert_embeddings(bert_model, tokenize_texts(bert_tokenizer, posts[i:i+batch_size]), layers=[layer])\n",
        "\n",
        "        for tensor_B in batch_posts[layer]:\n",
        "            tensor_B = tensor_B.to(device).unsqueeze(0).unsqueeze(0)  # [1, 1, n_tokens_B, 768]\n",
        "            similarity = torch.nn.functional.cosine_similarity(list_A, tensor_B, dim=-1)  # [batch_size, max_n_tokens_A, n_tokens_B]\n",
        "\n",
        "            current_topk = min(topk, similarity.size(-1))  # Ensure topk isn't larger than the number of tokens in tensor_B\n",
        "\n",
        "            topk_values, topk_indices = torch.topk(similarity, current_topk, dim=-1)  # [batch_size, max_n_tokens_A, current_topk]\n",
        "            result.append((topk_values.cpu(), topk_indices.cpu()))  # Move topk_values and topk_indices to CPU\n",
        "            del tensor_B  # Delete tensor_B from GPU memory\n",
        "\n",
        "    return result\n",
        "\n"
      ],
      "metadata": {
        "id": "nPIosPJpTsyF"
      },
      "execution_count": null,
      "outputs": []
    },
    {
      "cell_type": "markdown",
      "source": [
        "The `result` is a list of tuples, where each tuple consists of `topk_values` and `topk_indices`.\n",
        "\n",
        "1. `topk_values` is a PyTorch tensor of shape `[batch_size, max_n_tokens_A, current_topk]`, where `batch_size` is the number of `tensor_A` processed at a time, `max_n_tokens_A` is the maximum number of tokens in `tensor_A` in the current batch, and `current_topk` is the number of top similarity scores to return, which is either the `topk` parameter or the number of tokens in `tensor_B`, whichever is smaller. This tensor holds the `current_topk` highest cosine similarity scores for each token in each `tensor_A` in the batch against `tensor_B`.\n",
        "\n",
        "2. `topk_indices` is a PyTorch tensor of the same shape as `topk_values` (`[batch_size, max_n_tokens_A, current_topk]`). This tensor holds the indices of the `current_topk` highest cosine similarity scores in `tensor_B`.\n",
        "\n",
        "So, in `result`, you will have a list of tuples (each for one `tensor_B`) and each tuple contains two tensors (`topk_values` and `topk_indices`) of shape `[batch_size, max_n_tokens_A, current_topk]`. As the function processes `list_A` in batches, the exact length of `result` will be `len(list_A) / batch_size * len(list_B)` (if `len(list_A)` is exactly divisible by `batch_size`), or `len(list_A) // batch_size * len(list_B) + len(list_B)` (if it's not)."
      ],
      "metadata": {
        "id": "6SQlC6I8d4-m"
      }
    },
    {
      "cell_type": "code",
      "source": [
        "cosim_top5_L6 = calculate_cosine_similarity2(embeddings_itens[6][0:3], embeddings_posts[6][0:10], topk = 5, batch_size=2)\n",
        "\n",
        "\n",
        "embeddings_L6 = calculate_cosine_similarity1(embeddings_posts[6], embeddings_itens[6], batch_size=1)\n",
        "\n",
        "len(embeddings_L6)"
      ],
      "metadata": {
        "id": "22Rwhgf_AGFl",
        "outputId": "2efe6419-3aa9-45fb-919e-722c30fed38c",
        "colab": {
          "base_uri": "https://localhost:8080/"
        }
      },
      "execution_count": 47,
      "outputs": [
        {
          "output_type": "stream",
          "name": "stderr",
          "text": [
            "Processing: 100%|██████████| 2/2 [00:00<00:00, 98.38it/s]\n"
          ]
        }
      ]
    },
    {
      "cell_type": "code",
      "source": [
        "len(cosim_top5_L6)\n",
        "\n",
        "embeddings_itens[6][1].shape\n",
        "cosim_top5_L6[0][0].shape\n",
        "\n",
        "\n",
        "len(embeddings_L6)\n",
        "batch_size = 5\n",
        "len(embeddings_L6) == len(list(range(0, len(embeddings_itens[6]), batch_size))) * len(embeddings_posts[6])\n",
        "\n",
        "len(embeddings_L6[0])\n",
        "len(embeddings_L6[0][:])\n",
        "len()\n",
        "\n",
        "\n",
        "[ print(x) for x in embeddings_L6[0][0] ]\n",
        "\n",
        "temp = embeddings_L6[0][0]\n",
        "len(temp[0][412])\n",
        "temp1 = temp[512]\n",
        "temp1[412]\n",
        "\n",
        "temp1 = temp[412][412]\n",
        "\n",
        "len(temp1[5])\n",
        "for i in range(2):  # Change this number to see more/less\n",
        "    topk_values, topk_indices = embeddings_L6[i]\n",
        "    print(\"TopK Values Tensor:\")\n",
        "    print(topk_values)\n",
        "    print(\"TopK Indices Tensor:\")\n",
        "    print(topk_indices)\n",
        "    print(\"\\n---\\n\")\n"
      ],
      "metadata": {
        "colab": {
          "base_uri": "https://localhost:8080/"
        },
        "id": "izlQ9PJ2c_Lx",
        "outputId": "4bdabd63-7fb6-4c4e-98f3-2b77f124cb10"
      },
      "execution_count": 63,
      "outputs": [
        {
          "output_type": "execute_result",
          "data": {
            "text/plain": [
              "array([[[0.9999438 , 0.28923154, 0.16323651, 0.15610822, 0.15447576],\n",
              "        [0.54535484, 0.5104598 , 0.50956935, 0.5010768 , 0.49993923],\n",
              "        [0.6487386 , 0.6451509 , 0.64438605, 0.5922517 , 0.58099186],\n",
              "        [0.5901557 , 0.58609843, 0.5840987 , 0.5761634 , 0.5509137 ],\n",
              "        [0.48015648, 0.4667238 , 0.46271023, 0.45601392, 0.45178825],\n",
              "        [0.5916519 , 0.56757987, 0.55520004, 0.5527642 , 0.5513735 ],\n",
              "        [0.65486205, 0.65253234, 0.6455029 , 0.64238495, 0.6225333 ],\n",
              "        [0.49928924, 0.49720046, 0.47456792, 0.46936598, 0.46704215],\n",
              "        [0.70637774, 0.656662  , 0.60018235, 0.5642161 , 0.5619816 ],\n",
              "        [0.46530312, 0.4589913 , 0.45810091, 0.45756498, 0.45258853],\n",
              "        [0.6122791 , 0.60375166, 0.5908047 , 0.5653817 , 0.5639473 ],\n",
              "        [0.44506344, 0.44214535, 0.44137588, 0.43476218, 0.43126088],\n",
              "        [0.56115127, 0.5407094 , 0.5342648 , 0.5315968 , 0.527797  ]],\n",
              "\n",
              "       [[0.999931  , 0.2896551 , 0.16347511, 0.15663569, 0.15498869],\n",
              "        [0.5109098 , 0.4984308 , 0.47713146, 0.47695607, 0.475707  ],\n",
              "        [0.5885464 , 0.53449386, 0.53435004, 0.5322015 , 0.52729815],\n",
              "        [0.39510918, 0.39323214, 0.39226165, 0.38135108, 0.3765064 ],\n",
              "        [0.74875015, 0.7224337 , 0.66609323, 0.6006621 , 0.5642407 ],\n",
              "        [0.61165833, 0.57550144, 0.55801725, 0.5573061 , 0.53537   ],\n",
              "        [0.65990055, 0.6312597 , 0.6193184 , 0.58876604, 0.57877314],\n",
              "        [0.45700127, 0.454912  , 0.4496091 , 0.4416232 , 0.44085503],\n",
              "        [0.56337935, 0.53748786, 0.53411883, 0.5276868 , 0.52570945],\n",
              "        [0.        , 0.        , 0.        , 0.        , 0.        ],\n",
              "        [0.        , 0.        , 0.        , 0.        , 0.        ],\n",
              "        [0.        , 0.        , 0.        , 0.        , 0.        ],\n",
              "        [0.        , 0.        , 0.        , 0.        , 0.        ]]],\n",
              "      dtype=float32)"
            ]
          },
          "metadata": {},
          "execution_count": 63
        }
      ]
    },
    {
      "cell_type": "code",
      "source": [
        "# temp = calculate_cosine_similarity(embeddings_itens[6], embeddings_posts[6])\n",
        "len(embeddings_itens[6][0])\n",
        "len(embeddings_itens[6][1])\n",
        "\n",
        "len(embeddings_posts[6][100])\n",
        "\n",
        "\n",
        "len(temp[511][0])\n",
        "import numpy as np\n",
        "temp[511].numpy()"
      ],
      "metadata": {
        "id": "7BOQiTNwJCQG"
      },
      "execution_count": null,
      "outputs": []
    },
    {
      "cell_type": "code",
      "source": [
        "import pickle\n",
        "\n",
        "with open('/content/drive/MyDrive/colB5BERT/embeddings_L6.pkl', 'wb') as f:\n",
        "    pickle.dump(embeddings_L6, f)"
      ],
      "metadata": {
        "id": "t-N2ZXxP9NqX"
      },
      "execution_count": null,
      "outputs": []
    },
    {
      "cell_type": "code",
      "source": [
        "import numpy as np\n",
        "\n",
        "# Save each tuple of (topk_values, topk_indices) in the result\n",
        "for i, (topk_values, topk_indices) in enumerate(embeddings_L6):\n",
        "    np.savez(f'/content/drive/MyDrive/colB5BERT/output_{i}.npz', values=topk_values, indices=topk_indices)\n",
        "\n",
        "data = np.load('output_0.npz')\n",
        "values = data['values']\n",
        "indices = data['indices']\n"
      ],
      "metadata": {
        "id": "zM0a8wbKyGmq"
      },
      "execution_count": null,
      "outputs": []
    },
    {
      "cell_type": "code",
      "source": [
        "import numpy as np\n",
        "import pandas as pd\n",
        "\n",
        "def save_to_csv(tensor_list, filename):\n",
        "    flattened_tensors = [tensor.numpy().flatten() for tensor in tensor_list]\n",
        "    shapes = [tensor.shape for tensor in tensor_list]\n",
        "\n",
        "    data_df = pd.DataFrame({\n",
        "        'tensor': [tensor.tolist() for tensor in flattened_tensors],\n",
        "        'shape': shapes\n",
        "    })\n",
        "\n",
        "    data_df.to_csv(filename, index=False)\n",
        "\n",
        "# Assuming your list of tensors is called tensor_list\n",
        "save_to_csv(embeddings_itens[6], 'embeddings_itens6.csv')\n",
        "\n"
      ],
      "metadata": {
        "id": "C9Ut022SSFng"
      },
      "execution_count": null,
      "outputs": []
    },
    {
      "cell_type": "code",
      "source": [
        "\n",
        "# Load the pickle file\n",
        "with open(\"/content/drive/MyDrive/colB5BERT/embeddings_L6.pkl\", \"rb\") as file:\n",
        "    data = pickle.load(file)\n",
        "\n",
        "type(data)\n",
        "len(data)\n",
        "len(data[1][0])\n",
        "\n",
        "\n",
        "cosims_L6 = [y.numpy() for y in [x[0] for x in data]]\n",
        "\n",
        "# Save the result as a new pickle file\n",
        "with open(\"/content/drive/MyDrive/colB5BERT/cosim_L6.pkl\", \"wb\") as file:\n",
        "    pickle.dump(cosims_L6, file)\n",
        "\n",
        "ids_cosims_L6 = [y.numpy() for y in [x[1] for x in data]]\n",
        "\n",
        "ids_cosims_L6[0:2]\n",
        "\n",
        "len(cosims_L6)\n",
        "\n",
        "with open(\"/content/drive/MyDrive/colB5BERT/ids_cosims_L6.pkl\", \"wb\") as file:\n",
        "    pickle.dump(ids_cosims_L6, file)\n",
        "\n",
        "\n",
        "with open(\"/content/drive/MyDrive/colB5BERT/cosim_L6.pkl\", \"wb\") as file:\n",
        "    pickle.dump(cosims_L6, file)\n",
        "\n",
        "with open(\"/content/drive/MyDrive/colB5BERT/cosim_L6_full.pkl\", \"wb\") as file:\n",
        "    pickle.dump(embeddings_L6, file)\n"
      ],
      "metadata": {
        "id": "mdrdFvvoKcPd"
      },
      "execution_count": null,
      "outputs": []
    }
  ],
  "metadata": {
    "accelerator": "GPU",
    "colab": {
      "collapsed_sections": [
        "qwNE2XOqGhuV"
      ],
      "machine_shape": "hm",
      "provenance": [],
      "gpuType": "A100",
      "include_colab_link": true
    },
    "kernelspec": {
      "display_name": "Python 3",
      "name": "python3"
    },
    "language_info": {
      "codemirror_mode": {
        "name": "ipython",
        "version": 3
      },
      "file_extension": ".py",
      "mimetype": "text/x-python",
      "name": "python",
      "nbconvert_exporter": "python",
      "pygments_lexer": "ipython3",
      "version": "3.9.1"
    },
    "vscode": {
      "interpreter": {
        "hash": "aee8b7b246df8f9039afb4144a1f6fd8d2ca17a180786b69acc140d282b71a49"
      }
    },
    "widgets": {
      "application/vnd.jupyter.widget-state+json": {
        "1610e839d64646fdb06902d86fb78ec9": {
          "model_module": "@jupyter-widgets/controls",
          "model_name": "HBoxModel",
          "model_module_version": "1.5.0",
          "state": {
            "_dom_classes": [],
            "_model_module": "@jupyter-widgets/controls",
            "_model_module_version": "1.5.0",
            "_model_name": "HBoxModel",
            "_view_count": null,
            "_view_module": "@jupyter-widgets/controls",
            "_view_module_version": "1.5.0",
            "_view_name": "HBoxView",
            "box_style": "",
            "children": [
              "IPY_MODEL_bfc41b16e5cc419bb2514af61c39598d",
              "IPY_MODEL_bd2f36a4d12f4640b35be681f403ff34",
              "IPY_MODEL_5b54ee9329b5483d8a267146e5cbc141"
            ],
            "layout": "IPY_MODEL_3e66de171e944b1ca31436bc32451cb3"
          }
        },
        "bfc41b16e5cc419bb2514af61c39598d": {
          "model_module": "@jupyter-widgets/controls",
          "model_name": "HTMLModel",
          "model_module_version": "1.5.0",
          "state": {
            "_dom_classes": [],
            "_model_module": "@jupyter-widgets/controls",
            "_model_module_version": "1.5.0",
            "_model_name": "HTMLModel",
            "_view_count": null,
            "_view_module": "@jupyter-widgets/controls",
            "_view_module_version": "1.5.0",
            "_view_name": "HTMLView",
            "description": "",
            "description_tooltip": null,
            "layout": "IPY_MODEL_065a10a4c7ec494f9ba911adf7023ed3",
            "placeholder": "​",
            "style": "IPY_MODEL_0489a86ba91e49bc8104cb7e7476ffb9",
            "value": "Downloading (…)solve/main/vocab.txt: 100%"
          }
        },
        "bd2f36a4d12f4640b35be681f403ff34": {
          "model_module": "@jupyter-widgets/controls",
          "model_name": "FloatProgressModel",
          "model_module_version": "1.5.0",
          "state": {
            "_dom_classes": [],
            "_model_module": "@jupyter-widgets/controls",
            "_model_module_version": "1.5.0",
            "_model_name": "FloatProgressModel",
            "_view_count": null,
            "_view_module": "@jupyter-widgets/controls",
            "_view_module_version": "1.5.0",
            "_view_name": "ProgressView",
            "bar_style": "success",
            "description": "",
            "description_tooltip": null,
            "layout": "IPY_MODEL_2ec238f317da451ca3db64f1a26cecef",
            "max": 209528,
            "min": 0,
            "orientation": "horizontal",
            "style": "IPY_MODEL_9510b2991a8b41cb9d8feeb7fabf81f5",
            "value": 209528
          }
        },
        "5b54ee9329b5483d8a267146e5cbc141": {
          "model_module": "@jupyter-widgets/controls",
          "model_name": "HTMLModel",
          "model_module_version": "1.5.0",
          "state": {
            "_dom_classes": [],
            "_model_module": "@jupyter-widgets/controls",
            "_model_module_version": "1.5.0",
            "_model_name": "HTMLModel",
            "_view_count": null,
            "_view_module": "@jupyter-widgets/controls",
            "_view_module_version": "1.5.0",
            "_view_name": "HTMLView",
            "description": "",
            "description_tooltip": null,
            "layout": "IPY_MODEL_2e657044d32443a3ae930dc91d5be1c2",
            "placeholder": "​",
            "style": "IPY_MODEL_6e30fe14810843238711b4ae79c5ef5d",
            "value": " 210k/210k [00:00&lt;00:00, 5.90MB/s]"
          }
        },
        "3e66de171e944b1ca31436bc32451cb3": {
          "model_module": "@jupyter-widgets/base",
          "model_name": "LayoutModel",
          "model_module_version": "1.2.0",
          "state": {
            "_model_module": "@jupyter-widgets/base",
            "_model_module_version": "1.2.0",
            "_model_name": "LayoutModel",
            "_view_count": null,
            "_view_module": "@jupyter-widgets/base",
            "_view_module_version": "1.2.0",
            "_view_name": "LayoutView",
            "align_content": null,
            "align_items": null,
            "align_self": null,
            "border": null,
            "bottom": null,
            "display": null,
            "flex": null,
            "flex_flow": null,
            "grid_area": null,
            "grid_auto_columns": null,
            "grid_auto_flow": null,
            "grid_auto_rows": null,
            "grid_column": null,
            "grid_gap": null,
            "grid_row": null,
            "grid_template_areas": null,
            "grid_template_columns": null,
            "grid_template_rows": null,
            "height": null,
            "justify_content": null,
            "justify_items": null,
            "left": null,
            "margin": null,
            "max_height": null,
            "max_width": null,
            "min_height": null,
            "min_width": null,
            "object_fit": null,
            "object_position": null,
            "order": null,
            "overflow": null,
            "overflow_x": null,
            "overflow_y": null,
            "padding": null,
            "right": null,
            "top": null,
            "visibility": null,
            "width": null
          }
        },
        "065a10a4c7ec494f9ba911adf7023ed3": {
          "model_module": "@jupyter-widgets/base",
          "model_name": "LayoutModel",
          "model_module_version": "1.2.0",
          "state": {
            "_model_module": "@jupyter-widgets/base",
            "_model_module_version": "1.2.0",
            "_model_name": "LayoutModel",
            "_view_count": null,
            "_view_module": "@jupyter-widgets/base",
            "_view_module_version": "1.2.0",
            "_view_name": "LayoutView",
            "align_content": null,
            "align_items": null,
            "align_self": null,
            "border": null,
            "bottom": null,
            "display": null,
            "flex": null,
            "flex_flow": null,
            "grid_area": null,
            "grid_auto_columns": null,
            "grid_auto_flow": null,
            "grid_auto_rows": null,
            "grid_column": null,
            "grid_gap": null,
            "grid_row": null,
            "grid_template_areas": null,
            "grid_template_columns": null,
            "grid_template_rows": null,
            "height": null,
            "justify_content": null,
            "justify_items": null,
            "left": null,
            "margin": null,
            "max_height": null,
            "max_width": null,
            "min_height": null,
            "min_width": null,
            "object_fit": null,
            "object_position": null,
            "order": null,
            "overflow": null,
            "overflow_x": null,
            "overflow_y": null,
            "padding": null,
            "right": null,
            "top": null,
            "visibility": null,
            "width": null
          }
        },
        "0489a86ba91e49bc8104cb7e7476ffb9": {
          "model_module": "@jupyter-widgets/controls",
          "model_name": "DescriptionStyleModel",
          "model_module_version": "1.5.0",
          "state": {
            "_model_module": "@jupyter-widgets/controls",
            "_model_module_version": "1.5.0",
            "_model_name": "DescriptionStyleModel",
            "_view_count": null,
            "_view_module": "@jupyter-widgets/base",
            "_view_module_version": "1.2.0",
            "_view_name": "StyleView",
            "description_width": ""
          }
        },
        "2ec238f317da451ca3db64f1a26cecef": {
          "model_module": "@jupyter-widgets/base",
          "model_name": "LayoutModel",
          "model_module_version": "1.2.0",
          "state": {
            "_model_module": "@jupyter-widgets/base",
            "_model_module_version": "1.2.0",
            "_model_name": "LayoutModel",
            "_view_count": null,
            "_view_module": "@jupyter-widgets/base",
            "_view_module_version": "1.2.0",
            "_view_name": "LayoutView",
            "align_content": null,
            "align_items": null,
            "align_self": null,
            "border": null,
            "bottom": null,
            "display": null,
            "flex": null,
            "flex_flow": null,
            "grid_area": null,
            "grid_auto_columns": null,
            "grid_auto_flow": null,
            "grid_auto_rows": null,
            "grid_column": null,
            "grid_gap": null,
            "grid_row": null,
            "grid_template_areas": null,
            "grid_template_columns": null,
            "grid_template_rows": null,
            "height": null,
            "justify_content": null,
            "justify_items": null,
            "left": null,
            "margin": null,
            "max_height": null,
            "max_width": null,
            "min_height": null,
            "min_width": null,
            "object_fit": null,
            "object_position": null,
            "order": null,
            "overflow": null,
            "overflow_x": null,
            "overflow_y": null,
            "padding": null,
            "right": null,
            "top": null,
            "visibility": null,
            "width": null
          }
        },
        "9510b2991a8b41cb9d8feeb7fabf81f5": {
          "model_module": "@jupyter-widgets/controls",
          "model_name": "ProgressStyleModel",
          "model_module_version": "1.5.0",
          "state": {
            "_model_module": "@jupyter-widgets/controls",
            "_model_module_version": "1.5.0",
            "_model_name": "ProgressStyleModel",
            "_view_count": null,
            "_view_module": "@jupyter-widgets/base",
            "_view_module_version": "1.2.0",
            "_view_name": "StyleView",
            "bar_color": null,
            "description_width": ""
          }
        },
        "2e657044d32443a3ae930dc91d5be1c2": {
          "model_module": "@jupyter-widgets/base",
          "model_name": "LayoutModel",
          "model_module_version": "1.2.0",
          "state": {
            "_model_module": "@jupyter-widgets/base",
            "_model_module_version": "1.2.0",
            "_model_name": "LayoutModel",
            "_view_count": null,
            "_view_module": "@jupyter-widgets/base",
            "_view_module_version": "1.2.0",
            "_view_name": "LayoutView",
            "align_content": null,
            "align_items": null,
            "align_self": null,
            "border": null,
            "bottom": null,
            "display": null,
            "flex": null,
            "flex_flow": null,
            "grid_area": null,
            "grid_auto_columns": null,
            "grid_auto_flow": null,
            "grid_auto_rows": null,
            "grid_column": null,
            "grid_gap": null,
            "grid_row": null,
            "grid_template_areas": null,
            "grid_template_columns": null,
            "grid_template_rows": null,
            "height": null,
            "justify_content": null,
            "justify_items": null,
            "left": null,
            "margin": null,
            "max_height": null,
            "max_width": null,
            "min_height": null,
            "min_width": null,
            "object_fit": null,
            "object_position": null,
            "order": null,
            "overflow": null,
            "overflow_x": null,
            "overflow_y": null,
            "padding": null,
            "right": null,
            "top": null,
            "visibility": null,
            "width": null
          }
        },
        "6e30fe14810843238711b4ae79c5ef5d": {
          "model_module": "@jupyter-widgets/controls",
          "model_name": "DescriptionStyleModel",
          "model_module_version": "1.5.0",
          "state": {
            "_model_module": "@jupyter-widgets/controls",
            "_model_module_version": "1.5.0",
            "_model_name": "DescriptionStyleModel",
            "_view_count": null,
            "_view_module": "@jupyter-widgets/base",
            "_view_module_version": "1.2.0",
            "_view_name": "StyleView",
            "description_width": ""
          }
        },
        "23a021a9e6dd406f96bd445886b8d1c5": {
          "model_module": "@jupyter-widgets/controls",
          "model_name": "HBoxModel",
          "model_module_version": "1.5.0",
          "state": {
            "_dom_classes": [],
            "_model_module": "@jupyter-widgets/controls",
            "_model_module_version": "1.5.0",
            "_model_name": "HBoxModel",
            "_view_count": null,
            "_view_module": "@jupyter-widgets/controls",
            "_view_module_version": "1.5.0",
            "_view_name": "HBoxView",
            "box_style": "",
            "children": [
              "IPY_MODEL_8cbde59577404b048c380a33d2234e9b",
              "IPY_MODEL_e9752b00dd9647feb3a4e4e46196bb07",
              "IPY_MODEL_eb057da726124bfea34e9845492ba5a9"
            ],
            "layout": "IPY_MODEL_2795b4056abc4a8d832478152510bc5d"
          }
        },
        "8cbde59577404b048c380a33d2234e9b": {
          "model_module": "@jupyter-widgets/controls",
          "model_name": "HTMLModel",
          "model_module_version": "1.5.0",
          "state": {
            "_dom_classes": [],
            "_model_module": "@jupyter-widgets/controls",
            "_model_module_version": "1.5.0",
            "_model_name": "HTMLModel",
            "_view_count": null,
            "_view_module": "@jupyter-widgets/controls",
            "_view_module_version": "1.5.0",
            "_view_name": "HTMLView",
            "description": "",
            "description_tooltip": null,
            "layout": "IPY_MODEL_bde22f4fd50340aba7e06a0fc6b9b31d",
            "placeholder": "​",
            "style": "IPY_MODEL_e23a09f1bd2e466495f5d49f700a6803",
            "value": "Downloading (…)in/added_tokens.json: 100%"
          }
        },
        "e9752b00dd9647feb3a4e4e46196bb07": {
          "model_module": "@jupyter-widgets/controls",
          "model_name": "FloatProgressModel",
          "model_module_version": "1.5.0",
          "state": {
            "_dom_classes": [],
            "_model_module": "@jupyter-widgets/controls",
            "_model_module_version": "1.5.0",
            "_model_name": "FloatProgressModel",
            "_view_count": null,
            "_view_module": "@jupyter-widgets/controls",
            "_view_module_version": "1.5.0",
            "_view_name": "ProgressView",
            "bar_style": "success",
            "description": "",
            "description_tooltip": null,
            "layout": "IPY_MODEL_d74438c689e34a4a8900d4117145325f",
            "max": 2,
            "min": 0,
            "orientation": "horizontal",
            "style": "IPY_MODEL_2d58456d50dd4d9bb630db049c686257",
            "value": 2
          }
        },
        "eb057da726124bfea34e9845492ba5a9": {
          "model_module": "@jupyter-widgets/controls",
          "model_name": "HTMLModel",
          "model_module_version": "1.5.0",
          "state": {
            "_dom_classes": [],
            "_model_module": "@jupyter-widgets/controls",
            "_model_module_version": "1.5.0",
            "_model_name": "HTMLModel",
            "_view_count": null,
            "_view_module": "@jupyter-widgets/controls",
            "_view_module_version": "1.5.0",
            "_view_name": "HTMLView",
            "description": "",
            "description_tooltip": null,
            "layout": "IPY_MODEL_8daf6a199ed9478b9743af995ae65ced",
            "placeholder": "​",
            "style": "IPY_MODEL_423da146f52d4e8eaf58865fe79dbead",
            "value": " 2.00/2.00 [00:00&lt;00:00, 194B/s]"
          }
        },
        "2795b4056abc4a8d832478152510bc5d": {
          "model_module": "@jupyter-widgets/base",
          "model_name": "LayoutModel",
          "model_module_version": "1.2.0",
          "state": {
            "_model_module": "@jupyter-widgets/base",
            "_model_module_version": "1.2.0",
            "_model_name": "LayoutModel",
            "_view_count": null,
            "_view_module": "@jupyter-widgets/base",
            "_view_module_version": "1.2.0",
            "_view_name": "LayoutView",
            "align_content": null,
            "align_items": null,
            "align_self": null,
            "border": null,
            "bottom": null,
            "display": null,
            "flex": null,
            "flex_flow": null,
            "grid_area": null,
            "grid_auto_columns": null,
            "grid_auto_flow": null,
            "grid_auto_rows": null,
            "grid_column": null,
            "grid_gap": null,
            "grid_row": null,
            "grid_template_areas": null,
            "grid_template_columns": null,
            "grid_template_rows": null,
            "height": null,
            "justify_content": null,
            "justify_items": null,
            "left": null,
            "margin": null,
            "max_height": null,
            "max_width": null,
            "min_height": null,
            "min_width": null,
            "object_fit": null,
            "object_position": null,
            "order": null,
            "overflow": null,
            "overflow_x": null,
            "overflow_y": null,
            "padding": null,
            "right": null,
            "top": null,
            "visibility": null,
            "width": null
          }
        },
        "bde22f4fd50340aba7e06a0fc6b9b31d": {
          "model_module": "@jupyter-widgets/base",
          "model_name": "LayoutModel",
          "model_module_version": "1.2.0",
          "state": {
            "_model_module": "@jupyter-widgets/base",
            "_model_module_version": "1.2.0",
            "_model_name": "LayoutModel",
            "_view_count": null,
            "_view_module": "@jupyter-widgets/base",
            "_view_module_version": "1.2.0",
            "_view_name": "LayoutView",
            "align_content": null,
            "align_items": null,
            "align_self": null,
            "border": null,
            "bottom": null,
            "display": null,
            "flex": null,
            "flex_flow": null,
            "grid_area": null,
            "grid_auto_columns": null,
            "grid_auto_flow": null,
            "grid_auto_rows": null,
            "grid_column": null,
            "grid_gap": null,
            "grid_row": null,
            "grid_template_areas": null,
            "grid_template_columns": null,
            "grid_template_rows": null,
            "height": null,
            "justify_content": null,
            "justify_items": null,
            "left": null,
            "margin": null,
            "max_height": null,
            "max_width": null,
            "min_height": null,
            "min_width": null,
            "object_fit": null,
            "object_position": null,
            "order": null,
            "overflow": null,
            "overflow_x": null,
            "overflow_y": null,
            "padding": null,
            "right": null,
            "top": null,
            "visibility": null,
            "width": null
          }
        },
        "e23a09f1bd2e466495f5d49f700a6803": {
          "model_module": "@jupyter-widgets/controls",
          "model_name": "DescriptionStyleModel",
          "model_module_version": "1.5.0",
          "state": {
            "_model_module": "@jupyter-widgets/controls",
            "_model_module_version": "1.5.0",
            "_model_name": "DescriptionStyleModel",
            "_view_count": null,
            "_view_module": "@jupyter-widgets/base",
            "_view_module_version": "1.2.0",
            "_view_name": "StyleView",
            "description_width": ""
          }
        },
        "d74438c689e34a4a8900d4117145325f": {
          "model_module": "@jupyter-widgets/base",
          "model_name": "LayoutModel",
          "model_module_version": "1.2.0",
          "state": {
            "_model_module": "@jupyter-widgets/base",
            "_model_module_version": "1.2.0",
            "_model_name": "LayoutModel",
            "_view_count": null,
            "_view_module": "@jupyter-widgets/base",
            "_view_module_version": "1.2.0",
            "_view_name": "LayoutView",
            "align_content": null,
            "align_items": null,
            "align_self": null,
            "border": null,
            "bottom": null,
            "display": null,
            "flex": null,
            "flex_flow": null,
            "grid_area": null,
            "grid_auto_columns": null,
            "grid_auto_flow": null,
            "grid_auto_rows": null,
            "grid_column": null,
            "grid_gap": null,
            "grid_row": null,
            "grid_template_areas": null,
            "grid_template_columns": null,
            "grid_template_rows": null,
            "height": null,
            "justify_content": null,
            "justify_items": null,
            "left": null,
            "margin": null,
            "max_height": null,
            "max_width": null,
            "min_height": null,
            "min_width": null,
            "object_fit": null,
            "object_position": null,
            "order": null,
            "overflow": null,
            "overflow_x": null,
            "overflow_y": null,
            "padding": null,
            "right": null,
            "top": null,
            "visibility": null,
            "width": null
          }
        },
        "2d58456d50dd4d9bb630db049c686257": {
          "model_module": "@jupyter-widgets/controls",
          "model_name": "ProgressStyleModel",
          "model_module_version": "1.5.0",
          "state": {
            "_model_module": "@jupyter-widgets/controls",
            "_model_module_version": "1.5.0",
            "_model_name": "ProgressStyleModel",
            "_view_count": null,
            "_view_module": "@jupyter-widgets/base",
            "_view_module_version": "1.2.0",
            "_view_name": "StyleView",
            "bar_color": null,
            "description_width": ""
          }
        },
        "8daf6a199ed9478b9743af995ae65ced": {
          "model_module": "@jupyter-widgets/base",
          "model_name": "LayoutModel",
          "model_module_version": "1.2.0",
          "state": {
            "_model_module": "@jupyter-widgets/base",
            "_model_module_version": "1.2.0",
            "_model_name": "LayoutModel",
            "_view_count": null,
            "_view_module": "@jupyter-widgets/base",
            "_view_module_version": "1.2.0",
            "_view_name": "LayoutView",
            "align_content": null,
            "align_items": null,
            "align_self": null,
            "border": null,
            "bottom": null,
            "display": null,
            "flex": null,
            "flex_flow": null,
            "grid_area": null,
            "grid_auto_columns": null,
            "grid_auto_flow": null,
            "grid_auto_rows": null,
            "grid_column": null,
            "grid_gap": null,
            "grid_row": null,
            "grid_template_areas": null,
            "grid_template_columns": null,
            "grid_template_rows": null,
            "height": null,
            "justify_content": null,
            "justify_items": null,
            "left": null,
            "margin": null,
            "max_height": null,
            "max_width": null,
            "min_height": null,
            "min_width": null,
            "object_fit": null,
            "object_position": null,
            "order": null,
            "overflow": null,
            "overflow_x": null,
            "overflow_y": null,
            "padding": null,
            "right": null,
            "top": null,
            "visibility": null,
            "width": null
          }
        },
        "423da146f52d4e8eaf58865fe79dbead": {
          "model_module": "@jupyter-widgets/controls",
          "model_name": "DescriptionStyleModel",
          "model_module_version": "1.5.0",
          "state": {
            "_model_module": "@jupyter-widgets/controls",
            "_model_module_version": "1.5.0",
            "_model_name": "DescriptionStyleModel",
            "_view_count": null,
            "_view_module": "@jupyter-widgets/base",
            "_view_module_version": "1.2.0",
            "_view_name": "StyleView",
            "description_width": ""
          }
        },
        "40cf3799aa9a48348fc6b2d52c22b228": {
          "model_module": "@jupyter-widgets/controls",
          "model_name": "HBoxModel",
          "model_module_version": "1.5.0",
          "state": {
            "_dom_classes": [],
            "_model_module": "@jupyter-widgets/controls",
            "_model_module_version": "1.5.0",
            "_model_name": "HBoxModel",
            "_view_count": null,
            "_view_module": "@jupyter-widgets/controls",
            "_view_module_version": "1.5.0",
            "_view_name": "HBoxView",
            "box_style": "",
            "children": [
              "IPY_MODEL_08b1613032dc4bd491db84566509683d",
              "IPY_MODEL_39725a984f1a44bc82f148a99a39afc8",
              "IPY_MODEL_89090bcef3c540c69ad9e56dddaa6362"
            ],
            "layout": "IPY_MODEL_533e54e5e7ce4433931e82b905f0c008"
          }
        },
        "08b1613032dc4bd491db84566509683d": {
          "model_module": "@jupyter-widgets/controls",
          "model_name": "HTMLModel",
          "model_module_version": "1.5.0",
          "state": {
            "_dom_classes": [],
            "_model_module": "@jupyter-widgets/controls",
            "_model_module_version": "1.5.0",
            "_model_name": "HTMLModel",
            "_view_count": null,
            "_view_module": "@jupyter-widgets/controls",
            "_view_module_version": "1.5.0",
            "_view_name": "HTMLView",
            "description": "",
            "description_tooltip": null,
            "layout": "IPY_MODEL_db7f57218f3f4506b4756d300142e4da",
            "placeholder": "​",
            "style": "IPY_MODEL_b95c5ecb80704eddafeda7dd30920df9",
            "value": "Downloading (…)cial_tokens_map.json: 100%"
          }
        },
        "39725a984f1a44bc82f148a99a39afc8": {
          "model_module": "@jupyter-widgets/controls",
          "model_name": "FloatProgressModel",
          "model_module_version": "1.5.0",
          "state": {
            "_dom_classes": [],
            "_model_module": "@jupyter-widgets/controls",
            "_model_module_version": "1.5.0",
            "_model_name": "FloatProgressModel",
            "_view_count": null,
            "_view_module": "@jupyter-widgets/controls",
            "_view_module_version": "1.5.0",
            "_view_name": "ProgressView",
            "bar_style": "success",
            "description": "",
            "description_tooltip": null,
            "layout": "IPY_MODEL_af31460e6baf482d9ba353e8f8b1142d",
            "max": 112,
            "min": 0,
            "orientation": "horizontal",
            "style": "IPY_MODEL_a28b66d733514e70a8bec0728559bc68",
            "value": 112
          }
        },
        "89090bcef3c540c69ad9e56dddaa6362": {
          "model_module": "@jupyter-widgets/controls",
          "model_name": "HTMLModel",
          "model_module_version": "1.5.0",
          "state": {
            "_dom_classes": [],
            "_model_module": "@jupyter-widgets/controls",
            "_model_module_version": "1.5.0",
            "_model_name": "HTMLModel",
            "_view_count": null,
            "_view_module": "@jupyter-widgets/controls",
            "_view_module_version": "1.5.0",
            "_view_name": "HTMLView",
            "description": "",
            "description_tooltip": null,
            "layout": "IPY_MODEL_d209f03915584598a95950ce23f245b8",
            "placeholder": "​",
            "style": "IPY_MODEL_6b61a13be6834dfaa6a6d23065b1e284",
            "value": " 112/112 [00:00&lt;00:00, 10.0kB/s]"
          }
        },
        "533e54e5e7ce4433931e82b905f0c008": {
          "model_module": "@jupyter-widgets/base",
          "model_name": "LayoutModel",
          "model_module_version": "1.2.0",
          "state": {
            "_model_module": "@jupyter-widgets/base",
            "_model_module_version": "1.2.0",
            "_model_name": "LayoutModel",
            "_view_count": null,
            "_view_module": "@jupyter-widgets/base",
            "_view_module_version": "1.2.0",
            "_view_name": "LayoutView",
            "align_content": null,
            "align_items": null,
            "align_self": null,
            "border": null,
            "bottom": null,
            "display": null,
            "flex": null,
            "flex_flow": null,
            "grid_area": null,
            "grid_auto_columns": null,
            "grid_auto_flow": null,
            "grid_auto_rows": null,
            "grid_column": null,
            "grid_gap": null,
            "grid_row": null,
            "grid_template_areas": null,
            "grid_template_columns": null,
            "grid_template_rows": null,
            "height": null,
            "justify_content": null,
            "justify_items": null,
            "left": null,
            "margin": null,
            "max_height": null,
            "max_width": null,
            "min_height": null,
            "min_width": null,
            "object_fit": null,
            "object_position": null,
            "order": null,
            "overflow": null,
            "overflow_x": null,
            "overflow_y": null,
            "padding": null,
            "right": null,
            "top": null,
            "visibility": null,
            "width": null
          }
        },
        "db7f57218f3f4506b4756d300142e4da": {
          "model_module": "@jupyter-widgets/base",
          "model_name": "LayoutModel",
          "model_module_version": "1.2.0",
          "state": {
            "_model_module": "@jupyter-widgets/base",
            "_model_module_version": "1.2.0",
            "_model_name": "LayoutModel",
            "_view_count": null,
            "_view_module": "@jupyter-widgets/base",
            "_view_module_version": "1.2.0",
            "_view_name": "LayoutView",
            "align_content": null,
            "align_items": null,
            "align_self": null,
            "border": null,
            "bottom": null,
            "display": null,
            "flex": null,
            "flex_flow": null,
            "grid_area": null,
            "grid_auto_columns": null,
            "grid_auto_flow": null,
            "grid_auto_rows": null,
            "grid_column": null,
            "grid_gap": null,
            "grid_row": null,
            "grid_template_areas": null,
            "grid_template_columns": null,
            "grid_template_rows": null,
            "height": null,
            "justify_content": null,
            "justify_items": null,
            "left": null,
            "margin": null,
            "max_height": null,
            "max_width": null,
            "min_height": null,
            "min_width": null,
            "object_fit": null,
            "object_position": null,
            "order": null,
            "overflow": null,
            "overflow_x": null,
            "overflow_y": null,
            "padding": null,
            "right": null,
            "top": null,
            "visibility": null,
            "width": null
          }
        },
        "b95c5ecb80704eddafeda7dd30920df9": {
          "model_module": "@jupyter-widgets/controls",
          "model_name": "DescriptionStyleModel",
          "model_module_version": "1.5.0",
          "state": {
            "_model_module": "@jupyter-widgets/controls",
            "_model_module_version": "1.5.0",
            "_model_name": "DescriptionStyleModel",
            "_view_count": null,
            "_view_module": "@jupyter-widgets/base",
            "_view_module_version": "1.2.0",
            "_view_name": "StyleView",
            "description_width": ""
          }
        },
        "af31460e6baf482d9ba353e8f8b1142d": {
          "model_module": "@jupyter-widgets/base",
          "model_name": "LayoutModel",
          "model_module_version": "1.2.0",
          "state": {
            "_model_module": "@jupyter-widgets/base",
            "_model_module_version": "1.2.0",
            "_model_name": "LayoutModel",
            "_view_count": null,
            "_view_module": "@jupyter-widgets/base",
            "_view_module_version": "1.2.0",
            "_view_name": "LayoutView",
            "align_content": null,
            "align_items": null,
            "align_self": null,
            "border": null,
            "bottom": null,
            "display": null,
            "flex": null,
            "flex_flow": null,
            "grid_area": null,
            "grid_auto_columns": null,
            "grid_auto_flow": null,
            "grid_auto_rows": null,
            "grid_column": null,
            "grid_gap": null,
            "grid_row": null,
            "grid_template_areas": null,
            "grid_template_columns": null,
            "grid_template_rows": null,
            "height": null,
            "justify_content": null,
            "justify_items": null,
            "left": null,
            "margin": null,
            "max_height": null,
            "max_width": null,
            "min_height": null,
            "min_width": null,
            "object_fit": null,
            "object_position": null,
            "order": null,
            "overflow": null,
            "overflow_x": null,
            "overflow_y": null,
            "padding": null,
            "right": null,
            "top": null,
            "visibility": null,
            "width": null
          }
        },
        "a28b66d733514e70a8bec0728559bc68": {
          "model_module": "@jupyter-widgets/controls",
          "model_name": "ProgressStyleModel",
          "model_module_version": "1.5.0",
          "state": {
            "_model_module": "@jupyter-widgets/controls",
            "_model_module_version": "1.5.0",
            "_model_name": "ProgressStyleModel",
            "_view_count": null,
            "_view_module": "@jupyter-widgets/base",
            "_view_module_version": "1.2.0",
            "_view_name": "StyleView",
            "bar_color": null,
            "description_width": ""
          }
        },
        "d209f03915584598a95950ce23f245b8": {
          "model_module": "@jupyter-widgets/base",
          "model_name": "LayoutModel",
          "model_module_version": "1.2.0",
          "state": {
            "_model_module": "@jupyter-widgets/base",
            "_model_module_version": "1.2.0",
            "_model_name": "LayoutModel",
            "_view_count": null,
            "_view_module": "@jupyter-widgets/base",
            "_view_module_version": "1.2.0",
            "_view_name": "LayoutView",
            "align_content": null,
            "align_items": null,
            "align_self": null,
            "border": null,
            "bottom": null,
            "display": null,
            "flex": null,
            "flex_flow": null,
            "grid_area": null,
            "grid_auto_columns": null,
            "grid_auto_flow": null,
            "grid_auto_rows": null,
            "grid_column": null,
            "grid_gap": null,
            "grid_row": null,
            "grid_template_areas": null,
            "grid_template_columns": null,
            "grid_template_rows": null,
            "height": null,
            "justify_content": null,
            "justify_items": null,
            "left": null,
            "margin": null,
            "max_height": null,
            "max_width": null,
            "min_height": null,
            "min_width": null,
            "object_fit": null,
            "object_position": null,
            "order": null,
            "overflow": null,
            "overflow_x": null,
            "overflow_y": null,
            "padding": null,
            "right": null,
            "top": null,
            "visibility": null,
            "width": null
          }
        },
        "6b61a13be6834dfaa6a6d23065b1e284": {
          "model_module": "@jupyter-widgets/controls",
          "model_name": "DescriptionStyleModel",
          "model_module_version": "1.5.0",
          "state": {
            "_model_module": "@jupyter-widgets/controls",
            "_model_module_version": "1.5.0",
            "_model_name": "DescriptionStyleModel",
            "_view_count": null,
            "_view_module": "@jupyter-widgets/base",
            "_view_module_version": "1.2.0",
            "_view_name": "StyleView",
            "description_width": ""
          }
        },
        "b082adf4f7c74741b85504e66ec4be9f": {
          "model_module": "@jupyter-widgets/controls",
          "model_name": "HBoxModel",
          "model_module_version": "1.5.0",
          "state": {
            "_dom_classes": [],
            "_model_module": "@jupyter-widgets/controls",
            "_model_module_version": "1.5.0",
            "_model_name": "HBoxModel",
            "_view_count": null,
            "_view_module": "@jupyter-widgets/controls",
            "_view_module_version": "1.5.0",
            "_view_name": "HBoxView",
            "box_style": "",
            "children": [
              "IPY_MODEL_fda19cd98b9d4b149e5ac4d0170c603f",
              "IPY_MODEL_78411d8e369b40ebaec29a587ea74628",
              "IPY_MODEL_83bd5d32fe674ad8a9ccd2418d9f1489"
            ],
            "layout": "IPY_MODEL_a098381e21e047bf939e139f4ca1568a"
          }
        },
        "fda19cd98b9d4b149e5ac4d0170c603f": {
          "model_module": "@jupyter-widgets/controls",
          "model_name": "HTMLModel",
          "model_module_version": "1.5.0",
          "state": {
            "_dom_classes": [],
            "_model_module": "@jupyter-widgets/controls",
            "_model_module_version": "1.5.0",
            "_model_name": "HTMLModel",
            "_view_count": null,
            "_view_module": "@jupyter-widgets/controls",
            "_view_module_version": "1.5.0",
            "_view_name": "HTMLView",
            "description": "",
            "description_tooltip": null,
            "layout": "IPY_MODEL_bb12ec3dbffa44469cda40e96fa26c5d",
            "placeholder": "​",
            "style": "IPY_MODEL_1c4206584ff740258808c7dc38c492f0",
            "value": "Downloading (…)okenizer_config.json: 100%"
          }
        },
        "78411d8e369b40ebaec29a587ea74628": {
          "model_module": "@jupyter-widgets/controls",
          "model_name": "FloatProgressModel",
          "model_module_version": "1.5.0",
          "state": {
            "_dom_classes": [],
            "_model_module": "@jupyter-widgets/controls",
            "_model_module_version": "1.5.0",
            "_model_name": "FloatProgressModel",
            "_view_count": null,
            "_view_module": "@jupyter-widgets/controls",
            "_view_module_version": "1.5.0",
            "_view_name": "ProgressView",
            "bar_style": "success",
            "description": "",
            "description_tooltip": null,
            "layout": "IPY_MODEL_c0db7b22470b4ba48926aa80c9acb858",
            "max": 43,
            "min": 0,
            "orientation": "horizontal",
            "style": "IPY_MODEL_bf0b30c4a5f44849836a6f25edc47f71",
            "value": 43
          }
        },
        "83bd5d32fe674ad8a9ccd2418d9f1489": {
          "model_module": "@jupyter-widgets/controls",
          "model_name": "HTMLModel",
          "model_module_version": "1.5.0",
          "state": {
            "_dom_classes": [],
            "_model_module": "@jupyter-widgets/controls",
            "_model_module_version": "1.5.0",
            "_model_name": "HTMLModel",
            "_view_count": null,
            "_view_module": "@jupyter-widgets/controls",
            "_view_module_version": "1.5.0",
            "_view_name": "HTMLView",
            "description": "",
            "description_tooltip": null,
            "layout": "IPY_MODEL_e42d16a11fa646c494c07a5042a99250",
            "placeholder": "​",
            "style": "IPY_MODEL_b8b8139bc51f4427b97015ddae6c4e8e",
            "value": " 43.0/43.0 [00:00&lt;00:00, 4.15kB/s]"
          }
        },
        "a098381e21e047bf939e139f4ca1568a": {
          "model_module": "@jupyter-widgets/base",
          "model_name": "LayoutModel",
          "model_module_version": "1.2.0",
          "state": {
            "_model_module": "@jupyter-widgets/base",
            "_model_module_version": "1.2.0",
            "_model_name": "LayoutModel",
            "_view_count": null,
            "_view_module": "@jupyter-widgets/base",
            "_view_module_version": "1.2.0",
            "_view_name": "LayoutView",
            "align_content": null,
            "align_items": null,
            "align_self": null,
            "border": null,
            "bottom": null,
            "display": null,
            "flex": null,
            "flex_flow": null,
            "grid_area": null,
            "grid_auto_columns": null,
            "grid_auto_flow": null,
            "grid_auto_rows": null,
            "grid_column": null,
            "grid_gap": null,
            "grid_row": null,
            "grid_template_areas": null,
            "grid_template_columns": null,
            "grid_template_rows": null,
            "height": null,
            "justify_content": null,
            "justify_items": null,
            "left": null,
            "margin": null,
            "max_height": null,
            "max_width": null,
            "min_height": null,
            "min_width": null,
            "object_fit": null,
            "object_position": null,
            "order": null,
            "overflow": null,
            "overflow_x": null,
            "overflow_y": null,
            "padding": null,
            "right": null,
            "top": null,
            "visibility": null,
            "width": null
          }
        },
        "bb12ec3dbffa44469cda40e96fa26c5d": {
          "model_module": "@jupyter-widgets/base",
          "model_name": "LayoutModel",
          "model_module_version": "1.2.0",
          "state": {
            "_model_module": "@jupyter-widgets/base",
            "_model_module_version": "1.2.0",
            "_model_name": "LayoutModel",
            "_view_count": null,
            "_view_module": "@jupyter-widgets/base",
            "_view_module_version": "1.2.0",
            "_view_name": "LayoutView",
            "align_content": null,
            "align_items": null,
            "align_self": null,
            "border": null,
            "bottom": null,
            "display": null,
            "flex": null,
            "flex_flow": null,
            "grid_area": null,
            "grid_auto_columns": null,
            "grid_auto_flow": null,
            "grid_auto_rows": null,
            "grid_column": null,
            "grid_gap": null,
            "grid_row": null,
            "grid_template_areas": null,
            "grid_template_columns": null,
            "grid_template_rows": null,
            "height": null,
            "justify_content": null,
            "justify_items": null,
            "left": null,
            "margin": null,
            "max_height": null,
            "max_width": null,
            "min_height": null,
            "min_width": null,
            "object_fit": null,
            "object_position": null,
            "order": null,
            "overflow": null,
            "overflow_x": null,
            "overflow_y": null,
            "padding": null,
            "right": null,
            "top": null,
            "visibility": null,
            "width": null
          }
        },
        "1c4206584ff740258808c7dc38c492f0": {
          "model_module": "@jupyter-widgets/controls",
          "model_name": "DescriptionStyleModel",
          "model_module_version": "1.5.0",
          "state": {
            "_model_module": "@jupyter-widgets/controls",
            "_model_module_version": "1.5.0",
            "_model_name": "DescriptionStyleModel",
            "_view_count": null,
            "_view_module": "@jupyter-widgets/base",
            "_view_module_version": "1.2.0",
            "_view_name": "StyleView",
            "description_width": ""
          }
        },
        "c0db7b22470b4ba48926aa80c9acb858": {
          "model_module": "@jupyter-widgets/base",
          "model_name": "LayoutModel",
          "model_module_version": "1.2.0",
          "state": {
            "_model_module": "@jupyter-widgets/base",
            "_model_module_version": "1.2.0",
            "_model_name": "LayoutModel",
            "_view_count": null,
            "_view_module": "@jupyter-widgets/base",
            "_view_module_version": "1.2.0",
            "_view_name": "LayoutView",
            "align_content": null,
            "align_items": null,
            "align_self": null,
            "border": null,
            "bottom": null,
            "display": null,
            "flex": null,
            "flex_flow": null,
            "grid_area": null,
            "grid_auto_columns": null,
            "grid_auto_flow": null,
            "grid_auto_rows": null,
            "grid_column": null,
            "grid_gap": null,
            "grid_row": null,
            "grid_template_areas": null,
            "grid_template_columns": null,
            "grid_template_rows": null,
            "height": null,
            "justify_content": null,
            "justify_items": null,
            "left": null,
            "margin": null,
            "max_height": null,
            "max_width": null,
            "min_height": null,
            "min_width": null,
            "object_fit": null,
            "object_position": null,
            "order": null,
            "overflow": null,
            "overflow_x": null,
            "overflow_y": null,
            "padding": null,
            "right": null,
            "top": null,
            "visibility": null,
            "width": null
          }
        },
        "bf0b30c4a5f44849836a6f25edc47f71": {
          "model_module": "@jupyter-widgets/controls",
          "model_name": "ProgressStyleModel",
          "model_module_version": "1.5.0",
          "state": {
            "_model_module": "@jupyter-widgets/controls",
            "_model_module_version": "1.5.0",
            "_model_name": "ProgressStyleModel",
            "_view_count": null,
            "_view_module": "@jupyter-widgets/base",
            "_view_module_version": "1.2.0",
            "_view_name": "StyleView",
            "bar_color": null,
            "description_width": ""
          }
        },
        "e42d16a11fa646c494c07a5042a99250": {
          "model_module": "@jupyter-widgets/base",
          "model_name": "LayoutModel",
          "model_module_version": "1.2.0",
          "state": {
            "_model_module": "@jupyter-widgets/base",
            "_model_module_version": "1.2.0",
            "_model_name": "LayoutModel",
            "_view_count": null,
            "_view_module": "@jupyter-widgets/base",
            "_view_module_version": "1.2.0",
            "_view_name": "LayoutView",
            "align_content": null,
            "align_items": null,
            "align_self": null,
            "border": null,
            "bottom": null,
            "display": null,
            "flex": null,
            "flex_flow": null,
            "grid_area": null,
            "grid_auto_columns": null,
            "grid_auto_flow": null,
            "grid_auto_rows": null,
            "grid_column": null,
            "grid_gap": null,
            "grid_row": null,
            "grid_template_areas": null,
            "grid_template_columns": null,
            "grid_template_rows": null,
            "height": null,
            "justify_content": null,
            "justify_items": null,
            "left": null,
            "margin": null,
            "max_height": null,
            "max_width": null,
            "min_height": null,
            "min_width": null,
            "object_fit": null,
            "object_position": null,
            "order": null,
            "overflow": null,
            "overflow_x": null,
            "overflow_y": null,
            "padding": null,
            "right": null,
            "top": null,
            "visibility": null,
            "width": null
          }
        },
        "b8b8139bc51f4427b97015ddae6c4e8e": {
          "model_module": "@jupyter-widgets/controls",
          "model_name": "DescriptionStyleModel",
          "model_module_version": "1.5.0",
          "state": {
            "_model_module": "@jupyter-widgets/controls",
            "_model_module_version": "1.5.0",
            "_model_name": "DescriptionStyleModel",
            "_view_count": null,
            "_view_module": "@jupyter-widgets/base",
            "_view_module_version": "1.2.0",
            "_view_name": "StyleView",
            "description_width": ""
          }
        },
        "21eb04decd7c47199c6b0f7c33c0cacc": {
          "model_module": "@jupyter-widgets/controls",
          "model_name": "HBoxModel",
          "model_module_version": "1.5.0",
          "state": {
            "_dom_classes": [],
            "_model_module": "@jupyter-widgets/controls",
            "_model_module_version": "1.5.0",
            "_model_name": "HBoxModel",
            "_view_count": null,
            "_view_module": "@jupyter-widgets/controls",
            "_view_module_version": "1.5.0",
            "_view_name": "HBoxView",
            "box_style": "",
            "children": [
              "IPY_MODEL_3e7f1d9efdbc4d7e8b27459d03283a47",
              "IPY_MODEL_76ff3e2228824326b2dbcb29f28ef8c7",
              "IPY_MODEL_8b217e8ad64441e8a88044f9f287f9d8"
            ],
            "layout": "IPY_MODEL_9a3c55d0776b40189cebeb00949af127"
          }
        },
        "3e7f1d9efdbc4d7e8b27459d03283a47": {
          "model_module": "@jupyter-widgets/controls",
          "model_name": "HTMLModel",
          "model_module_version": "1.5.0",
          "state": {
            "_dom_classes": [],
            "_model_module": "@jupyter-widgets/controls",
            "_model_module_version": "1.5.0",
            "_model_name": "HTMLModel",
            "_view_count": null,
            "_view_module": "@jupyter-widgets/controls",
            "_view_module_version": "1.5.0",
            "_view_name": "HTMLView",
            "description": "",
            "description_tooltip": null,
            "layout": "IPY_MODEL_10b6327a73044acc9a946cc4257ad19d",
            "placeholder": "​",
            "style": "IPY_MODEL_355ae710aec54557a17f16e76d2f016b",
            "value": "Downloading (…)lve/main/config.json: 100%"
          }
        },
        "76ff3e2228824326b2dbcb29f28ef8c7": {
          "model_module": "@jupyter-widgets/controls",
          "model_name": "FloatProgressModel",
          "model_module_version": "1.5.0",
          "state": {
            "_dom_classes": [],
            "_model_module": "@jupyter-widgets/controls",
            "_model_module_version": "1.5.0",
            "_model_name": "FloatProgressModel",
            "_view_count": null,
            "_view_module": "@jupyter-widgets/controls",
            "_view_module_version": "1.5.0",
            "_view_name": "ProgressView",
            "bar_style": "success",
            "description": "",
            "description_tooltip": null,
            "layout": "IPY_MODEL_e8040c9cb1464502a438ed380fdb53f2",
            "max": 647,
            "min": 0,
            "orientation": "horizontal",
            "style": "IPY_MODEL_bd36b4aeaf9141e6974c650b9e1b1873",
            "value": 647
          }
        },
        "8b217e8ad64441e8a88044f9f287f9d8": {
          "model_module": "@jupyter-widgets/controls",
          "model_name": "HTMLModel",
          "model_module_version": "1.5.0",
          "state": {
            "_dom_classes": [],
            "_model_module": "@jupyter-widgets/controls",
            "_model_module_version": "1.5.0",
            "_model_name": "HTMLModel",
            "_view_count": null,
            "_view_module": "@jupyter-widgets/controls",
            "_view_module_version": "1.5.0",
            "_view_name": "HTMLView",
            "description": "",
            "description_tooltip": null,
            "layout": "IPY_MODEL_e8520069fc22400083b7e5cdd19de47c",
            "placeholder": "​",
            "style": "IPY_MODEL_b3679d42559f4268aa949f53799b1760",
            "value": " 647/647 [00:00&lt;00:00, 47.0kB/s]"
          }
        },
        "9a3c55d0776b40189cebeb00949af127": {
          "model_module": "@jupyter-widgets/base",
          "model_name": "LayoutModel",
          "model_module_version": "1.2.0",
          "state": {
            "_model_module": "@jupyter-widgets/base",
            "_model_module_version": "1.2.0",
            "_model_name": "LayoutModel",
            "_view_count": null,
            "_view_module": "@jupyter-widgets/base",
            "_view_module_version": "1.2.0",
            "_view_name": "LayoutView",
            "align_content": null,
            "align_items": null,
            "align_self": null,
            "border": null,
            "bottom": null,
            "display": null,
            "flex": null,
            "flex_flow": null,
            "grid_area": null,
            "grid_auto_columns": null,
            "grid_auto_flow": null,
            "grid_auto_rows": null,
            "grid_column": null,
            "grid_gap": null,
            "grid_row": null,
            "grid_template_areas": null,
            "grid_template_columns": null,
            "grid_template_rows": null,
            "height": null,
            "justify_content": null,
            "justify_items": null,
            "left": null,
            "margin": null,
            "max_height": null,
            "max_width": null,
            "min_height": null,
            "min_width": null,
            "object_fit": null,
            "object_position": null,
            "order": null,
            "overflow": null,
            "overflow_x": null,
            "overflow_y": null,
            "padding": null,
            "right": null,
            "top": null,
            "visibility": null,
            "width": null
          }
        },
        "10b6327a73044acc9a946cc4257ad19d": {
          "model_module": "@jupyter-widgets/base",
          "model_name": "LayoutModel",
          "model_module_version": "1.2.0",
          "state": {
            "_model_module": "@jupyter-widgets/base",
            "_model_module_version": "1.2.0",
            "_model_name": "LayoutModel",
            "_view_count": null,
            "_view_module": "@jupyter-widgets/base",
            "_view_module_version": "1.2.0",
            "_view_name": "LayoutView",
            "align_content": null,
            "align_items": null,
            "align_self": null,
            "border": null,
            "bottom": null,
            "display": null,
            "flex": null,
            "flex_flow": null,
            "grid_area": null,
            "grid_auto_columns": null,
            "grid_auto_flow": null,
            "grid_auto_rows": null,
            "grid_column": null,
            "grid_gap": null,
            "grid_row": null,
            "grid_template_areas": null,
            "grid_template_columns": null,
            "grid_template_rows": null,
            "height": null,
            "justify_content": null,
            "justify_items": null,
            "left": null,
            "margin": null,
            "max_height": null,
            "max_width": null,
            "min_height": null,
            "min_width": null,
            "object_fit": null,
            "object_position": null,
            "order": null,
            "overflow": null,
            "overflow_x": null,
            "overflow_y": null,
            "padding": null,
            "right": null,
            "top": null,
            "visibility": null,
            "width": null
          }
        },
        "355ae710aec54557a17f16e76d2f016b": {
          "model_module": "@jupyter-widgets/controls",
          "model_name": "DescriptionStyleModel",
          "model_module_version": "1.5.0",
          "state": {
            "_model_module": "@jupyter-widgets/controls",
            "_model_module_version": "1.5.0",
            "_model_name": "DescriptionStyleModel",
            "_view_count": null,
            "_view_module": "@jupyter-widgets/base",
            "_view_module_version": "1.2.0",
            "_view_name": "StyleView",
            "description_width": ""
          }
        },
        "e8040c9cb1464502a438ed380fdb53f2": {
          "model_module": "@jupyter-widgets/base",
          "model_name": "LayoutModel",
          "model_module_version": "1.2.0",
          "state": {
            "_model_module": "@jupyter-widgets/base",
            "_model_module_version": "1.2.0",
            "_model_name": "LayoutModel",
            "_view_count": null,
            "_view_module": "@jupyter-widgets/base",
            "_view_module_version": "1.2.0",
            "_view_name": "LayoutView",
            "align_content": null,
            "align_items": null,
            "align_self": null,
            "border": null,
            "bottom": null,
            "display": null,
            "flex": null,
            "flex_flow": null,
            "grid_area": null,
            "grid_auto_columns": null,
            "grid_auto_flow": null,
            "grid_auto_rows": null,
            "grid_column": null,
            "grid_gap": null,
            "grid_row": null,
            "grid_template_areas": null,
            "grid_template_columns": null,
            "grid_template_rows": null,
            "height": null,
            "justify_content": null,
            "justify_items": null,
            "left": null,
            "margin": null,
            "max_height": null,
            "max_width": null,
            "min_height": null,
            "min_width": null,
            "object_fit": null,
            "object_position": null,
            "order": null,
            "overflow": null,
            "overflow_x": null,
            "overflow_y": null,
            "padding": null,
            "right": null,
            "top": null,
            "visibility": null,
            "width": null
          }
        },
        "bd36b4aeaf9141e6974c650b9e1b1873": {
          "model_module": "@jupyter-widgets/controls",
          "model_name": "ProgressStyleModel",
          "model_module_version": "1.5.0",
          "state": {
            "_model_module": "@jupyter-widgets/controls",
            "_model_module_version": "1.5.0",
            "_model_name": "ProgressStyleModel",
            "_view_count": null,
            "_view_module": "@jupyter-widgets/base",
            "_view_module_version": "1.2.0",
            "_view_name": "StyleView",
            "bar_color": null,
            "description_width": ""
          }
        },
        "e8520069fc22400083b7e5cdd19de47c": {
          "model_module": "@jupyter-widgets/base",
          "model_name": "LayoutModel",
          "model_module_version": "1.2.0",
          "state": {
            "_model_module": "@jupyter-widgets/base",
            "_model_module_version": "1.2.0",
            "_model_name": "LayoutModel",
            "_view_count": null,
            "_view_module": "@jupyter-widgets/base",
            "_view_module_version": "1.2.0",
            "_view_name": "LayoutView",
            "align_content": null,
            "align_items": null,
            "align_self": null,
            "border": null,
            "bottom": null,
            "display": null,
            "flex": null,
            "flex_flow": null,
            "grid_area": null,
            "grid_auto_columns": null,
            "grid_auto_flow": null,
            "grid_auto_rows": null,
            "grid_column": null,
            "grid_gap": null,
            "grid_row": null,
            "grid_template_areas": null,
            "grid_template_columns": null,
            "grid_template_rows": null,
            "height": null,
            "justify_content": null,
            "justify_items": null,
            "left": null,
            "margin": null,
            "max_height": null,
            "max_width": null,
            "min_height": null,
            "min_width": null,
            "object_fit": null,
            "object_position": null,
            "order": null,
            "overflow": null,
            "overflow_x": null,
            "overflow_y": null,
            "padding": null,
            "right": null,
            "top": null,
            "visibility": null,
            "width": null
          }
        },
        "b3679d42559f4268aa949f53799b1760": {
          "model_module": "@jupyter-widgets/controls",
          "model_name": "DescriptionStyleModel",
          "model_module_version": "1.5.0",
          "state": {
            "_model_module": "@jupyter-widgets/controls",
            "_model_module_version": "1.5.0",
            "_model_name": "DescriptionStyleModel",
            "_view_count": null,
            "_view_module": "@jupyter-widgets/base",
            "_view_module_version": "1.2.0",
            "_view_name": "StyleView",
            "description_width": ""
          }
        },
        "a2d4b667805f42ddb40c6c3a1752a3e0": {
          "model_module": "@jupyter-widgets/controls",
          "model_name": "HBoxModel",
          "model_module_version": "1.5.0",
          "state": {
            "_dom_classes": [],
            "_model_module": "@jupyter-widgets/controls",
            "_model_module_version": "1.5.0",
            "_model_name": "HBoxModel",
            "_view_count": null,
            "_view_module": "@jupyter-widgets/controls",
            "_view_module_version": "1.5.0",
            "_view_name": "HBoxView",
            "box_style": "",
            "children": [
              "IPY_MODEL_49bb72711ffd40139ee571d52c626f5d",
              "IPY_MODEL_799550da467d4fedad0895887e08689f",
              "IPY_MODEL_7ff851c45ecf44ceaf78ae9deabce36b"
            ],
            "layout": "IPY_MODEL_a204e2dc3ba146a5a961ed1e9ca96cd1"
          }
        },
        "49bb72711ffd40139ee571d52c626f5d": {
          "model_module": "@jupyter-widgets/controls",
          "model_name": "HTMLModel",
          "model_module_version": "1.5.0",
          "state": {
            "_dom_classes": [],
            "_model_module": "@jupyter-widgets/controls",
            "_model_module_version": "1.5.0",
            "_model_name": "HTMLModel",
            "_view_count": null,
            "_view_module": "@jupyter-widgets/controls",
            "_view_module_version": "1.5.0",
            "_view_name": "HTMLView",
            "description": "",
            "description_tooltip": null,
            "layout": "IPY_MODEL_a974f2f4e06a45619369c41b32164e94",
            "placeholder": "​",
            "style": "IPY_MODEL_a705e69b4f554652ae0012d9585110ec",
            "value": "Downloading pytorch_model.bin: 100%"
          }
        },
        "799550da467d4fedad0895887e08689f": {
          "model_module": "@jupyter-widgets/controls",
          "model_name": "FloatProgressModel",
          "model_module_version": "1.5.0",
          "state": {
            "_dom_classes": [],
            "_model_module": "@jupyter-widgets/controls",
            "_model_module_version": "1.5.0",
            "_model_name": "FloatProgressModel",
            "_view_count": null,
            "_view_module": "@jupyter-widgets/controls",
            "_view_module_version": "1.5.0",
            "_view_name": "ProgressView",
            "bar_style": "success",
            "description": "",
            "description_tooltip": null,
            "layout": "IPY_MODEL_0e76e0da18534ca3a0986afadbaba98f",
            "max": 438235074,
            "min": 0,
            "orientation": "horizontal",
            "style": "IPY_MODEL_af0a1438cb294f1ea0bff48ceb041179",
            "value": 438235074
          }
        },
        "7ff851c45ecf44ceaf78ae9deabce36b": {
          "model_module": "@jupyter-widgets/controls",
          "model_name": "HTMLModel",
          "model_module_version": "1.5.0",
          "state": {
            "_dom_classes": [],
            "_model_module": "@jupyter-widgets/controls",
            "_model_module_version": "1.5.0",
            "_model_name": "HTMLModel",
            "_view_count": null,
            "_view_module": "@jupyter-widgets/controls",
            "_view_module_version": "1.5.0",
            "_view_name": "HTMLView",
            "description": "",
            "description_tooltip": null,
            "layout": "IPY_MODEL_3a5f595b42bb4596886600bc621e65d3",
            "placeholder": "​",
            "style": "IPY_MODEL_b502cceaf74545f4a4ef44fea11519b9",
            "value": " 438M/438M [00:02&lt;00:00, 229MB/s]"
          }
        },
        "a204e2dc3ba146a5a961ed1e9ca96cd1": {
          "model_module": "@jupyter-widgets/base",
          "model_name": "LayoutModel",
          "model_module_version": "1.2.0",
          "state": {
            "_model_module": "@jupyter-widgets/base",
            "_model_module_version": "1.2.0",
            "_model_name": "LayoutModel",
            "_view_count": null,
            "_view_module": "@jupyter-widgets/base",
            "_view_module_version": "1.2.0",
            "_view_name": "LayoutView",
            "align_content": null,
            "align_items": null,
            "align_self": null,
            "border": null,
            "bottom": null,
            "display": null,
            "flex": null,
            "flex_flow": null,
            "grid_area": null,
            "grid_auto_columns": null,
            "grid_auto_flow": null,
            "grid_auto_rows": null,
            "grid_column": null,
            "grid_gap": null,
            "grid_row": null,
            "grid_template_areas": null,
            "grid_template_columns": null,
            "grid_template_rows": null,
            "height": null,
            "justify_content": null,
            "justify_items": null,
            "left": null,
            "margin": null,
            "max_height": null,
            "max_width": null,
            "min_height": null,
            "min_width": null,
            "object_fit": null,
            "object_position": null,
            "order": null,
            "overflow": null,
            "overflow_x": null,
            "overflow_y": null,
            "padding": null,
            "right": null,
            "top": null,
            "visibility": null,
            "width": null
          }
        },
        "a974f2f4e06a45619369c41b32164e94": {
          "model_module": "@jupyter-widgets/base",
          "model_name": "LayoutModel",
          "model_module_version": "1.2.0",
          "state": {
            "_model_module": "@jupyter-widgets/base",
            "_model_module_version": "1.2.0",
            "_model_name": "LayoutModel",
            "_view_count": null,
            "_view_module": "@jupyter-widgets/base",
            "_view_module_version": "1.2.0",
            "_view_name": "LayoutView",
            "align_content": null,
            "align_items": null,
            "align_self": null,
            "border": null,
            "bottom": null,
            "display": null,
            "flex": null,
            "flex_flow": null,
            "grid_area": null,
            "grid_auto_columns": null,
            "grid_auto_flow": null,
            "grid_auto_rows": null,
            "grid_column": null,
            "grid_gap": null,
            "grid_row": null,
            "grid_template_areas": null,
            "grid_template_columns": null,
            "grid_template_rows": null,
            "height": null,
            "justify_content": null,
            "justify_items": null,
            "left": null,
            "margin": null,
            "max_height": null,
            "max_width": null,
            "min_height": null,
            "min_width": null,
            "object_fit": null,
            "object_position": null,
            "order": null,
            "overflow": null,
            "overflow_x": null,
            "overflow_y": null,
            "padding": null,
            "right": null,
            "top": null,
            "visibility": null,
            "width": null
          }
        },
        "a705e69b4f554652ae0012d9585110ec": {
          "model_module": "@jupyter-widgets/controls",
          "model_name": "DescriptionStyleModel",
          "model_module_version": "1.5.0",
          "state": {
            "_model_module": "@jupyter-widgets/controls",
            "_model_module_version": "1.5.0",
            "_model_name": "DescriptionStyleModel",
            "_view_count": null,
            "_view_module": "@jupyter-widgets/base",
            "_view_module_version": "1.2.0",
            "_view_name": "StyleView",
            "description_width": ""
          }
        },
        "0e76e0da18534ca3a0986afadbaba98f": {
          "model_module": "@jupyter-widgets/base",
          "model_name": "LayoutModel",
          "model_module_version": "1.2.0",
          "state": {
            "_model_module": "@jupyter-widgets/base",
            "_model_module_version": "1.2.0",
            "_model_name": "LayoutModel",
            "_view_count": null,
            "_view_module": "@jupyter-widgets/base",
            "_view_module_version": "1.2.0",
            "_view_name": "LayoutView",
            "align_content": null,
            "align_items": null,
            "align_self": null,
            "border": null,
            "bottom": null,
            "display": null,
            "flex": null,
            "flex_flow": null,
            "grid_area": null,
            "grid_auto_columns": null,
            "grid_auto_flow": null,
            "grid_auto_rows": null,
            "grid_column": null,
            "grid_gap": null,
            "grid_row": null,
            "grid_template_areas": null,
            "grid_template_columns": null,
            "grid_template_rows": null,
            "height": null,
            "justify_content": null,
            "justify_items": null,
            "left": null,
            "margin": null,
            "max_height": null,
            "max_width": null,
            "min_height": null,
            "min_width": null,
            "object_fit": null,
            "object_position": null,
            "order": null,
            "overflow": null,
            "overflow_x": null,
            "overflow_y": null,
            "padding": null,
            "right": null,
            "top": null,
            "visibility": null,
            "width": null
          }
        },
        "af0a1438cb294f1ea0bff48ceb041179": {
          "model_module": "@jupyter-widgets/controls",
          "model_name": "ProgressStyleModel",
          "model_module_version": "1.5.0",
          "state": {
            "_model_module": "@jupyter-widgets/controls",
            "_model_module_version": "1.5.0",
            "_model_name": "ProgressStyleModel",
            "_view_count": null,
            "_view_module": "@jupyter-widgets/base",
            "_view_module_version": "1.2.0",
            "_view_name": "StyleView",
            "bar_color": null,
            "description_width": ""
          }
        },
        "3a5f595b42bb4596886600bc621e65d3": {
          "model_module": "@jupyter-widgets/base",
          "model_name": "LayoutModel",
          "model_module_version": "1.2.0",
          "state": {
            "_model_module": "@jupyter-widgets/base",
            "_model_module_version": "1.2.0",
            "_model_name": "LayoutModel",
            "_view_count": null,
            "_view_module": "@jupyter-widgets/base",
            "_view_module_version": "1.2.0",
            "_view_name": "LayoutView",
            "align_content": null,
            "align_items": null,
            "align_self": null,
            "border": null,
            "bottom": null,
            "display": null,
            "flex": null,
            "flex_flow": null,
            "grid_area": null,
            "grid_auto_columns": null,
            "grid_auto_flow": null,
            "grid_auto_rows": null,
            "grid_column": null,
            "grid_gap": null,
            "grid_row": null,
            "grid_template_areas": null,
            "grid_template_columns": null,
            "grid_template_rows": null,
            "height": null,
            "justify_content": null,
            "justify_items": null,
            "left": null,
            "margin": null,
            "max_height": null,
            "max_width": null,
            "min_height": null,
            "min_width": null,
            "object_fit": null,
            "object_position": null,
            "order": null,
            "overflow": null,
            "overflow_x": null,
            "overflow_y": null,
            "padding": null,
            "right": null,
            "top": null,
            "visibility": null,
            "width": null
          }
        },
        "b502cceaf74545f4a4ef44fea11519b9": {
          "model_module": "@jupyter-widgets/controls",
          "model_name": "DescriptionStyleModel",
          "model_module_version": "1.5.0",
          "state": {
            "_model_module": "@jupyter-widgets/controls",
            "_model_module_version": "1.5.0",
            "_model_name": "DescriptionStyleModel",
            "_view_count": null,
            "_view_module": "@jupyter-widgets/base",
            "_view_module_version": "1.2.0",
            "_view_name": "StyleView",
            "description_width": ""
          }
        }
      }
    }
  },
  "nbformat": 4,
  "nbformat_minor": 0
}