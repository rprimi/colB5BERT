{
  "cells": [
    {
      "cell_type": "markdown",
      "metadata": {
        "id": "view-in-github",
        "colab_type": "text"
      },
      "source": [
        "<a href=\"https://colab.research.google.com/github/rprimi/colB5BERT/blob/main/python/b5_contextualreps_BERT.ipynb\" target=\"_parent\"><img src=\"https://colab.research.google.com/assets/colab-badge.svg\" alt=\"Open In Colab\"/></a>"
      ]
    },
    {
      "cell_type": "code",
      "execution_count": null,
      "metadata": {
        "id": "8TP1m0F_Y6-H"
      },
      "outputs": [],
      "source": [
        "__author__ = \"Ricardo Primi adapted from modules from Christopher Potts, CS224u, Stanford, Spring 2021\""
      ]
    },
    {
      "cell_type": "markdown",
      "metadata": {
        "id": "NnEbhqVTY6-J"
      },
      "source": [
        "### General set-up\n",
        "\n"
      ]
    },
    {
      "cell_type": "code",
      "execution_count": null,
      "metadata": {
        "colab": {
          "base_uri": "https://localhost:8080/"
        },
        "id": "ATw64PhVkH8q",
        "outputId": "f38abde7-6361-4be2-e2bf-24246ed0bfa4"
      },
      "outputs": [
        {
          "name": "stdout",
          "output_type": "stream",
          "text": [
            "Mounted at /content/drive\n"
          ]
        }
      ],
      "source": [
        "from google.colab import drive\n",
        "drive.mount('/content/drive')"
      ]
    },
    {
      "cell_type": "code",
      "execution_count": null,
      "metadata": {
        "id": "wIOgkGQmkk-5"
      },
      "outputs": [],
      "source": [
        "import sys\n",
        "sys.path.append('/content/drive/MyDrive/Stanford_cs224u')"
      ]
    },
    {
      "cell_type": "code",
      "execution_count": null,
      "metadata": {
        "id": "mZUio6VJkQfQ"
      },
      "outputs": [],
      "source": [
        "!pip3 install transformers"
      ]
    },
    {
      "cell_type": "markdown",
      "metadata": {
        "id": "XOgZt0MKWbOI"
      },
      "source": [
        "Modules `vsm`, `utils` and `sst` are from Stanford's CS224u https://github.com/cgpotts/cs224u"
      ]
    },
    {
      "cell_type": "code",
      "execution_count": null,
      "metadata": {
        "id": "FneXYJMlY6-K"
      },
      "outputs": [],
      "source": [
        "import os\n",
        "import pandas as pd\n",
        "import torch\n",
        "from transformers import BertModel, BertTokenizer\n",
        "from transformers import RobertaModel, RobertaTokenizer\n",
        "\n",
        "import utils\n",
        "import vsm\n",
        "import sst"
      ]
    },
    {
      "cell_type": "code",
      "execution_count": null,
      "metadata": {
        "colab": {
          "base_uri": "https://localhost:8080/"
        },
        "id": "_DSpFAHTsFF-",
        "outputId": "441f601c-daae-45a5-cf03-838957c872e8"
      },
      "outputs": [
        {
          "name": "stdout",
          "output_type": "stream",
          "text": [
            "Using cuda:0\n"
          ]
        }
      ],
      "source": [
        "if torch.cuda.is_available(): \n",
        "   dev = \"cuda:0\"\n",
        "else: \n",
        "   dev = \"cpu\"\n",
        "device = torch.device(dev)\n",
        "print('Using {}'.format(device))"
      ]
    },
    {
      "cell_type": "code",
      "execution_count": null,
      "metadata": {
        "colab": {
          "base_uri": "https://localhost:8080/"
        },
        "id": "o0iX5kbasHZd",
        "outputId": "c14bf82f-87e0-4f39-b7ce-bca375e1d3b7"
      },
      "outputs": [
        {
          "name": "stdout",
          "output_type": "stream",
          "text": [
            "Tue Nov 29 17:19:34 2022       \n",
            "+-----------------------------------------------------------------------------+\n",
            "| NVIDIA-SMI 460.32.03    Driver Version: 460.32.03    CUDA Version: 11.2     |\n",
            "|-------------------------------+----------------------+----------------------+\n",
            "| GPU  Name        Persistence-M| Bus-Id        Disp.A | Volatile Uncorr. ECC |\n",
            "| Fan  Temp  Perf  Pwr:Usage/Cap|         Memory-Usage | GPU-Util  Compute M. |\n",
            "|                               |                      |               MIG M. |\n",
            "|===============================+======================+======================|\n",
            "|   0  Tesla T4            Off  | 00000000:00:04.0 Off |                    0 |\n",
            "| N/A   37C    P8     9W /  70W |      3MiB / 15109MiB |      0%      Default |\n",
            "|                               |                      |                  N/A |\n",
            "+-------------------------------+----------------------+----------------------+\n",
            "                                                                               \n",
            "+-----------------------------------------------------------------------------+\n",
            "| Processes:                                                                  |\n",
            "|  GPU   GI   CI        PID   Type   Process name                  GPU Memory |\n",
            "|        ID   ID                                                   Usage      |\n",
            "|=============================================================================|\n",
            "|  No running processes found                                                 |\n",
            "+-----------------------------------------------------------------------------+\n"
          ]
        }
      ],
      "source": [
        "!nvidia-smi"
      ]
    },
    {
      "cell_type": "markdown",
      "metadata": {
        "id": "1dTrPrG2kdCz"
      },
      "source": [
        "### Data"
      ]
    },
    {
      "cell_type": "code",
      "execution_count": null,
      "metadata": {
        "colab": {
          "base_uri": "https://localhost:8080/"
        },
        "id": "pboznS998H17",
        "outputId": "e056f542-a879-4ae8-8c79-1ce0c0581213"
      },
      "outputs": [
        {
          "name": "stdout",
          "output_type": "stream",
          "text": [
            "<class 'pandas.core.frame.DataFrame'>\n",
            "RangeIndex: 12174 entries, 0 to 12173\n",
            "Data columns (total 9 columns):\n",
            " #   Column         Non-Null Count  Dtype \n",
            "---  ------         --------------  ----- \n",
            " 0   iddd2          12174 non-null  object\n",
            " 1   Código         12173 non-null  object\n",
            " 2   Item           12174 non-null  object\n",
            " 3   n_resposta     12174 non-null  int64 \n",
            " 4   train_subj     12174 non-null  int64 \n",
            " 5   resp_relacao3  12174 non-null  object\n",
            " 6   y_theta        12174 non-null  int64 \n",
            " 7   y_score1       12174 non-null  int64 \n",
            " 8   y_score2       12174 non-null  int64 \n",
            "dtypes: int64(5), object(4)\n",
            "memory usage: 856.1+ KB\n"
          ]
        }
      ],
      "source": [
        "bd_metaf = pd.read_csv(\"/content/drive/MyDrive/unicamp - IA024 /projeto_metaf/dt_metaf_unicamp.csv\") \n",
        "bd_metaf.info()"
      ]
    },
    {
      "cell_type": "code",
      "execution_count": null,
      "metadata": {
        "id": "RXzncviWY6-K"
      },
      "outputs": [],
      "source": [
        "utils.fix_random_seeds()"
      ]
    },
    {
      "cell_type": "code",
      "execution_count": null,
      "metadata": {
        "id": "Myjwg4KEY6-L"
      },
      "outputs": [],
      "source": [
        "#import logging\n",
        "#logger = logging.getLogger()\n",
        "#logger.level = logging.ERROR"
      ]
    },
    {
      "cell_type": "markdown",
      "metadata": {
        "id": "JS59UBqrY6-L"
      },
      "source": [
        "### Loading Transformer models\n",
        "Specify a model, a tokenizer, and load a model pretrained weights:"
      ]
    },
    {
      "cell_type": "code",
      "execution_count": null,
      "metadata": {
        "colab": {
          "base_uri": "https://localhost:8080/",
          "height": 283,
          "referenced_widgets": [
            "6e0f7d86e4504f34a391b768e6776945",
            "2345645ce4c240cd85a1f2ed84c9cb04",
            "96eedbbc25214313a7bb467639062ad6",
            "52e20bbdb1054133ac760e6ba1188850",
            "3bb0662a73b046c699f9bcf82afd9099",
            "0c763c54d89e4c49ba6778258a645c60",
            "dfbc85bbb6004a8baa93391ed481ba64",
            "82689a01e6ef4371a74cdf263fa8f220",
            "18c9537a06e24581b424259982696b34",
            "816b3bed93fc4f1abc0ea86ea51bcec7",
            "938890002849424eb2989c523a305bba",
            "70d93a5a0e7349ef89fc5159ddb2bd11",
            "57da3beb5eca4fa6b92a68aaad8c066a",
            "fee11e3bef0648d680e85316751d1642",
            "400c216f7b4b43e8af4f8bd4d57acf66",
            "ed941d0c87f443de9fc4e133f25d1d50",
            "bcf839d2238242be8ab665c89efc3064",
            "1f1538ef033442c69d3c698c21b7df4c",
            "a2720f27773d494d87573a3ddf90b8d0",
            "ff7d655b6bdb484094a3473f19075465",
            "48152802415c493c97e1bd2a7a1d614e",
            "d5c6f03425814494aa7fd653c9656f69",
            "f262154ab3eb4df79a204dde2bc49f18",
            "7413037736a843f5a9e8407f9cb11b8b",
            "b751e4403c744cf18945902266f5204e",
            "d76999d804f048f4b0b43ca4f8d94285",
            "c259a816101f4e6f8ac4d1ba43e0036a",
            "55ec7c341f5341b68abff4207a20585a",
            "23f5cc36383d4f09aea1c2c8ee45858d",
            "b1107532ba024ea59c8568edd15e90f0",
            "b3eed62a67e6471889172b4c9cc0890c",
            "cd7cfbf008e340358a96f97abbfee454",
            "5c1aba3061914daca4cbdc9dc5f7a785",
            "ad851813aa5749eaabe94fee6a69d134",
            "ab770ff604c74632a022a78299f5b8bf",
            "e86677b28b444dbb89186f7a0536de42",
            "e2af94d6900644e882e216f945b1a32a",
            "2703ee1e529a4859a85e245103f36a71",
            "7df6da9c026f495b989b304e985d3a60",
            "f3a7ebf5c63244d0af0eaba7c64004eb",
            "b44fed93f21449d3bda8b83764c85697",
            "a0b6d11bc1354ccdb4c62efe8fc5f212",
            "eb1f70a97527490ba0b94a90b83297c4",
            "dff74ae7f3024d13994d11319c0f9bfc",
            "e357a584ff89453f8649bb411df710bd",
            "0cb2c02dcab94b45878b9d85f6a04ac1",
            "feef99c9edad445e8da4a46e06862de6",
            "b09b4754a3af44abaf53e6d0e2e85d80",
            "582d14a846b240548db37d6c45fb5494",
            "095fda5034024df681e8d8434da15322",
            "719e2969e6a14404be2a8b69497e196e",
            "ae66b5c4c25e460287c9fc7034b64d0a",
            "f4ba456f29a94f18b1da434532f2d7d7",
            "bc9e5b87746e4e52b63d830291f27846",
            "75a8f14831304fcfbc1fe8a7696c4b63",
            "599aa9174187491390574f62592e2a91",
            "f0d9ba91fa044708b8d6a96d12c3df6b",
            "c384af5c71314f8da4e02fc855ad6dc2",
            "d86bd33fe217477d810d793e1fad1bb5",
            "fb45ceed8f084dba9ef9b946ddff72d3",
            "2663936cb47745e1ab2cfb8e2badbf61",
            "95a3ec2e76454ce5af38a644a01c8ef7",
            "c00b0bfde3b24968bead4dfaadbfa6a4",
            "8aefd01e4f3c487f92d04a698125169e",
            "cee815bb37a9444d978f4c44bcbe907a",
            "0bb7730229ec4d189025468b1e3f47b1"
          ]
        },
        "id": "O6f6UXqGY6-L",
        "outputId": "e608573f-1b47-4c32-a2b6-cc4d624b1c0e"
      },
      "outputs": [
        {
          "data": {
            "application/vnd.jupyter.widget-view+json": {
              "model_id": "6e0f7d86e4504f34a391b768e6776945",
              "version_major": 2,
              "version_minor": 0
            },
            "text/plain": [
              "Downloading:   0%|          | 0.00/210k [00:00<?, ?B/s]"
            ]
          },
          "metadata": {},
          "output_type": "display_data"
        },
        {
          "data": {
            "application/vnd.jupyter.widget-view+json": {
              "model_id": "70d93a5a0e7349ef89fc5159ddb2bd11",
              "version_major": 2,
              "version_minor": 0
            },
            "text/plain": [
              "Downloading:   0%|          | 0.00/2.00 [00:00<?, ?B/s]"
            ]
          },
          "metadata": {},
          "output_type": "display_data"
        },
        {
          "data": {
            "application/vnd.jupyter.widget-view+json": {
              "model_id": "f262154ab3eb4df79a204dde2bc49f18",
              "version_major": 2,
              "version_minor": 0
            },
            "text/plain": [
              "Downloading:   0%|          | 0.00/112 [00:00<?, ?B/s]"
            ]
          },
          "metadata": {},
          "output_type": "display_data"
        },
        {
          "data": {
            "application/vnd.jupyter.widget-view+json": {
              "model_id": "ad851813aa5749eaabe94fee6a69d134",
              "version_major": 2,
              "version_minor": 0
            },
            "text/plain": [
              "Downloading:   0%|          | 0.00/43.0 [00:00<?, ?B/s]"
            ]
          },
          "metadata": {},
          "output_type": "display_data"
        },
        {
          "data": {
            "application/vnd.jupyter.widget-view+json": {
              "model_id": "e357a584ff89453f8649bb411df710bd",
              "version_major": 2,
              "version_minor": 0
            },
            "text/plain": [
              "Downloading:   0%|          | 0.00/647 [00:00<?, ?B/s]"
            ]
          },
          "metadata": {},
          "output_type": "display_data"
        },
        {
          "data": {
            "application/vnd.jupyter.widget-view+json": {
              "model_id": "599aa9174187491390574f62592e2a91",
              "version_major": 2,
              "version_minor": 0
            },
            "text/plain": [
              "Downloading:   0%|          | 0.00/438M [00:00<?, ?B/s]"
            ]
          },
          "metadata": {},
          "output_type": "display_data"
        },
        {
          "name": "stderr",
          "output_type": "stream",
          "text": [
            "Some weights of the model checkpoint at neuralmind/bert-base-portuguese-cased were not used when initializing BertModel: ['cls.seq_relationship.weight', 'cls.predictions.transform.dense.bias', 'cls.predictions.decoder.weight', 'cls.predictions.transform.LayerNorm.bias', 'cls.seq_relationship.bias', 'cls.predictions.transform.LayerNorm.weight', 'cls.predictions.transform.dense.weight', 'cls.predictions.bias']\n",
            "- This IS expected if you are initializing BertModel from the checkpoint of a model trained on another task or with another architecture (e.g. initializing a BertForSequenceClassification model from a BertForPreTraining model).\n",
            "- This IS NOT expected if you are initializing BertModel from the checkpoint of a model that you expect to be exactly identical (initializing a BertForSequenceClassification model from a BertForSequenceClassification model).\n"
          ]
        }
      ],
      "source": [
        "bert_weights_name = 'neuralmind/bert-base-portuguese-cased'\n",
        "bert_tokenizer = BertTokenizer.from_pretrained(bert_weights_name)\n",
        "bert_model = BertModel.from_pretrained(bert_weights_name)"
      ]
    },
    {
      "cell_type": "markdown",
      "metadata": {
        "id": "DHrst3TZY6-M"
      },
      "source": [
        "### The basics of tokenizing\n"
      ]
    },
    {
      "cell_type": "code",
      "execution_count": null,
      "metadata": {
        "colab": {
          "base_uri": "https://localhost:8080/"
        },
        "id": "iOg05YkzY6-M",
        "outputId": "de6090ae-e490-4a1b-f049-bb4ba7cb95f1"
      },
      "outputs": [
        {
          "name": "stdout",
          "output_type": "stream",
          "text": [
            "Macaco é o comunicador da Floresta. Porque avisa os outros animais do perigo\n",
            "['Maca', '##co', 'é', 'o', 'comunicado', '##r', 'da', 'Floresta', '.', 'Por', '##que', 'avis', '##a', 'os', 'outros', 'animais', 'do', 'perigo']\n",
            "[101, 13399, 303, 253, 146, 16677, 22282, 180, 13509, 119, 566, 455, 7598, 22278, 259, 736, 3155, 171, 9538, 102]\n",
            "['[CLS]', 'Maca', '##co', 'é', 'o', 'comunicado', '##r', 'da', 'Floresta', '.', 'Por', '##que', 'avis', '##a', 'os', 'outros', 'animais', 'do', 'perigo', '[SEP]']\n"
          ]
        }
      ],
      "source": [
        "example_text = bd_metaf['resp_relacao3'][1]\n",
        "type(example_text)\n",
        "print(example_text)\n",
        "print(bert_tokenizer.tokenize(example_text))\n",
        "ex_ids = bert_tokenizer.encode(example_text, add_special_tokens=True)\n",
        "print(ex_ids)\n",
        "print(bert_tokenizer.convert_ids_to_tokens(ex_ids))"
      ]
    },
    {
      "cell_type": "markdown",
      "metadata": {
        "id": "vDRVTaxRY6-P"
      },
      "source": [
        "### Get decontextualized representations"
      ]
    },
    {
      "cell_type": "markdown",
      "metadata": {
        "id": "R53BSSogmqy8"
      },
      "source": [
        "https://huggingface.co/docs/transformers/main_classes/output"
      ]
    },
    {
      "cell_type": "markdown",
      "metadata": {
        "id": "wV8TNuFDY6-P"
      },
      "source": [
        "To obtain the representations for a batch of examples, we use the `forward` method of the model, as follows:"
      ]
    },
    {
      "cell_type": "code",
      "execution_count": null,
      "metadata": {
        "id": "z9BLypVjY6-P"
      },
      "outputs": [],
      "source": [
        "with torch.no_grad():\n",
        "    reps = bert_model(torch.tensor([ex_ids]), output_hidden_states=True)"
      ]
    },
    {
      "cell_type": "markdown",
      "metadata": {
        "id": "3qaJ8KcHY6-P"
      },
      "source": [
        "The return value `reps` is a special `transformers` class that holds a lot of representations. If we want just the final output representations for each token, we use `last_hidden_state`:"
      ]
    },
    {
      "cell_type": "code",
      "execution_count": null,
      "metadata": {
        "colab": {
          "base_uri": "https://localhost:8080/"
        },
        "id": "izms3Kr6Y6-P",
        "outputId": "55ec4530-2ec5-45d4-b451-73b498354bb9"
      },
      "outputs": [
        {
          "name": "stdout",
          "output_type": "stream",
          "text": [
            "torch.Size([1, 20, 768])\n"
          ]
        },
        {
          "data": {
            "text/plain": [
              "torch.Size([1, 768])"
            ]
          },
          "execution_count": 13,
          "metadata": {},
          "output_type": "execute_result"
        }
      ],
      "source": [
        "print(reps.last_hidden_state.shape)\n",
        "reps.last_hidden_state[:, 9, :].shape"
      ]
    },
    {
      "cell_type": "markdown",
      "metadata": {
        "id": "FqXUq0VIY6-P"
      },
      "source": [
        "The shape indicates that our batch has 1 example, with 20 tokens, and each token is represented by a vector of dimensionality 1024. "
      ]
    },
    {
      "cell_type": "markdown",
      "metadata": {
        "id": "mrkZkVdxY6-P"
      },
      "source": [
        "Aside: Hugging Face `transformers` models also have a `pooler_output` value. For BERT, this corresponds to the output representation above the [CLS] token, which is often used as a summary representation for the entire sequence. However, __we cannot use `pooler_output` in the current context__, as `transformers` adds new randomized parameters on top of it, to facilitate fine-tuning. If we want the [CLS] representation, we need to use `reps.last_hidden_state[:, 0]`."
      ]
    },
    {
      "cell_type": "markdown",
      "metadata": {
        "id": "uT80PVd0Y6-Q"
      },
      "source": [
        "Finally, if we want access to the output representations from each layer of the model, we use `hidden_states`. This will be `None` unless we set `output_hidden_states=True` when using the `forward` method, as above. "
      ]
    },
    {
      "cell_type": "code",
      "execution_count": null,
      "metadata": {
        "colab": {
          "base_uri": "https://localhost:8080/"
        },
        "id": "T9M38Hw7Y6-Q",
        "outputId": "6bf410ae-b360-40e2-b6f6-3186ce79effb"
      },
      "outputs": [
        {
          "data": {
            "text/plain": [
              "13"
            ]
          },
          "execution_count": 125,
          "metadata": {},
          "output_type": "execute_result"
        }
      ],
      "source": [
        "len(reps.hidden_states)"
      ]
    },
    {
      "cell_type": "markdown",
      "metadata": {
        "id": "RH3tWMc_Y6-Q"
      },
      "source": [
        "The length 25 corresponds to the initial embedding layer (layer 0) and the 24 layers of this BERT model."
      ]
    },
    {
      "cell_type": "markdown",
      "metadata": {
        "id": "GfftLYG9Y6-Q"
      },
      "source": [
        "The final layer in `hidden_states` is identical to `last_hidden_state`:"
      ]
    },
    {
      "cell_type": "code",
      "execution_count": null,
      "metadata": {
        "colab": {
          "base_uri": "https://localhost:8080/"
        },
        "id": "tDh9tLmzY6-Q",
        "outputId": "77ad788e-c2b1-4217-afd3-f80010ff8ae2"
      },
      "outputs": [
        {
          "data": {
            "text/plain": [
              "torch.Size([1, 20, 768])"
            ]
          },
          "execution_count": 126,
          "metadata": {},
          "output_type": "execute_result"
        }
      ],
      "source": [
        "reps.hidden_states[-1].shape"
      ]
    },
    {
      "cell_type": "code",
      "execution_count": null,
      "metadata": {
        "colab": {
          "base_uri": "https://localhost:8080/"
        },
        "id": "8TpJ37UjY6-Q",
        "outputId": "e942a477-8dd6-4120-a4ca-6ac590607419"
      },
      "outputs": [
        {
          "data": {
            "text/plain": [
              "True"
            ]
          },
          "execution_count": 127,
          "metadata": {},
          "output_type": "execute_result"
        }
      ],
      "source": [
        "torch.equal(reps.hidden_states[-1], reps.last_hidden_state)"
      ]
    },
    {
      "cell_type": "markdown",
      "metadata": {
        "id": "AzbxiZpBY6-R"
      },
      "source": [
        "### The decontextualized approach\n",
        "\n",
        "As discussed above, Bommasani et al. (2020) define and explore two general strategies for obtaining static representations for word using a model like BERT. The simpler one involves processing individual words and, where they correspond to multiple tokens, pooling those token representations into a single vector using an operation like mean. Now we want to scale the above process to a large vocabulary, so that we can create a full VSM. The function `vsm.create_subword_pooling_vsm` makes this easy. To start, we get the vocabulary from one of our count VSMs (all of which have the same vocabulary):"
      ]
    },
    {
      "cell_type": "code",
      "execution_count": null,
      "metadata": {
        "id": "3hpboIUNY6-U"
      },
      "outputs": [],
      "source": [
        "bd_metaf['sentence'] = bd_metaf.resp_relacao3\n",
        "bd_metaf['label'] = bd_metaf.y_score2\n",
        "X, y = sst.build_rnn_dataset(bd_metaf) \n",
        "vocabulary = utils.get_vocab(X, mincount=1)\n"
      ]
    },
    {
      "cell_type": "code",
      "execution_count": null,
      "metadata": {
        "colab": {
          "base_uri": "https://localhost:8080/"
        },
        "id": "CM82f6_mm8kZ",
        "outputId": "79ba7f8b-5561-4d56-d7e2-8e9efd4211d9"
      },
      "outputs": [
        {
          "name": "stdout",
          "output_type": "stream",
          "text": [
            "12174\n",
            "10978\n"
          ]
        }
      ],
      "source": [
        "print(len(X))\n",
        "print(len(vocabulary ))"
      ]
    },
    {
      "cell_type": "markdown",
      "metadata": {
        "id": "JgIBv0q-Y6-U"
      },
      "source": [
        "**embed0:** decontextualized embedding layer 0 (using `vsm.create_subword_pooling_vsm`)"
      ]
    },
    {
      "cell_type": "code",
      "execution_count": null,
      "metadata": {
        "id": "bSkbgSOlrjk0"
      },
      "outputs": [],
      "source": [
        "def create_subword_pooling_vsm(vocab, tokenizer, model, layer=1, pool_func=vsm.mean_pooling):\n",
        "    vocab_ids = [hf_encode(w, tokenizer) for w in vocab]\n",
        "    vocab_hiddens = [hf_represent(w, model, layer=layer) for w in vocab_ids]\n",
        "    pooled = [pool_func(h) for h in vocab_hiddens]\n",
        "    pooled = [p.squeeze().cpu().numpy() for p in pooled]\n",
        "    return pd.DataFrame(pooled, index=vocab)"
      ]
    },
    {
      "cell_type": "code",
      "execution_count": null,
      "metadata": {
        "id": "LrqnEpG3Y6-U"
      },
      "outputs": [],
      "source": [
        "%%time\n",
        "embed0 = vsm.create_subword_pooling_vsm(\n",
        "    vocabulary, bert_tokenizer, bert_model, layer=0)"
      ]
    },
    {
      "cell_type": "code",
      "execution_count": null,
      "metadata": {
        "id": "G_yJbWOnu5NK"
      },
      "outputs": [],
      "source": [
        "print(embed0.shape)\n",
        "embed0.head()"
      ]
    },
    {
      "cell_type": "code",
      "execution_count": null,
      "metadata": {
        "id": "kSzeCKqpqSfM"
      },
      "outputs": [],
      "source": [
        "embed0.to_csv(\"/content/drive/MyDrive/unicamp - IA024 /projeto_metaf/embed0.csv\")"
      ]
    },
    {
      "cell_type": "code",
      "execution_count": null,
      "metadata": {
        "colab": {
          "base_uri": "https://localhost:8080/"
        },
        "id": "wrCnQ6kqY6-U",
        "outputId": "579fa1ca-44fa-4538-b991-843bd08709ec"
      },
      "outputs": [
        {
          "name": "stdout",
          "output_type": "stream",
          "text": [
            "CPU times: user 12min 52s, sys: 3.38 s, total: 12min 56s\n",
            "Wall time: 3min 17s\n"
          ]
        }
      ],
      "source": [
        "%%time\n",
        "embed12 = vsm.create_subword_pooling_vsm(\n",
        "    vocabulary, bert_tokenizer, bert_model, layer=-1)"
      ]
    },
    {
      "cell_type": "code",
      "execution_count": null,
      "metadata": {
        "id": "isTUlf1PF-Hg"
      },
      "outputs": [],
      "source": [
        "embed12.to_csv(\"/content/drive/MyDrive/unicamp - IA024 /projeto_metaf/embed12.csv\")"
      ]
    },
    {
      "cell_type": "code",
      "execution_count": null,
      "metadata": {
        "colab": {
          "base_uri": "https://localhost:8080/"
        },
        "id": "B6ZoEeYsmRF4",
        "outputId": "93fd585f-95a0-4505-927f-d2677c5dd71d"
      },
      "outputs": [
        {
          "name": "stdout",
          "output_type": "stream",
          "text": [
            "CPU times: user 12min 46s, sys: 3 s, total: 12min 49s\n",
            "Wall time: 3min 15s\n"
          ]
        }
      ],
      "source": [
        "%%time\n",
        "embed9 = vsm.create_subword_pooling_vsm(\n",
        "    vocabulary, bert_tokenizer, bert_model, layer=9)"
      ]
    },
    {
      "cell_type": "code",
      "execution_count": null,
      "metadata": {
        "id": "a0RaiOoOmWc-"
      },
      "outputs": [],
      "source": [
        "embed9.to_csv(\"/content/drive/MyDrive/unicamp - IA024 /projeto_metaf/embed9.csv\")"
      ]
    },
    {
      "cell_type": "code",
      "execution_count": null,
      "metadata": {
        "colab": {
          "base_uri": "https://localhost:8080/"
        },
        "id": "24zH1F9LgDAl",
        "outputId": "99756196-b0ff-46b0-e590-25a1a482fa6a"
      },
      "outputs": [
        {
          "name": "stdout",
          "output_type": "stream",
          "text": [
            "CPU times: user 13min 6s, sys: 3.36 s, total: 13min 9s\n",
            "Wall time: 3min 26s\n"
          ]
        }
      ],
      "source": [
        "%%time\n",
        "embed3 = vsm.create_subword_pooling_vsm(\n",
        "    vocabulary, bert_tokenizer, bert_model, layer=3)\n",
        "\n",
        "embed3.to_csv(\"/content/drive/MyDrive/unicamp - IA024 /projeto_metaf/embed3.csv\")"
      ]
    },
    {
      "cell_type": "markdown",
      "metadata": {
        "id": "IJClqiWOY6-V"
      },
      "source": [
        "### The aggregated approach"
      ]
    },
    {
      "cell_type": "markdown",
      "metadata": {
        "id": "B7Xiq_AgY6-V"
      },
      "source": [
        "The aggregated is also straightfoward to implement given the above tool. To start, we can create a map from vocabulary items into their sequences of ids:"
      ]
    },
    {
      "cell_type": "code",
      "execution_count": null,
      "metadata": {
        "id": "qGVOG8qTY6-V"
      },
      "outputs": [],
      "source": [
        "vocab_ids = {w: vsm.hf_encode(w, bert_tokenizer)[0] for w in vocabulary}"
      ]
    },
    {
      "cell_type": "code",
      "execution_count": null,
      "metadata": {
        "id": "FiWuvfQ13ETR"
      },
      "outputs": [],
      "source": [
        "vocab_ids"
      ]
    },
    {
      "cell_type": "markdown",
      "metadata": {
        "id": "he6TpwxWY6-V"
      },
      "source": [
        "Next, let's assume we have a corpus of texts that contain the words of interest:"
      ]
    },
    {
      "cell_type": "code",
      "execution_count": null,
      "metadata": {
        "id": "bNVnDUfGY6-V"
      },
      "outputs": [],
      "source": [
        "corpus = list(bd_metaf['resp_relacao3'])  \n"
      ]
    },
    {
      "cell_type": "code",
      "execution_count": null,
      "metadata": {
        "colab": {
          "base_uri": "https://localhost:8080/"
        },
        "id": "bwylaReTMBzS",
        "outputId": "1b1be75c-0770-4264-dba7-a9c8b981a031"
      },
      "outputs": [
        {
          "data": {
            "text/plain": [
              "12174"
            ]
          },
          "execution_count": 18,
          "metadata": {},
          "output_type": "execute_result"
        }
      ],
      "source": [
        "len(corpus)"
      ]
    },
    {
      "cell_type": "markdown",
      "metadata": {
        "id": "YnUseuLXY6-W"
      },
      "source": [
        "The following embeds every corpus example, keeping `layer=1` representations:"
      ]
    },
    {
      "cell_type": "code",
      "execution_count": null,
      "metadata": {
        "id": "AI_deq4nY6-W"
      },
      "outputs": [],
      "source": [
        "corpus_ids = [vsm.hf_encode(text, bert_tokenizer, add_special_tokens=True)\n",
        "              for text in corpus]\n"
      ]
    },
    {
      "cell_type": "code",
      "execution_count": null,
      "metadata": {
        "id": "2OARno2YY6-W"
      },
      "outputs": [],
      "source": [
        "%%time\n",
        "corpus_reps3 = [vsm.hf_represent(ids, bert_model, layer=3)\n",
        "               for ids in corpus_ids]\n",
        "\n",
        "len(corpus_reps3)"
      ]
    },
    {
      "cell_type": "code",
      "execution_count": null,
      "metadata": {
        "colab": {
          "background_save": true
        },
        "id": "scuRre9K5gyD"
      },
      "outputs": [],
      "source": [
        "corpus_reps3[0].shape\n",
        "corpus_reps3[1].shape\n",
        "len(corpus_reps3[0][:, 0])\n",
        "\n",
        "for idea in corpus_reps3[0:20]:\n",
        "  print(idea.shape)\n",
        "\n",
        "len(corpus_reps12[0][0, 0, :])\n",
        "\n",
        "embed_CLS = [idea[0, 0, :] for idea in corpus_reps3]\n",
        "\n",
        "len(embed_CLS)\n",
        "\n",
        "pd.DataFrame(embed_CLS).astype(\"float\").to_csv('/content/drive/MyDrive/unicamp - IA024 /projeto_metaf/embed_CLS.csv')\n",
        "\n",
        "embed_CLS "
      ]
    },
    {
      "cell_type": "code",
      "execution_count": null,
      "metadata": {
        "id": "CeDl8B0lo1dO"
      },
      "outputs": [],
      "source": [
        "%%time\n",
        "corpus_reps9 = [vsm.hf_represent(ids, bert_model, layer=9)\n",
        "               for ids in corpus_ids]"
      ]
    },
    {
      "cell_type": "code",
      "execution_count": null,
      "metadata": {
        "id": "U90lt0tKPMw9"
      },
      "outputs": [],
      "source": [
        "corpus[0]\n",
        "len(corpus_ids[0][0])\n",
        "\n",
        "len(corpus_reps12)\n",
        "len(corpus_reps)\n",
        "type(corpus_reps)\n",
        "len(corpus_reps[0])\n",
        "len(corpus_reps[:][0][:])\n",
        "len(corpus_reps[0][0][0])\n",
        "\n",
        "corpus_reps12[:]"
      ]
    },
    {
      "cell_type": "markdown",
      "metadata": {
        "id": "HnP7jA-5Y6-W"
      },
      "source": [
        "Finally, we define a convenience function for finding all the occurrences of a sublist in a larger list:\n"
      ]
    },
    {
      "cell_type": "code",
      "execution_count": null,
      "metadata": {
        "id": "ZBeREuZkY6-W"
      },
      "outputs": [],
      "source": [
        "def find_sublist_indices(sublist, mainlist):\n",
        "    indices = []\n",
        "    length = len(sublist)\n",
        "    for i in range(0, len(mainlist)-length+1):\n",
        "        if mainlist[i: i+length] == sublist:\n",
        "            indices.append((i, i+length))\n",
        "    return indices"
      ]
    },
    {
      "cell_type": "markdown",
      "metadata": {
        "id": "1HLUuKGtLklR"
      },
      "source": [
        "I had to modify to (mainlist[i: i+length] == sublist).all() in order to deal with tokes that are maped to more than one indice.[link text](https://)"
      ]
    },
    {
      "cell_type": "code",
      "execution_count": null,
      "metadata": {
        "id": "TwAHC3dMGz_u"
      },
      "outputs": [],
      "source": [
        "def find_sublist_indices_tensor(sublist, mainlist):\n",
        "    indices = []\n",
        "    length = len(sublist)\n",
        "    for i in range(0, len(mainlist)-length+1):\n",
        "        if (mainlist[i: i+length] == sublist).all():\n",
        "            indices.append((i, i+length))\n",
        "    return indices"
      ]
    },
    {
      "cell_type": "markdown",
      "metadata": {
        "id": "KaOReQsrY6-W"
      },
      "source": [
        "For example:"
      ]
    },
    {
      "cell_type": "code",
      "execution_count": null,
      "metadata": {
        "colab": {
          "base_uri": "https://localhost:8080/"
        },
        "id": "RPZrdXRmY6-W",
        "outputId": "4721021e-27f6-4bf1-fb8d-7c62f1087afa"
      },
      "outputs": [
        {
          "data": {
            "text/plain": [
              "[(0, 2), (4, 6)]"
            ]
          },
          "execution_count": 23,
          "metadata": {},
          "output_type": "execute_result"
        }
      ],
      "source": [
        "find_sublist_indices([1,2], [1, 2, 3, 0, 1, 2, 3])"
      ]
    },
    {
      "cell_type": "markdown",
      "metadata": {
        "id": "7yV30RbAY6-W"
      },
      "source": [
        "And here's an example using our `vocab_ids` and `corpus`:"
      ]
    },
    {
      "cell_type": "code",
      "execution_count": null,
      "metadata": {
        "id": "ZBXCOhwVdObX"
      },
      "outputs": [],
      "source": [
        "def calculate_aggreg_rep(token_text, vocab_ids, corpus_ids, corpus_reps):\n",
        "  aggreg_rep = []\n",
        "  tokens_ids = vocab_ids[token_text]\n",
        "  for ids, reps in zip(corpus_ids, corpus_reps):\n",
        "    offsets = find_sublist_indices_tensor(tokens_ids, ids.squeeze(0))\n",
        "    for (start, end) in offsets:\n",
        "        pooled = vsm.mean_pooling(reps[:, start: end])\n",
        "        aggreg_rep.append(pooled)\n",
        "  if len(aggreg_rep) != 0: \n",
        "    aggreg_rep = torch.mean( torch.cat(aggreg_rep), axis=0).squeeze(0)\n",
        "  return(aggreg_rep)"
      ]
    },
    {
      "cell_type": "code",
      "execution_count": null,
      "metadata": {
        "id": "2NgNv7qSgLke"
      },
      "outputs": [],
      "source": [
        "# calculate_aggreg_rep(token_text = 'macaco', vocab_ids=vocab_ids, corpus_ids=corpus_ids, corpus_reps=corpus_reps) \n",
        "# calculate_aggreg_rep(token_text = 'pq', vocab_ids=vocab_ids, corpus_ids=corpus_ids, corpus_reps=corpus_reps) "
      ]
    },
    {
      "cell_type": "code",
      "execution_count": null,
      "metadata": {
        "colab": {
          "base_uri": "https://localhost:8080/"
        },
        "id": "N-XH6Faxg9DV",
        "outputId": "9facec5d-c8aa-4924-a94a-3c4df4668f12"
      },
      "outputs": [
        {
          "data": {
            "text/plain": [
              "10978"
            ]
          },
          "execution_count": 39,
          "metadata": {},
          "output_type": "execute_result"
        }
      ],
      "source": [
        "vocabulary\n",
        "len(vocabulary)"
      ]
    },
    {
      "cell_type": "code",
      "execution_count": null,
      "metadata": {
        "id": "OrwC5v_9Y6-X",
        "colab": {
          "base_uri": "https://localhost:8080/",
          "height": 169
        },
        "outputId": "9bff4297-0bc9-4e03-8815-c8079abab7e9"
      },
      "outputs": [
        {
          "output_type": "stream",
          "name": "stdout",
          "text": [
            "!\n"
          ]
        },
        {
          "output_type": "error",
          "ename": "NameError",
          "evalue": "ignored",
          "traceback": [
            "\u001b[0;31m---------------------------------------------------------------------------\u001b[0m",
            "\u001b[0;31mNameError\u001b[0m                                 Traceback (most recent call last)",
            "\u001b[0;32m<timed exec>\u001b[0m in \u001b[0;36m<module>\u001b[0;34m\u001b[0m\n",
            "\u001b[0;31mNameError\u001b[0m: name 'corpus_reps9' is not defined"
          ]
        }
      ],
      "source": [
        "%%time\n",
        "embed_pmc9 = []\n",
        "for word in vocabulary:\n",
        "   print(word)\n",
        "   aggreg_word_rep = calculate_aggreg_rep(token_text = word, vocab_ids=vocab_ids, corpus_ids=corpus_ids, corpus_reps=corpus_reps9) \n",
        "   embed_pmc9.append(aggreg_word_rep)\n",
        "\n",
        "   \n",
        "pd.DataFrame(embed_pmc9, index=vocabulary).astype(\"float\").to_csv('/content/drive/MyDrive/unicamp - IA024 /projeto_metaf/embedd_pool_mc9.csv')"
      ]
    },
    {
      "cell_type": "code",
      "source": [
        "%%time\n",
        "embed_pmc3 = []\n",
        "for word in vocabulary:\n",
        "   print(word)\n",
        "   aggreg_word_rep = calculate_aggreg_rep(token_text = word, vocab_ids=vocab_ids, corpus_ids=corpus_ids, corpus_reps=corpus_reps3) \n",
        "   embed_pmc3.append(aggreg_word_rep)\n",
        "\n",
        "   \n",
        "pd.DataFrame(embed_pmc3, index=vocabulary).astype(\"float\").to_csv('/content/drive/MyDrive/unicamp - IA024 /projeto_metaf/embedd_pool_mc3.csv')"
      ],
      "metadata": {
        "id": "7zKZYUkWu3JT"
      },
      "execution_count": null,
      "outputs": []
    },
    {
      "cell_type": "code",
      "execution_count": null,
      "metadata": {
        "colab": {
          "base_uri": "https://localhost:8080/",
          "height": 300
        },
        "id": "9iW-hRnEHIh4",
        "outputId": "a696bfe9-408f-40b7-a759-5b8e613f6004"
      },
      "outputs": [
        {
          "data": {
            "text/html": [
              "\n",
              "  <div id=\"df-833c453e-25ea-4669-8ca9-2475980dc4d3\">\n",
              "    <div class=\"colab-df-container\">\n",
              "      <div>\n",
              "<style scoped>\n",
              "    .dataframe tbody tr th:only-of-type {\n",
              "        vertical-align: middle;\n",
              "    }\n",
              "\n",
              "    .dataframe tbody tr th {\n",
              "        vertical-align: top;\n",
              "    }\n",
              "\n",
              "    .dataframe thead th {\n",
              "        text-align: right;\n",
              "    }\n",
              "</style>\n",
              "<table border=\"1\" class=\"dataframe\">\n",
              "  <thead>\n",
              "    <tr style=\"text-align: right;\">\n",
              "      <th></th>\n",
              "      <th>0</th>\n",
              "      <th>1</th>\n",
              "      <th>2</th>\n",
              "      <th>3</th>\n",
              "      <th>4</th>\n",
              "      <th>5</th>\n",
              "      <th>6</th>\n",
              "      <th>7</th>\n",
              "      <th>8</th>\n",
              "      <th>9</th>\n",
              "      <th>...</th>\n",
              "      <th>758</th>\n",
              "      <th>759</th>\n",
              "      <th>760</th>\n",
              "      <th>761</th>\n",
              "      <th>762</th>\n",
              "      <th>763</th>\n",
              "      <th>764</th>\n",
              "      <th>765</th>\n",
              "      <th>766</th>\n",
              "      <th>767</th>\n",
              "    </tr>\n",
              "  </thead>\n",
              "  <tbody>\n",
              "    <tr>\n",
              "      <th>!</th>\n",
              "      <td>0.146565</td>\n",
              "      <td>-0.248279</td>\n",
              "      <td>-0.070733</td>\n",
              "      <td>-0.026844</td>\n",
              "      <td>0.486853</td>\n",
              "      <td>0.806113</td>\n",
              "      <td>0.491228</td>\n",
              "      <td>0.003391</td>\n",
              "      <td>0.334737</td>\n",
              "      <td>0.208428</td>\n",
              "      <td>...</td>\n",
              "      <td>0.072705</td>\n",
              "      <td>0.457313</td>\n",
              "      <td>-0.740429</td>\n",
              "      <td>0.177964</td>\n",
              "      <td>0.181191</td>\n",
              "      <td>-0.231247</td>\n",
              "      <td>0.283681</td>\n",
              "      <td>0.354993</td>\n",
              "      <td>-0.045231</td>\n",
              "      <td>-0.215859</td>\n",
              "    </tr>\n",
              "    <tr>\n",
              "      <th>\"</th>\n",
              "      <td>-0.172540</td>\n",
              "      <td>-0.059289</td>\n",
              "      <td>0.472110</td>\n",
              "      <td>0.527272</td>\n",
              "      <td>0.194514</td>\n",
              "      <td>0.357842</td>\n",
              "      <td>0.316965</td>\n",
              "      <td>-0.642910</td>\n",
              "      <td>0.100852</td>\n",
              "      <td>-0.750452</td>\n",
              "      <td>...</td>\n",
              "      <td>0.067175</td>\n",
              "      <td>-0.509143</td>\n",
              "      <td>-0.906271</td>\n",
              "      <td>-0.407602</td>\n",
              "      <td>0.286751</td>\n",
              "      <td>-0.754477</td>\n",
              "      <td>0.375574</td>\n",
              "      <td>0.131364</td>\n",
              "      <td>-0.107265</td>\n",
              "      <td>-0.749649</td>\n",
              "    </tr>\n",
              "    <tr>\n",
              "      <th>\"???\"</th>\n",
              "      <td>-0.188018</td>\n",
              "      <td>0.091027</td>\n",
              "      <td>-0.026015</td>\n",
              "      <td>0.252892</td>\n",
              "      <td>0.469525</td>\n",
              "      <td>0.318168</td>\n",
              "      <td>0.289357</td>\n",
              "      <td>-0.226312</td>\n",
              "      <td>0.023744</td>\n",
              "      <td>-0.230036</td>\n",
              "      <td>...</td>\n",
              "      <td>-0.105501</td>\n",
              "      <td>-0.274744</td>\n",
              "      <td>-0.883289</td>\n",
              "      <td>-0.392057</td>\n",
              "      <td>0.989325</td>\n",
              "      <td>-0.349420</td>\n",
              "      <td>0.479251</td>\n",
              "      <td>0.009281</td>\n",
              "      <td>-0.422455</td>\n",
              "      <td>-0.853668</td>\n",
              "    </tr>\n",
              "    <tr>\n",
              "      <th>\"Procurando</th>\n",
              "      <td>-0.271998</td>\n",
              "      <td>-0.535824</td>\n",
              "      <td>0.017344</td>\n",
              "      <td>0.191156</td>\n",
              "      <td>0.111892</td>\n",
              "      <td>0.192713</td>\n",
              "      <td>0.224732</td>\n",
              "      <td>0.480667</td>\n",
              "      <td>0.237073</td>\n",
              "      <td>-0.357113</td>\n",
              "      <td>...</td>\n",
              "      <td>0.188196</td>\n",
              "      <td>-0.007507</td>\n",
              "      <td>-1.374439</td>\n",
              "      <td>-0.297422</td>\n",
              "      <td>0.371894</td>\n",
              "      <td>-0.633138</td>\n",
              "      <td>0.731279</td>\n",
              "      <td>-0.069465</td>\n",
              "      <td>0.110304</td>\n",
              "      <td>-0.020759</td>\n",
              "    </tr>\n",
              "    <tr>\n",
              "      <th>\"ai\"</th>\n",
              "      <td>0.081846</td>\n",
              "      <td>-0.075211</td>\n",
              "      <td>0.825686</td>\n",
              "      <td>0.341451</td>\n",
              "      <td>0.395813</td>\n",
              "      <td>0.345409</td>\n",
              "      <td>-0.013810</td>\n",
              "      <td>-0.356292</td>\n",
              "      <td>0.253199</td>\n",
              "      <td>-0.259342</td>\n",
              "      <td>...</td>\n",
              "      <td>-0.058527</td>\n",
              "      <td>0.200778</td>\n",
              "      <td>-0.818004</td>\n",
              "      <td>-0.301954</td>\n",
              "      <td>0.026207</td>\n",
              "      <td>-0.831876</td>\n",
              "      <td>0.352601</td>\n",
              "      <td>0.087669</td>\n",
              "      <td>-0.120449</td>\n",
              "      <td>-0.574873</td>\n",
              "    </tr>\n",
              "  </tbody>\n",
              "</table>\n",
              "<p>5 rows × 768 columns</p>\n",
              "</div>\n",
              "      <button class=\"colab-df-convert\" onclick=\"convertToInteractive('df-833c453e-25ea-4669-8ca9-2475980dc4d3')\"\n",
              "              title=\"Convert this dataframe to an interactive table.\"\n",
              "              style=\"display:none;\">\n",
              "        \n",
              "  <svg xmlns=\"http://www.w3.org/2000/svg\" height=\"24px\"viewBox=\"0 0 24 24\"\n",
              "       width=\"24px\">\n",
              "    <path d=\"M0 0h24v24H0V0z\" fill=\"none\"/>\n",
              "    <path d=\"M18.56 5.44l.94 2.06.94-2.06 2.06-.94-2.06-.94-.94-2.06-.94 2.06-2.06.94zm-11 1L8.5 8.5l.94-2.06 2.06-.94-2.06-.94L8.5 2.5l-.94 2.06-2.06.94zm10 10l.94 2.06.94-2.06 2.06-.94-2.06-.94-.94-2.06-.94 2.06-2.06.94z\"/><path d=\"M17.41 7.96l-1.37-1.37c-.4-.4-.92-.59-1.43-.59-.52 0-1.04.2-1.43.59L10.3 9.45l-7.72 7.72c-.78.78-.78 2.05 0 2.83L4 21.41c.39.39.9.59 1.41.59.51 0 1.02-.2 1.41-.59l7.78-7.78 2.81-2.81c.8-.78.8-2.07 0-2.86zM5.41 20L4 18.59l7.72-7.72 1.47 1.35L5.41 20z\"/>\n",
              "  </svg>\n",
              "      </button>\n",
              "      \n",
              "  <style>\n",
              "    .colab-df-container {\n",
              "      display:flex;\n",
              "      flex-wrap:wrap;\n",
              "      gap: 12px;\n",
              "    }\n",
              "\n",
              "    .colab-df-convert {\n",
              "      background-color: #E8F0FE;\n",
              "      border: none;\n",
              "      border-radius: 50%;\n",
              "      cursor: pointer;\n",
              "      display: none;\n",
              "      fill: #1967D2;\n",
              "      height: 32px;\n",
              "      padding: 0 0 0 0;\n",
              "      width: 32px;\n",
              "    }\n",
              "\n",
              "    .colab-df-convert:hover {\n",
              "      background-color: #E2EBFA;\n",
              "      box-shadow: 0px 1px 2px rgba(60, 64, 67, 0.3), 0px 1px 3px 1px rgba(60, 64, 67, 0.15);\n",
              "      fill: #174EA6;\n",
              "    }\n",
              "\n",
              "    [theme=dark] .colab-df-convert {\n",
              "      background-color: #3B4455;\n",
              "      fill: #D2E3FC;\n",
              "    }\n",
              "\n",
              "    [theme=dark] .colab-df-convert:hover {\n",
              "      background-color: #434B5C;\n",
              "      box-shadow: 0px 1px 3px 1px rgba(0, 0, 0, 0.15);\n",
              "      filter: drop-shadow(0px 1px 2px rgba(0, 0, 0, 0.3));\n",
              "      fill: #FFFFFF;\n",
              "    }\n",
              "  </style>\n",
              "\n",
              "      <script>\n",
              "        const buttonEl =\n",
              "          document.querySelector('#df-833c453e-25ea-4669-8ca9-2475980dc4d3 button.colab-df-convert');\n",
              "        buttonEl.style.display =\n",
              "          google.colab.kernel.accessAllowed ? 'block' : 'none';\n",
              "\n",
              "        async function convertToInteractive(key) {\n",
              "          const element = document.querySelector('#df-833c453e-25ea-4669-8ca9-2475980dc4d3');\n",
              "          const dataTable =\n",
              "            await google.colab.kernel.invokeFunction('convertToInteractive',\n",
              "                                                     [key], {});\n",
              "          if (!dataTable) return;\n",
              "\n",
              "          const docLinkHtml = 'Like what you see? Visit the ' +\n",
              "            '<a target=\"_blank\" href=https://colab.research.google.com/notebooks/data_table.ipynb>data table notebook</a>'\n",
              "            + ' to learn more about interactive tables.';\n",
              "          element.innerHTML = '';\n",
              "          dataTable['output_type'] = 'display_data';\n",
              "          await google.colab.output.renderOutput(dataTable, element);\n",
              "          const docLink = document.createElement('div');\n",
              "          docLink.innerHTML = docLinkHtml;\n",
              "          element.appendChild(docLink);\n",
              "        }\n",
              "      </script>\n",
              "    </div>\n",
              "  </div>\n",
              "  "
            ],
            "text/plain": [
              "                  0         1         2         3         4         5    \\\n",
              "!            0.146565 -0.248279 -0.070733 -0.026844  0.486853  0.806113   \n",
              "\"           -0.172540 -0.059289  0.472110  0.527272  0.194514  0.357842   \n",
              "\"???\"       -0.188018  0.091027 -0.026015  0.252892  0.469525  0.318168   \n",
              "\"Procurando -0.271998 -0.535824  0.017344  0.191156  0.111892  0.192713   \n",
              "\"ai\"         0.081846 -0.075211  0.825686  0.341451  0.395813  0.345409   \n",
              "\n",
              "                  6         7         8         9    ...       758       759  \\\n",
              "!            0.491228  0.003391  0.334737  0.208428  ...  0.072705  0.457313   \n",
              "\"            0.316965 -0.642910  0.100852 -0.750452  ...  0.067175 -0.509143   \n",
              "\"???\"        0.289357 -0.226312  0.023744 -0.230036  ... -0.105501 -0.274744   \n",
              "\"Procurando  0.224732  0.480667  0.237073 -0.357113  ...  0.188196 -0.007507   \n",
              "\"ai\"        -0.013810 -0.356292  0.253199 -0.259342  ... -0.058527  0.200778   \n",
              "\n",
              "                  760       761       762       763       764       765  \\\n",
              "!           -0.740429  0.177964  0.181191 -0.231247  0.283681  0.354993   \n",
              "\"           -0.906271 -0.407602  0.286751 -0.754477  0.375574  0.131364   \n",
              "\"???\"       -0.883289 -0.392057  0.989325 -0.349420  0.479251  0.009281   \n",
              "\"Procurando -1.374439 -0.297422  0.371894 -0.633138  0.731279 -0.069465   \n",
              "\"ai\"        -0.818004 -0.301954  0.026207 -0.831876  0.352601  0.087669   \n",
              "\n",
              "                  766       767  \n",
              "!           -0.045231 -0.215859  \n",
              "\"           -0.107265 -0.749649  \n",
              "\"???\"       -0.422455 -0.853668  \n",
              "\"Procurando  0.110304 -0.020759  \n",
              "\"ai\"        -0.120449 -0.574873  \n",
              "\n",
              "[5 rows x 768 columns]"
            ]
          },
          "execution_count": 43,
          "metadata": {},
          "output_type": "execute_result"
        }
      ],
      "source": [
        "\n",
        "\n",
        "pd.DataFrame(embed_pmc12, index=vocabulary).astype(\"float\").head()\n"
      ]
    },
    {
      "cell_type": "markdown",
      "metadata": {
        "id": "qwNE2XOqGhuV"
      },
      "source": [
        "### Miscelaneous"
      ]
    },
    {
      "cell_type": "code",
      "execution_count": 1,
      "metadata": {
        "id": "M814S2VBY6-X",
        "colab": {
          "base_uri": "https://localhost:8080/",
          "height": 133
        },
        "outputId": "93b6b078-8553-4d72-e40d-7235406a921c"
      },
      "outputs": [
        {
          "output_type": "error",
          "ename": "IndentationError",
          "evalue": "ignored",
          "traceback": [
            "\u001b[0;36m  File \u001b[0;32m\"<ipython-input-1-316a1c802c33>\"\u001b[0;36m, line \u001b[0;32m6\u001b[0m\n\u001b[0;31m    for ids, reps in zip(corpus_ids, corpus_reps):\u001b[0m\n\u001b[0m    ^\u001b[0m\n\u001b[0;31mIndentationError\u001b[0m\u001b[0;31m:\u001b[0m unexpected indent\n"
          ]
        }
      ],
      "source": [
        "vocab_ids['atencao']\n",
        "\n",
        "token_text = 'atencao'\n",
        "aggreg_rep = []\n",
        "tokens_ids = vocab_ids[token_text]\n",
        "  for ids, reps in zip(corpus_ids, corpus_reps):\n",
        "    offsets = find_sublist_indices_tensor(tokens_ids, ids.squeeze(0))\n",
        "    for (start, end) in offsets:\n",
        "        pooled = vsm.mean_pooling(reps[:, start: end])\n",
        "        aggreg_rep.append(pooled)\n",
        "  \n",
        "  if len(aggreg_rep) != 0: \n",
        "     aggreg_rep = torch.mean( torch.cat(aggreg_rep), axis=0).squeeze(0)\n",
        "\n",
        "macaco_reps = []\n",
        "\n",
        "for ids, reps in zip(corpus_ids, corpus_reps):\n",
        "    for i in range(0, len(macaco)):\n",
        "      offsets = find_sublist_indices(macaco[i], ids.squeeze(0))\n",
        "      for (start, end) in offsets:\n",
        "        pooled = vsm.mean_pooling(reps[:, start: end])\n",
        "        macaco_reps.append(pooled)\n",
        "\n",
        " #   macaco_rep = torch.mean(torch.cat(macaco_reps), axis=0).squeeze(0)"
      ]
    },
    {
      "cell_type": "code",
      "execution_count": null,
      "metadata": {
        "id": "nLaypKS2Ggjo"
      },
      "outputs": [],
      "source": [
        "corpus_reps2 = pd.DataFrame(corpus_reps)\n",
        "corpus_reps[2].size()\n",
        "\n",
        "len(corpus_reps[1])\n",
        "\n",
        "\n",
        "\n",
        "np.empty(correct_shape, dtype=object)\n",
        "values = np.array([convert(v) for v in values])\n"
      ]
    },
    {
      "cell_type": "markdown",
      "metadata": {
        "id": "ufEsOZ4vY6-X"
      },
      "source": [
        "The above building blocks could be used as the basis for an original system and bakeoff entry for this unit. The major question is probably which data to use for the corpus."
      ]
    },
    {
      "cell_type": "markdown",
      "metadata": {
        "id": "3Mnh-cKYY6-X"
      },
      "source": [
        "## Some related work\n",
        "\n",
        "1. [Ethayarajh (2019)](https://www.aclweb.org/anthology/D19-1006/) uses dimensionality reduction techniques (akin to LSA) to derive static representations from contextual models, and explores layer-wise variation in detailed, with findings that are likely to align with your experiences using the above techniques.\n",
        "\n",
        "1. [Akbik et al (2019)](https://www.aclweb.org/anthology/N19-1078/) explore techniques similar to those of Bommasani et al. specifically for the supervised task of named entity recognition.\n",
        "\n",
        "1. [Wang et al. (2020](https://arxiv.org/pdf/1911.02929.pdf) learn static representations from contextual ones using techniques adapted from the word2vec model."
      ]
    }
  ],
  "metadata": {
    "accelerator": "GPU",
    "colab": {
      "collapsed_sections": [
        "qwNE2XOqGhuV"
      ],
      "machine_shape": "hm",
      "provenance": [],
      "include_colab_link": true
    },
    "gpuClass": "standard",
    "kernelspec": {
      "display_name": "Python 3.9.1 64-bit",
      "language": "python",
      "name": "python3"
    },
    "language_info": {
      "codemirror_mode": {
        "name": "ipython",
        "version": 3
      },
      "file_extension": ".py",
      "mimetype": "text/x-python",
      "name": "python",
      "nbconvert_exporter": "python",
      "pygments_lexer": "ipython3",
      "version": "3.9.1"
    },
    "vscode": {
      "interpreter": {
        "hash": "aee8b7b246df8f9039afb4144a1f6fd8d2ca17a180786b69acc140d282b71a49"
      }
    },
    "widgets": {
      "application/vnd.jupyter.widget-state+json": {
        "095fda5034024df681e8d8434da15322": {
          "model_module": "@jupyter-widgets/base",
          "model_module_version": "1.2.0",
          "model_name": "LayoutModel",
          "state": {
            "_model_module": "@jupyter-widgets/base",
            "_model_module_version": "1.2.0",
            "_model_name": "LayoutModel",
            "_view_count": null,
            "_view_module": "@jupyter-widgets/base",
            "_view_module_version": "1.2.0",
            "_view_name": "LayoutView",
            "align_content": null,
            "align_items": null,
            "align_self": null,
            "border": null,
            "bottom": null,
            "display": null,
            "flex": null,
            "flex_flow": null,
            "grid_area": null,
            "grid_auto_columns": null,
            "grid_auto_flow": null,
            "grid_auto_rows": null,
            "grid_column": null,
            "grid_gap": null,
            "grid_row": null,
            "grid_template_areas": null,
            "grid_template_columns": null,
            "grid_template_rows": null,
            "height": null,
            "justify_content": null,
            "justify_items": null,
            "left": null,
            "margin": null,
            "max_height": null,
            "max_width": null,
            "min_height": null,
            "min_width": null,
            "object_fit": null,
            "object_position": null,
            "order": null,
            "overflow": null,
            "overflow_x": null,
            "overflow_y": null,
            "padding": null,
            "right": null,
            "top": null,
            "visibility": null,
            "width": null
          }
        },
        "0bb7730229ec4d189025468b1e3f47b1": {
          "model_module": "@jupyter-widgets/controls",
          "model_module_version": "1.5.0",
          "model_name": "DescriptionStyleModel",
          "state": {
            "_model_module": "@jupyter-widgets/controls",
            "_model_module_version": "1.5.0",
            "_model_name": "DescriptionStyleModel",
            "_view_count": null,
            "_view_module": "@jupyter-widgets/base",
            "_view_module_version": "1.2.0",
            "_view_name": "StyleView",
            "description_width": ""
          }
        },
        "0c763c54d89e4c49ba6778258a645c60": {
          "model_module": "@jupyter-widgets/base",
          "model_module_version": "1.2.0",
          "model_name": "LayoutModel",
          "state": {
            "_model_module": "@jupyter-widgets/base",
            "_model_module_version": "1.2.0",
            "_model_name": "LayoutModel",
            "_view_count": null,
            "_view_module": "@jupyter-widgets/base",
            "_view_module_version": "1.2.0",
            "_view_name": "LayoutView",
            "align_content": null,
            "align_items": null,
            "align_self": null,
            "border": null,
            "bottom": null,
            "display": null,
            "flex": null,
            "flex_flow": null,
            "grid_area": null,
            "grid_auto_columns": null,
            "grid_auto_flow": null,
            "grid_auto_rows": null,
            "grid_column": null,
            "grid_gap": null,
            "grid_row": null,
            "grid_template_areas": null,
            "grid_template_columns": null,
            "grid_template_rows": null,
            "height": null,
            "justify_content": null,
            "justify_items": null,
            "left": null,
            "margin": null,
            "max_height": null,
            "max_width": null,
            "min_height": null,
            "min_width": null,
            "object_fit": null,
            "object_position": null,
            "order": null,
            "overflow": null,
            "overflow_x": null,
            "overflow_y": null,
            "padding": null,
            "right": null,
            "top": null,
            "visibility": null,
            "width": null
          }
        },
        "0cb2c02dcab94b45878b9d85f6a04ac1": {
          "model_module": "@jupyter-widgets/controls",
          "model_module_version": "1.5.0",
          "model_name": "HTMLModel",
          "state": {
            "_dom_classes": [],
            "_model_module": "@jupyter-widgets/controls",
            "_model_module_version": "1.5.0",
            "_model_name": "HTMLModel",
            "_view_count": null,
            "_view_module": "@jupyter-widgets/controls",
            "_view_module_version": "1.5.0",
            "_view_name": "HTMLView",
            "description": "",
            "description_tooltip": null,
            "layout": "IPY_MODEL_095fda5034024df681e8d8434da15322",
            "placeholder": "​",
            "style": "IPY_MODEL_719e2969e6a14404be2a8b69497e196e",
            "value": "Downloading: 100%"
          }
        },
        "18c9537a06e24581b424259982696b34": {
          "model_module": "@jupyter-widgets/controls",
          "model_module_version": "1.5.0",
          "model_name": "ProgressStyleModel",
          "state": {
            "_model_module": "@jupyter-widgets/controls",
            "_model_module_version": "1.5.0",
            "_model_name": "ProgressStyleModel",
            "_view_count": null,
            "_view_module": "@jupyter-widgets/base",
            "_view_module_version": "1.2.0",
            "_view_name": "StyleView",
            "bar_color": null,
            "description_width": ""
          }
        },
        "1f1538ef033442c69d3c698c21b7df4c": {
          "model_module": "@jupyter-widgets/controls",
          "model_module_version": "1.5.0",
          "model_name": "DescriptionStyleModel",
          "state": {
            "_model_module": "@jupyter-widgets/controls",
            "_model_module_version": "1.5.0",
            "_model_name": "DescriptionStyleModel",
            "_view_count": null,
            "_view_module": "@jupyter-widgets/base",
            "_view_module_version": "1.2.0",
            "_view_name": "StyleView",
            "description_width": ""
          }
        },
        "2345645ce4c240cd85a1f2ed84c9cb04": {
          "model_module": "@jupyter-widgets/controls",
          "model_module_version": "1.5.0",
          "model_name": "HTMLModel",
          "state": {
            "_dom_classes": [],
            "_model_module": "@jupyter-widgets/controls",
            "_model_module_version": "1.5.0",
            "_model_name": "HTMLModel",
            "_view_count": null,
            "_view_module": "@jupyter-widgets/controls",
            "_view_module_version": "1.5.0",
            "_view_name": "HTMLView",
            "description": "",
            "description_tooltip": null,
            "layout": "IPY_MODEL_0c763c54d89e4c49ba6778258a645c60",
            "placeholder": "​",
            "style": "IPY_MODEL_dfbc85bbb6004a8baa93391ed481ba64",
            "value": "Downloading: 100%"
          }
        },
        "23f5cc36383d4f09aea1c2c8ee45858d": {
          "model_module": "@jupyter-widgets/controls",
          "model_module_version": "1.5.0",
          "model_name": "DescriptionStyleModel",
          "state": {
            "_model_module": "@jupyter-widgets/controls",
            "_model_module_version": "1.5.0",
            "_model_name": "DescriptionStyleModel",
            "_view_count": null,
            "_view_module": "@jupyter-widgets/base",
            "_view_module_version": "1.2.0",
            "_view_name": "StyleView",
            "description_width": ""
          }
        },
        "2663936cb47745e1ab2cfb8e2badbf61": {
          "model_module": "@jupyter-widgets/base",
          "model_module_version": "1.2.0",
          "model_name": "LayoutModel",
          "state": {
            "_model_module": "@jupyter-widgets/base",
            "_model_module_version": "1.2.0",
            "_model_name": "LayoutModel",
            "_view_count": null,
            "_view_module": "@jupyter-widgets/base",
            "_view_module_version": "1.2.0",
            "_view_name": "LayoutView",
            "align_content": null,
            "align_items": null,
            "align_self": null,
            "border": null,
            "bottom": null,
            "display": null,
            "flex": null,
            "flex_flow": null,
            "grid_area": null,
            "grid_auto_columns": null,
            "grid_auto_flow": null,
            "grid_auto_rows": null,
            "grid_column": null,
            "grid_gap": null,
            "grid_row": null,
            "grid_template_areas": null,
            "grid_template_columns": null,
            "grid_template_rows": null,
            "height": null,
            "justify_content": null,
            "justify_items": null,
            "left": null,
            "margin": null,
            "max_height": null,
            "max_width": null,
            "min_height": null,
            "min_width": null,
            "object_fit": null,
            "object_position": null,
            "order": null,
            "overflow": null,
            "overflow_x": null,
            "overflow_y": null,
            "padding": null,
            "right": null,
            "top": null,
            "visibility": null,
            "width": null
          }
        },
        "2703ee1e529a4859a85e245103f36a71": {
          "model_module": "@jupyter-widgets/base",
          "model_module_version": "1.2.0",
          "model_name": "LayoutModel",
          "state": {
            "_model_module": "@jupyter-widgets/base",
            "_model_module_version": "1.2.0",
            "_model_name": "LayoutModel",
            "_view_count": null,
            "_view_module": "@jupyter-widgets/base",
            "_view_module_version": "1.2.0",
            "_view_name": "LayoutView",
            "align_content": null,
            "align_items": null,
            "align_self": null,
            "border": null,
            "bottom": null,
            "display": null,
            "flex": null,
            "flex_flow": null,
            "grid_area": null,
            "grid_auto_columns": null,
            "grid_auto_flow": null,
            "grid_auto_rows": null,
            "grid_column": null,
            "grid_gap": null,
            "grid_row": null,
            "grid_template_areas": null,
            "grid_template_columns": null,
            "grid_template_rows": null,
            "height": null,
            "justify_content": null,
            "justify_items": null,
            "left": null,
            "margin": null,
            "max_height": null,
            "max_width": null,
            "min_height": null,
            "min_width": null,
            "object_fit": null,
            "object_position": null,
            "order": null,
            "overflow": null,
            "overflow_x": null,
            "overflow_y": null,
            "padding": null,
            "right": null,
            "top": null,
            "visibility": null,
            "width": null
          }
        },
        "3bb0662a73b046c699f9bcf82afd9099": {
          "model_module": "@jupyter-widgets/base",
          "model_module_version": "1.2.0",
          "model_name": "LayoutModel",
          "state": {
            "_model_module": "@jupyter-widgets/base",
            "_model_module_version": "1.2.0",
            "_model_name": "LayoutModel",
            "_view_count": null,
            "_view_module": "@jupyter-widgets/base",
            "_view_module_version": "1.2.0",
            "_view_name": "LayoutView",
            "align_content": null,
            "align_items": null,
            "align_self": null,
            "border": null,
            "bottom": null,
            "display": null,
            "flex": null,
            "flex_flow": null,
            "grid_area": null,
            "grid_auto_columns": null,
            "grid_auto_flow": null,
            "grid_auto_rows": null,
            "grid_column": null,
            "grid_gap": null,
            "grid_row": null,
            "grid_template_areas": null,
            "grid_template_columns": null,
            "grid_template_rows": null,
            "height": null,
            "justify_content": null,
            "justify_items": null,
            "left": null,
            "margin": null,
            "max_height": null,
            "max_width": null,
            "min_height": null,
            "min_width": null,
            "object_fit": null,
            "object_position": null,
            "order": null,
            "overflow": null,
            "overflow_x": null,
            "overflow_y": null,
            "padding": null,
            "right": null,
            "top": null,
            "visibility": null,
            "width": null
          }
        },
        "400c216f7b4b43e8af4f8bd4d57acf66": {
          "model_module": "@jupyter-widgets/controls",
          "model_module_version": "1.5.0",
          "model_name": "HTMLModel",
          "state": {
            "_dom_classes": [],
            "_model_module": "@jupyter-widgets/controls",
            "_model_module_version": "1.5.0",
            "_model_name": "HTMLModel",
            "_view_count": null,
            "_view_module": "@jupyter-widgets/controls",
            "_view_module_version": "1.5.0",
            "_view_name": "HTMLView",
            "description": "",
            "description_tooltip": null,
            "layout": "IPY_MODEL_48152802415c493c97e1bd2a7a1d614e",
            "placeholder": "​",
            "style": "IPY_MODEL_d5c6f03425814494aa7fd653c9656f69",
            "value": " 2.00/2.00 [00:00&lt;00:00, 80.2B/s]"
          }
        },
        "48152802415c493c97e1bd2a7a1d614e": {
          "model_module": "@jupyter-widgets/base",
          "model_module_version": "1.2.0",
          "model_name": "LayoutModel",
          "state": {
            "_model_module": "@jupyter-widgets/base",
            "_model_module_version": "1.2.0",
            "_model_name": "LayoutModel",
            "_view_count": null,
            "_view_module": "@jupyter-widgets/base",
            "_view_module_version": "1.2.0",
            "_view_name": "LayoutView",
            "align_content": null,
            "align_items": null,
            "align_self": null,
            "border": null,
            "bottom": null,
            "display": null,
            "flex": null,
            "flex_flow": null,
            "grid_area": null,
            "grid_auto_columns": null,
            "grid_auto_flow": null,
            "grid_auto_rows": null,
            "grid_column": null,
            "grid_gap": null,
            "grid_row": null,
            "grid_template_areas": null,
            "grid_template_columns": null,
            "grid_template_rows": null,
            "height": null,
            "justify_content": null,
            "justify_items": null,
            "left": null,
            "margin": null,
            "max_height": null,
            "max_width": null,
            "min_height": null,
            "min_width": null,
            "object_fit": null,
            "object_position": null,
            "order": null,
            "overflow": null,
            "overflow_x": null,
            "overflow_y": null,
            "padding": null,
            "right": null,
            "top": null,
            "visibility": null,
            "width": null
          }
        },
        "52e20bbdb1054133ac760e6ba1188850": {
          "model_module": "@jupyter-widgets/controls",
          "model_module_version": "1.5.0",
          "model_name": "HTMLModel",
          "state": {
            "_dom_classes": [],
            "_model_module": "@jupyter-widgets/controls",
            "_model_module_version": "1.5.0",
            "_model_name": "HTMLModel",
            "_view_count": null,
            "_view_module": "@jupyter-widgets/controls",
            "_view_module_version": "1.5.0",
            "_view_name": "HTMLView",
            "description": "",
            "description_tooltip": null,
            "layout": "IPY_MODEL_816b3bed93fc4f1abc0ea86ea51bcec7",
            "placeholder": "​",
            "style": "IPY_MODEL_938890002849424eb2989c523a305bba",
            "value": " 210k/210k [00:00&lt;00:00, 204kB/s]"
          }
        },
        "55ec7c341f5341b68abff4207a20585a": {
          "model_module": "@jupyter-widgets/base",
          "model_module_version": "1.2.0",
          "model_name": "LayoutModel",
          "state": {
            "_model_module": "@jupyter-widgets/base",
            "_model_module_version": "1.2.0",
            "_model_name": "LayoutModel",
            "_view_count": null,
            "_view_module": "@jupyter-widgets/base",
            "_view_module_version": "1.2.0",
            "_view_name": "LayoutView",
            "align_content": null,
            "align_items": null,
            "align_self": null,
            "border": null,
            "bottom": null,
            "display": null,
            "flex": null,
            "flex_flow": null,
            "grid_area": null,
            "grid_auto_columns": null,
            "grid_auto_flow": null,
            "grid_auto_rows": null,
            "grid_column": null,
            "grid_gap": null,
            "grid_row": null,
            "grid_template_areas": null,
            "grid_template_columns": null,
            "grid_template_rows": null,
            "height": null,
            "justify_content": null,
            "justify_items": null,
            "left": null,
            "margin": null,
            "max_height": null,
            "max_width": null,
            "min_height": null,
            "min_width": null,
            "object_fit": null,
            "object_position": null,
            "order": null,
            "overflow": null,
            "overflow_x": null,
            "overflow_y": null,
            "padding": null,
            "right": null,
            "top": null,
            "visibility": null,
            "width": null
          }
        },
        "57da3beb5eca4fa6b92a68aaad8c066a": {
          "model_module": "@jupyter-widgets/controls",
          "model_module_version": "1.5.0",
          "model_name": "HTMLModel",
          "state": {
            "_dom_classes": [],
            "_model_module": "@jupyter-widgets/controls",
            "_model_module_version": "1.5.0",
            "_model_name": "HTMLModel",
            "_view_count": null,
            "_view_module": "@jupyter-widgets/controls",
            "_view_module_version": "1.5.0",
            "_view_name": "HTMLView",
            "description": "",
            "description_tooltip": null,
            "layout": "IPY_MODEL_bcf839d2238242be8ab665c89efc3064",
            "placeholder": "​",
            "style": "IPY_MODEL_1f1538ef033442c69d3c698c21b7df4c",
            "value": "Downloading: 100%"
          }
        },
        "582d14a846b240548db37d6c45fb5494": {
          "model_module": "@jupyter-widgets/base",
          "model_module_version": "1.2.0",
          "model_name": "LayoutModel",
          "state": {
            "_model_module": "@jupyter-widgets/base",
            "_model_module_version": "1.2.0",
            "_model_name": "LayoutModel",
            "_view_count": null,
            "_view_module": "@jupyter-widgets/base",
            "_view_module_version": "1.2.0",
            "_view_name": "LayoutView",
            "align_content": null,
            "align_items": null,
            "align_self": null,
            "border": null,
            "bottom": null,
            "display": null,
            "flex": null,
            "flex_flow": null,
            "grid_area": null,
            "grid_auto_columns": null,
            "grid_auto_flow": null,
            "grid_auto_rows": null,
            "grid_column": null,
            "grid_gap": null,
            "grid_row": null,
            "grid_template_areas": null,
            "grid_template_columns": null,
            "grid_template_rows": null,
            "height": null,
            "justify_content": null,
            "justify_items": null,
            "left": null,
            "margin": null,
            "max_height": null,
            "max_width": null,
            "min_height": null,
            "min_width": null,
            "object_fit": null,
            "object_position": null,
            "order": null,
            "overflow": null,
            "overflow_x": null,
            "overflow_y": null,
            "padding": null,
            "right": null,
            "top": null,
            "visibility": null,
            "width": null
          }
        },
        "599aa9174187491390574f62592e2a91": {
          "model_module": "@jupyter-widgets/controls",
          "model_module_version": "1.5.0",
          "model_name": "HBoxModel",
          "state": {
            "_dom_classes": [],
            "_model_module": "@jupyter-widgets/controls",
            "_model_module_version": "1.5.0",
            "_model_name": "HBoxModel",
            "_view_count": null,
            "_view_module": "@jupyter-widgets/controls",
            "_view_module_version": "1.5.0",
            "_view_name": "HBoxView",
            "box_style": "",
            "children": [
              "IPY_MODEL_f0d9ba91fa044708b8d6a96d12c3df6b",
              "IPY_MODEL_c384af5c71314f8da4e02fc855ad6dc2",
              "IPY_MODEL_d86bd33fe217477d810d793e1fad1bb5"
            ],
            "layout": "IPY_MODEL_fb45ceed8f084dba9ef9b946ddff72d3"
          }
        },
        "5c1aba3061914daca4cbdc9dc5f7a785": {
          "model_module": "@jupyter-widgets/controls",
          "model_module_version": "1.5.0",
          "model_name": "DescriptionStyleModel",
          "state": {
            "_model_module": "@jupyter-widgets/controls",
            "_model_module_version": "1.5.0",
            "_model_name": "DescriptionStyleModel",
            "_view_count": null,
            "_view_module": "@jupyter-widgets/base",
            "_view_module_version": "1.2.0",
            "_view_name": "StyleView",
            "description_width": ""
          }
        },
        "6e0f7d86e4504f34a391b768e6776945": {
          "model_module": "@jupyter-widgets/controls",
          "model_module_version": "1.5.0",
          "model_name": "HBoxModel",
          "state": {
            "_dom_classes": [],
            "_model_module": "@jupyter-widgets/controls",
            "_model_module_version": "1.5.0",
            "_model_name": "HBoxModel",
            "_view_count": null,
            "_view_module": "@jupyter-widgets/controls",
            "_view_module_version": "1.5.0",
            "_view_name": "HBoxView",
            "box_style": "",
            "children": [
              "IPY_MODEL_2345645ce4c240cd85a1f2ed84c9cb04",
              "IPY_MODEL_96eedbbc25214313a7bb467639062ad6",
              "IPY_MODEL_52e20bbdb1054133ac760e6ba1188850"
            ],
            "layout": "IPY_MODEL_3bb0662a73b046c699f9bcf82afd9099"
          }
        },
        "70d93a5a0e7349ef89fc5159ddb2bd11": {
          "model_module": "@jupyter-widgets/controls",
          "model_module_version": "1.5.0",
          "model_name": "HBoxModel",
          "state": {
            "_dom_classes": [],
            "_model_module": "@jupyter-widgets/controls",
            "_model_module_version": "1.5.0",
            "_model_name": "HBoxModel",
            "_view_count": null,
            "_view_module": "@jupyter-widgets/controls",
            "_view_module_version": "1.5.0",
            "_view_name": "HBoxView",
            "box_style": "",
            "children": [
              "IPY_MODEL_57da3beb5eca4fa6b92a68aaad8c066a",
              "IPY_MODEL_fee11e3bef0648d680e85316751d1642",
              "IPY_MODEL_400c216f7b4b43e8af4f8bd4d57acf66"
            ],
            "layout": "IPY_MODEL_ed941d0c87f443de9fc4e133f25d1d50"
          }
        },
        "719e2969e6a14404be2a8b69497e196e": {
          "model_module": "@jupyter-widgets/controls",
          "model_module_version": "1.5.0",
          "model_name": "DescriptionStyleModel",
          "state": {
            "_model_module": "@jupyter-widgets/controls",
            "_model_module_version": "1.5.0",
            "_model_name": "DescriptionStyleModel",
            "_view_count": null,
            "_view_module": "@jupyter-widgets/base",
            "_view_module_version": "1.2.0",
            "_view_name": "StyleView",
            "description_width": ""
          }
        },
        "7413037736a843f5a9e8407f9cb11b8b": {
          "model_module": "@jupyter-widgets/controls",
          "model_module_version": "1.5.0",
          "model_name": "HTMLModel",
          "state": {
            "_dom_classes": [],
            "_model_module": "@jupyter-widgets/controls",
            "_model_module_version": "1.5.0",
            "_model_name": "HTMLModel",
            "_view_count": null,
            "_view_module": "@jupyter-widgets/controls",
            "_view_module_version": "1.5.0",
            "_view_name": "HTMLView",
            "description": "",
            "description_tooltip": null,
            "layout": "IPY_MODEL_55ec7c341f5341b68abff4207a20585a",
            "placeholder": "​",
            "style": "IPY_MODEL_23f5cc36383d4f09aea1c2c8ee45858d",
            "value": "Downloading: 100%"
          }
        },
        "75a8f14831304fcfbc1fe8a7696c4b63": {
          "model_module": "@jupyter-widgets/controls",
          "model_module_version": "1.5.0",
          "model_name": "DescriptionStyleModel",
          "state": {
            "_model_module": "@jupyter-widgets/controls",
            "_model_module_version": "1.5.0",
            "_model_name": "DescriptionStyleModel",
            "_view_count": null,
            "_view_module": "@jupyter-widgets/base",
            "_view_module_version": "1.2.0",
            "_view_name": "StyleView",
            "description_width": ""
          }
        },
        "7df6da9c026f495b989b304e985d3a60": {
          "model_module": "@jupyter-widgets/base",
          "model_module_version": "1.2.0",
          "model_name": "LayoutModel",
          "state": {
            "_model_module": "@jupyter-widgets/base",
            "_model_module_version": "1.2.0",
            "_model_name": "LayoutModel",
            "_view_count": null,
            "_view_module": "@jupyter-widgets/base",
            "_view_module_version": "1.2.0",
            "_view_name": "LayoutView",
            "align_content": null,
            "align_items": null,
            "align_self": null,
            "border": null,
            "bottom": null,
            "display": null,
            "flex": null,
            "flex_flow": null,
            "grid_area": null,
            "grid_auto_columns": null,
            "grid_auto_flow": null,
            "grid_auto_rows": null,
            "grid_column": null,
            "grid_gap": null,
            "grid_row": null,
            "grid_template_areas": null,
            "grid_template_columns": null,
            "grid_template_rows": null,
            "height": null,
            "justify_content": null,
            "justify_items": null,
            "left": null,
            "margin": null,
            "max_height": null,
            "max_width": null,
            "min_height": null,
            "min_width": null,
            "object_fit": null,
            "object_position": null,
            "order": null,
            "overflow": null,
            "overflow_x": null,
            "overflow_y": null,
            "padding": null,
            "right": null,
            "top": null,
            "visibility": null,
            "width": null
          }
        },
        "816b3bed93fc4f1abc0ea86ea51bcec7": {
          "model_module": "@jupyter-widgets/base",
          "model_module_version": "1.2.0",
          "model_name": "LayoutModel",
          "state": {
            "_model_module": "@jupyter-widgets/base",
            "_model_module_version": "1.2.0",
            "_model_name": "LayoutModel",
            "_view_count": null,
            "_view_module": "@jupyter-widgets/base",
            "_view_module_version": "1.2.0",
            "_view_name": "LayoutView",
            "align_content": null,
            "align_items": null,
            "align_self": null,
            "border": null,
            "bottom": null,
            "display": null,
            "flex": null,
            "flex_flow": null,
            "grid_area": null,
            "grid_auto_columns": null,
            "grid_auto_flow": null,
            "grid_auto_rows": null,
            "grid_column": null,
            "grid_gap": null,
            "grid_row": null,
            "grid_template_areas": null,
            "grid_template_columns": null,
            "grid_template_rows": null,
            "height": null,
            "justify_content": null,
            "justify_items": null,
            "left": null,
            "margin": null,
            "max_height": null,
            "max_width": null,
            "min_height": null,
            "min_width": null,
            "object_fit": null,
            "object_position": null,
            "order": null,
            "overflow": null,
            "overflow_x": null,
            "overflow_y": null,
            "padding": null,
            "right": null,
            "top": null,
            "visibility": null,
            "width": null
          }
        },
        "82689a01e6ef4371a74cdf263fa8f220": {
          "model_module": "@jupyter-widgets/base",
          "model_module_version": "1.2.0",
          "model_name": "LayoutModel",
          "state": {
            "_model_module": "@jupyter-widgets/base",
            "_model_module_version": "1.2.0",
            "_model_name": "LayoutModel",
            "_view_count": null,
            "_view_module": "@jupyter-widgets/base",
            "_view_module_version": "1.2.0",
            "_view_name": "LayoutView",
            "align_content": null,
            "align_items": null,
            "align_self": null,
            "border": null,
            "bottom": null,
            "display": null,
            "flex": null,
            "flex_flow": null,
            "grid_area": null,
            "grid_auto_columns": null,
            "grid_auto_flow": null,
            "grid_auto_rows": null,
            "grid_column": null,
            "grid_gap": null,
            "grid_row": null,
            "grid_template_areas": null,
            "grid_template_columns": null,
            "grid_template_rows": null,
            "height": null,
            "justify_content": null,
            "justify_items": null,
            "left": null,
            "margin": null,
            "max_height": null,
            "max_width": null,
            "min_height": null,
            "min_width": null,
            "object_fit": null,
            "object_position": null,
            "order": null,
            "overflow": null,
            "overflow_x": null,
            "overflow_y": null,
            "padding": null,
            "right": null,
            "top": null,
            "visibility": null,
            "width": null
          }
        },
        "8aefd01e4f3c487f92d04a698125169e": {
          "model_module": "@jupyter-widgets/controls",
          "model_module_version": "1.5.0",
          "model_name": "ProgressStyleModel",
          "state": {
            "_model_module": "@jupyter-widgets/controls",
            "_model_module_version": "1.5.0",
            "_model_name": "ProgressStyleModel",
            "_view_count": null,
            "_view_module": "@jupyter-widgets/base",
            "_view_module_version": "1.2.0",
            "_view_name": "StyleView",
            "bar_color": null,
            "description_width": ""
          }
        },
        "938890002849424eb2989c523a305bba": {
          "model_module": "@jupyter-widgets/controls",
          "model_module_version": "1.5.0",
          "model_name": "DescriptionStyleModel",
          "state": {
            "_model_module": "@jupyter-widgets/controls",
            "_model_module_version": "1.5.0",
            "_model_name": "DescriptionStyleModel",
            "_view_count": null,
            "_view_module": "@jupyter-widgets/base",
            "_view_module_version": "1.2.0",
            "_view_name": "StyleView",
            "description_width": ""
          }
        },
        "95a3ec2e76454ce5af38a644a01c8ef7": {
          "model_module": "@jupyter-widgets/controls",
          "model_module_version": "1.5.0",
          "model_name": "DescriptionStyleModel",
          "state": {
            "_model_module": "@jupyter-widgets/controls",
            "_model_module_version": "1.5.0",
            "_model_name": "DescriptionStyleModel",
            "_view_count": null,
            "_view_module": "@jupyter-widgets/base",
            "_view_module_version": "1.2.0",
            "_view_name": "StyleView",
            "description_width": ""
          }
        },
        "96eedbbc25214313a7bb467639062ad6": {
          "model_module": "@jupyter-widgets/controls",
          "model_module_version": "1.5.0",
          "model_name": "FloatProgressModel",
          "state": {
            "_dom_classes": [],
            "_model_module": "@jupyter-widgets/controls",
            "_model_module_version": "1.5.0",
            "_model_name": "FloatProgressModel",
            "_view_count": null,
            "_view_module": "@jupyter-widgets/controls",
            "_view_module_version": "1.5.0",
            "_view_name": "ProgressView",
            "bar_style": "success",
            "description": "",
            "description_tooltip": null,
            "layout": "IPY_MODEL_82689a01e6ef4371a74cdf263fa8f220",
            "max": 209528,
            "min": 0,
            "orientation": "horizontal",
            "style": "IPY_MODEL_18c9537a06e24581b424259982696b34",
            "value": 209528
          }
        },
        "a0b6d11bc1354ccdb4c62efe8fc5f212": {
          "model_module": "@jupyter-widgets/controls",
          "model_module_version": "1.5.0",
          "model_name": "ProgressStyleModel",
          "state": {
            "_model_module": "@jupyter-widgets/controls",
            "_model_module_version": "1.5.0",
            "_model_name": "ProgressStyleModel",
            "_view_count": null,
            "_view_module": "@jupyter-widgets/base",
            "_view_module_version": "1.2.0",
            "_view_name": "StyleView",
            "bar_color": null,
            "description_width": ""
          }
        },
        "a2720f27773d494d87573a3ddf90b8d0": {
          "model_module": "@jupyter-widgets/base",
          "model_module_version": "1.2.0",
          "model_name": "LayoutModel",
          "state": {
            "_model_module": "@jupyter-widgets/base",
            "_model_module_version": "1.2.0",
            "_model_name": "LayoutModel",
            "_view_count": null,
            "_view_module": "@jupyter-widgets/base",
            "_view_module_version": "1.2.0",
            "_view_name": "LayoutView",
            "align_content": null,
            "align_items": null,
            "align_self": null,
            "border": null,
            "bottom": null,
            "display": null,
            "flex": null,
            "flex_flow": null,
            "grid_area": null,
            "grid_auto_columns": null,
            "grid_auto_flow": null,
            "grid_auto_rows": null,
            "grid_column": null,
            "grid_gap": null,
            "grid_row": null,
            "grid_template_areas": null,
            "grid_template_columns": null,
            "grid_template_rows": null,
            "height": null,
            "justify_content": null,
            "justify_items": null,
            "left": null,
            "margin": null,
            "max_height": null,
            "max_width": null,
            "min_height": null,
            "min_width": null,
            "object_fit": null,
            "object_position": null,
            "order": null,
            "overflow": null,
            "overflow_x": null,
            "overflow_y": null,
            "padding": null,
            "right": null,
            "top": null,
            "visibility": null,
            "width": null
          }
        },
        "ab770ff604c74632a022a78299f5b8bf": {
          "model_module": "@jupyter-widgets/controls",
          "model_module_version": "1.5.0",
          "model_name": "HTMLModel",
          "state": {
            "_dom_classes": [],
            "_model_module": "@jupyter-widgets/controls",
            "_model_module_version": "1.5.0",
            "_model_name": "HTMLModel",
            "_view_count": null,
            "_view_module": "@jupyter-widgets/controls",
            "_view_module_version": "1.5.0",
            "_view_name": "HTMLView",
            "description": "",
            "description_tooltip": null,
            "layout": "IPY_MODEL_7df6da9c026f495b989b304e985d3a60",
            "placeholder": "​",
            "style": "IPY_MODEL_f3a7ebf5c63244d0af0eaba7c64004eb",
            "value": "Downloading: 100%"
          }
        },
        "ad851813aa5749eaabe94fee6a69d134": {
          "model_module": "@jupyter-widgets/controls",
          "model_module_version": "1.5.0",
          "model_name": "HBoxModel",
          "state": {
            "_dom_classes": [],
            "_model_module": "@jupyter-widgets/controls",
            "_model_module_version": "1.5.0",
            "_model_name": "HBoxModel",
            "_view_count": null,
            "_view_module": "@jupyter-widgets/controls",
            "_view_module_version": "1.5.0",
            "_view_name": "HBoxView",
            "box_style": "",
            "children": [
              "IPY_MODEL_ab770ff604c74632a022a78299f5b8bf",
              "IPY_MODEL_e86677b28b444dbb89186f7a0536de42",
              "IPY_MODEL_e2af94d6900644e882e216f945b1a32a"
            ],
            "layout": "IPY_MODEL_2703ee1e529a4859a85e245103f36a71"
          }
        },
        "ae66b5c4c25e460287c9fc7034b64d0a": {
          "model_module": "@jupyter-widgets/base",
          "model_module_version": "1.2.0",
          "model_name": "LayoutModel",
          "state": {
            "_model_module": "@jupyter-widgets/base",
            "_model_module_version": "1.2.0",
            "_model_name": "LayoutModel",
            "_view_count": null,
            "_view_module": "@jupyter-widgets/base",
            "_view_module_version": "1.2.0",
            "_view_name": "LayoutView",
            "align_content": null,
            "align_items": null,
            "align_self": null,
            "border": null,
            "bottom": null,
            "display": null,
            "flex": null,
            "flex_flow": null,
            "grid_area": null,
            "grid_auto_columns": null,
            "grid_auto_flow": null,
            "grid_auto_rows": null,
            "grid_column": null,
            "grid_gap": null,
            "grid_row": null,
            "grid_template_areas": null,
            "grid_template_columns": null,
            "grid_template_rows": null,
            "height": null,
            "justify_content": null,
            "justify_items": null,
            "left": null,
            "margin": null,
            "max_height": null,
            "max_width": null,
            "min_height": null,
            "min_width": null,
            "object_fit": null,
            "object_position": null,
            "order": null,
            "overflow": null,
            "overflow_x": null,
            "overflow_y": null,
            "padding": null,
            "right": null,
            "top": null,
            "visibility": null,
            "width": null
          }
        },
        "b09b4754a3af44abaf53e6d0e2e85d80": {
          "model_module": "@jupyter-widgets/controls",
          "model_module_version": "1.5.0",
          "model_name": "HTMLModel",
          "state": {
            "_dom_classes": [],
            "_model_module": "@jupyter-widgets/controls",
            "_model_module_version": "1.5.0",
            "_model_name": "HTMLModel",
            "_view_count": null,
            "_view_module": "@jupyter-widgets/controls",
            "_view_module_version": "1.5.0",
            "_view_name": "HTMLView",
            "description": "",
            "description_tooltip": null,
            "layout": "IPY_MODEL_bc9e5b87746e4e52b63d830291f27846",
            "placeholder": "​",
            "style": "IPY_MODEL_75a8f14831304fcfbc1fe8a7696c4b63",
            "value": " 647/647 [00:00&lt;00:00, 26.6kB/s]"
          }
        },
        "b1107532ba024ea59c8568edd15e90f0": {
          "model_module": "@jupyter-widgets/base",
          "model_module_version": "1.2.0",
          "model_name": "LayoutModel",
          "state": {
            "_model_module": "@jupyter-widgets/base",
            "_model_module_version": "1.2.0",
            "_model_name": "LayoutModel",
            "_view_count": null,
            "_view_module": "@jupyter-widgets/base",
            "_view_module_version": "1.2.0",
            "_view_name": "LayoutView",
            "align_content": null,
            "align_items": null,
            "align_self": null,
            "border": null,
            "bottom": null,
            "display": null,
            "flex": null,
            "flex_flow": null,
            "grid_area": null,
            "grid_auto_columns": null,
            "grid_auto_flow": null,
            "grid_auto_rows": null,
            "grid_column": null,
            "grid_gap": null,
            "grid_row": null,
            "grid_template_areas": null,
            "grid_template_columns": null,
            "grid_template_rows": null,
            "height": null,
            "justify_content": null,
            "justify_items": null,
            "left": null,
            "margin": null,
            "max_height": null,
            "max_width": null,
            "min_height": null,
            "min_width": null,
            "object_fit": null,
            "object_position": null,
            "order": null,
            "overflow": null,
            "overflow_x": null,
            "overflow_y": null,
            "padding": null,
            "right": null,
            "top": null,
            "visibility": null,
            "width": null
          }
        },
        "b3eed62a67e6471889172b4c9cc0890c": {
          "model_module": "@jupyter-widgets/controls",
          "model_module_version": "1.5.0",
          "model_name": "ProgressStyleModel",
          "state": {
            "_model_module": "@jupyter-widgets/controls",
            "_model_module_version": "1.5.0",
            "_model_name": "ProgressStyleModel",
            "_view_count": null,
            "_view_module": "@jupyter-widgets/base",
            "_view_module_version": "1.2.0",
            "_view_name": "StyleView",
            "bar_color": null,
            "description_width": ""
          }
        },
        "b44fed93f21449d3bda8b83764c85697": {
          "model_module": "@jupyter-widgets/base",
          "model_module_version": "1.2.0",
          "model_name": "LayoutModel",
          "state": {
            "_model_module": "@jupyter-widgets/base",
            "_model_module_version": "1.2.0",
            "_model_name": "LayoutModel",
            "_view_count": null,
            "_view_module": "@jupyter-widgets/base",
            "_view_module_version": "1.2.0",
            "_view_name": "LayoutView",
            "align_content": null,
            "align_items": null,
            "align_self": null,
            "border": null,
            "bottom": null,
            "display": null,
            "flex": null,
            "flex_flow": null,
            "grid_area": null,
            "grid_auto_columns": null,
            "grid_auto_flow": null,
            "grid_auto_rows": null,
            "grid_column": null,
            "grid_gap": null,
            "grid_row": null,
            "grid_template_areas": null,
            "grid_template_columns": null,
            "grid_template_rows": null,
            "height": null,
            "justify_content": null,
            "justify_items": null,
            "left": null,
            "margin": null,
            "max_height": null,
            "max_width": null,
            "min_height": null,
            "min_width": null,
            "object_fit": null,
            "object_position": null,
            "order": null,
            "overflow": null,
            "overflow_x": null,
            "overflow_y": null,
            "padding": null,
            "right": null,
            "top": null,
            "visibility": null,
            "width": null
          }
        },
        "b751e4403c744cf18945902266f5204e": {
          "model_module": "@jupyter-widgets/controls",
          "model_module_version": "1.5.0",
          "model_name": "FloatProgressModel",
          "state": {
            "_dom_classes": [],
            "_model_module": "@jupyter-widgets/controls",
            "_model_module_version": "1.5.0",
            "_model_name": "FloatProgressModel",
            "_view_count": null,
            "_view_module": "@jupyter-widgets/controls",
            "_view_module_version": "1.5.0",
            "_view_name": "ProgressView",
            "bar_style": "success",
            "description": "",
            "description_tooltip": null,
            "layout": "IPY_MODEL_b1107532ba024ea59c8568edd15e90f0",
            "max": 112,
            "min": 0,
            "orientation": "horizontal",
            "style": "IPY_MODEL_b3eed62a67e6471889172b4c9cc0890c",
            "value": 112
          }
        },
        "bc9e5b87746e4e52b63d830291f27846": {
          "model_module": "@jupyter-widgets/base",
          "model_module_version": "1.2.0",
          "model_name": "LayoutModel",
          "state": {
            "_model_module": "@jupyter-widgets/base",
            "_model_module_version": "1.2.0",
            "_model_name": "LayoutModel",
            "_view_count": null,
            "_view_module": "@jupyter-widgets/base",
            "_view_module_version": "1.2.0",
            "_view_name": "LayoutView",
            "align_content": null,
            "align_items": null,
            "align_self": null,
            "border": null,
            "bottom": null,
            "display": null,
            "flex": null,
            "flex_flow": null,
            "grid_area": null,
            "grid_auto_columns": null,
            "grid_auto_flow": null,
            "grid_auto_rows": null,
            "grid_column": null,
            "grid_gap": null,
            "grid_row": null,
            "grid_template_areas": null,
            "grid_template_columns": null,
            "grid_template_rows": null,
            "height": null,
            "justify_content": null,
            "justify_items": null,
            "left": null,
            "margin": null,
            "max_height": null,
            "max_width": null,
            "min_height": null,
            "min_width": null,
            "object_fit": null,
            "object_position": null,
            "order": null,
            "overflow": null,
            "overflow_x": null,
            "overflow_y": null,
            "padding": null,
            "right": null,
            "top": null,
            "visibility": null,
            "width": null
          }
        },
        "bcf839d2238242be8ab665c89efc3064": {
          "model_module": "@jupyter-widgets/base",
          "model_module_version": "1.2.0",
          "model_name": "LayoutModel",
          "state": {
            "_model_module": "@jupyter-widgets/base",
            "_model_module_version": "1.2.0",
            "_model_name": "LayoutModel",
            "_view_count": null,
            "_view_module": "@jupyter-widgets/base",
            "_view_module_version": "1.2.0",
            "_view_name": "LayoutView",
            "align_content": null,
            "align_items": null,
            "align_self": null,
            "border": null,
            "bottom": null,
            "display": null,
            "flex": null,
            "flex_flow": null,
            "grid_area": null,
            "grid_auto_columns": null,
            "grid_auto_flow": null,
            "grid_auto_rows": null,
            "grid_column": null,
            "grid_gap": null,
            "grid_row": null,
            "grid_template_areas": null,
            "grid_template_columns": null,
            "grid_template_rows": null,
            "height": null,
            "justify_content": null,
            "justify_items": null,
            "left": null,
            "margin": null,
            "max_height": null,
            "max_width": null,
            "min_height": null,
            "min_width": null,
            "object_fit": null,
            "object_position": null,
            "order": null,
            "overflow": null,
            "overflow_x": null,
            "overflow_y": null,
            "padding": null,
            "right": null,
            "top": null,
            "visibility": null,
            "width": null
          }
        },
        "c00b0bfde3b24968bead4dfaadbfa6a4": {
          "model_module": "@jupyter-widgets/base",
          "model_module_version": "1.2.0",
          "model_name": "LayoutModel",
          "state": {
            "_model_module": "@jupyter-widgets/base",
            "_model_module_version": "1.2.0",
            "_model_name": "LayoutModel",
            "_view_count": null,
            "_view_module": "@jupyter-widgets/base",
            "_view_module_version": "1.2.0",
            "_view_name": "LayoutView",
            "align_content": null,
            "align_items": null,
            "align_self": null,
            "border": null,
            "bottom": null,
            "display": null,
            "flex": null,
            "flex_flow": null,
            "grid_area": null,
            "grid_auto_columns": null,
            "grid_auto_flow": null,
            "grid_auto_rows": null,
            "grid_column": null,
            "grid_gap": null,
            "grid_row": null,
            "grid_template_areas": null,
            "grid_template_columns": null,
            "grid_template_rows": null,
            "height": null,
            "justify_content": null,
            "justify_items": null,
            "left": null,
            "margin": null,
            "max_height": null,
            "max_width": null,
            "min_height": null,
            "min_width": null,
            "object_fit": null,
            "object_position": null,
            "order": null,
            "overflow": null,
            "overflow_x": null,
            "overflow_y": null,
            "padding": null,
            "right": null,
            "top": null,
            "visibility": null,
            "width": null
          }
        },
        "c259a816101f4e6f8ac4d1ba43e0036a": {
          "model_module": "@jupyter-widgets/base",
          "model_module_version": "1.2.0",
          "model_name": "LayoutModel",
          "state": {
            "_model_module": "@jupyter-widgets/base",
            "_model_module_version": "1.2.0",
            "_model_name": "LayoutModel",
            "_view_count": null,
            "_view_module": "@jupyter-widgets/base",
            "_view_module_version": "1.2.0",
            "_view_name": "LayoutView",
            "align_content": null,
            "align_items": null,
            "align_self": null,
            "border": null,
            "bottom": null,
            "display": null,
            "flex": null,
            "flex_flow": null,
            "grid_area": null,
            "grid_auto_columns": null,
            "grid_auto_flow": null,
            "grid_auto_rows": null,
            "grid_column": null,
            "grid_gap": null,
            "grid_row": null,
            "grid_template_areas": null,
            "grid_template_columns": null,
            "grid_template_rows": null,
            "height": null,
            "justify_content": null,
            "justify_items": null,
            "left": null,
            "margin": null,
            "max_height": null,
            "max_width": null,
            "min_height": null,
            "min_width": null,
            "object_fit": null,
            "object_position": null,
            "order": null,
            "overflow": null,
            "overflow_x": null,
            "overflow_y": null,
            "padding": null,
            "right": null,
            "top": null,
            "visibility": null,
            "width": null
          }
        },
        "c384af5c71314f8da4e02fc855ad6dc2": {
          "model_module": "@jupyter-widgets/controls",
          "model_module_version": "1.5.0",
          "model_name": "FloatProgressModel",
          "state": {
            "_dom_classes": [],
            "_model_module": "@jupyter-widgets/controls",
            "_model_module_version": "1.5.0",
            "_model_name": "FloatProgressModel",
            "_view_count": null,
            "_view_module": "@jupyter-widgets/controls",
            "_view_module_version": "1.5.0",
            "_view_name": "ProgressView",
            "bar_style": "success",
            "description": "",
            "description_tooltip": null,
            "layout": "IPY_MODEL_c00b0bfde3b24968bead4dfaadbfa6a4",
            "max": 438235074,
            "min": 0,
            "orientation": "horizontal",
            "style": "IPY_MODEL_8aefd01e4f3c487f92d04a698125169e",
            "value": 438235074
          }
        },
        "cd7cfbf008e340358a96f97abbfee454": {
          "model_module": "@jupyter-widgets/base",
          "model_module_version": "1.2.0",
          "model_name": "LayoutModel",
          "state": {
            "_model_module": "@jupyter-widgets/base",
            "_model_module_version": "1.2.0",
            "_model_name": "LayoutModel",
            "_view_count": null,
            "_view_module": "@jupyter-widgets/base",
            "_view_module_version": "1.2.0",
            "_view_name": "LayoutView",
            "align_content": null,
            "align_items": null,
            "align_self": null,
            "border": null,
            "bottom": null,
            "display": null,
            "flex": null,
            "flex_flow": null,
            "grid_area": null,
            "grid_auto_columns": null,
            "grid_auto_flow": null,
            "grid_auto_rows": null,
            "grid_column": null,
            "grid_gap": null,
            "grid_row": null,
            "grid_template_areas": null,
            "grid_template_columns": null,
            "grid_template_rows": null,
            "height": null,
            "justify_content": null,
            "justify_items": null,
            "left": null,
            "margin": null,
            "max_height": null,
            "max_width": null,
            "min_height": null,
            "min_width": null,
            "object_fit": null,
            "object_position": null,
            "order": null,
            "overflow": null,
            "overflow_x": null,
            "overflow_y": null,
            "padding": null,
            "right": null,
            "top": null,
            "visibility": null,
            "width": null
          }
        },
        "cee815bb37a9444d978f4c44bcbe907a": {
          "model_module": "@jupyter-widgets/base",
          "model_module_version": "1.2.0",
          "model_name": "LayoutModel",
          "state": {
            "_model_module": "@jupyter-widgets/base",
            "_model_module_version": "1.2.0",
            "_model_name": "LayoutModel",
            "_view_count": null,
            "_view_module": "@jupyter-widgets/base",
            "_view_module_version": "1.2.0",
            "_view_name": "LayoutView",
            "align_content": null,
            "align_items": null,
            "align_self": null,
            "border": null,
            "bottom": null,
            "display": null,
            "flex": null,
            "flex_flow": null,
            "grid_area": null,
            "grid_auto_columns": null,
            "grid_auto_flow": null,
            "grid_auto_rows": null,
            "grid_column": null,
            "grid_gap": null,
            "grid_row": null,
            "grid_template_areas": null,
            "grid_template_columns": null,
            "grid_template_rows": null,
            "height": null,
            "justify_content": null,
            "justify_items": null,
            "left": null,
            "margin": null,
            "max_height": null,
            "max_width": null,
            "min_height": null,
            "min_width": null,
            "object_fit": null,
            "object_position": null,
            "order": null,
            "overflow": null,
            "overflow_x": null,
            "overflow_y": null,
            "padding": null,
            "right": null,
            "top": null,
            "visibility": null,
            "width": null
          }
        },
        "d5c6f03425814494aa7fd653c9656f69": {
          "model_module": "@jupyter-widgets/controls",
          "model_module_version": "1.5.0",
          "model_name": "DescriptionStyleModel",
          "state": {
            "_model_module": "@jupyter-widgets/controls",
            "_model_module_version": "1.5.0",
            "_model_name": "DescriptionStyleModel",
            "_view_count": null,
            "_view_module": "@jupyter-widgets/base",
            "_view_module_version": "1.2.0",
            "_view_name": "StyleView",
            "description_width": ""
          }
        },
        "d76999d804f048f4b0b43ca4f8d94285": {
          "model_module": "@jupyter-widgets/controls",
          "model_module_version": "1.5.0",
          "model_name": "HTMLModel",
          "state": {
            "_dom_classes": [],
            "_model_module": "@jupyter-widgets/controls",
            "_model_module_version": "1.5.0",
            "_model_name": "HTMLModel",
            "_view_count": null,
            "_view_module": "@jupyter-widgets/controls",
            "_view_module_version": "1.5.0",
            "_view_name": "HTMLView",
            "description": "",
            "description_tooltip": null,
            "layout": "IPY_MODEL_cd7cfbf008e340358a96f97abbfee454",
            "placeholder": "​",
            "style": "IPY_MODEL_5c1aba3061914daca4cbdc9dc5f7a785",
            "value": " 112/112 [00:00&lt;00:00, 4.58kB/s]"
          }
        },
        "d86bd33fe217477d810d793e1fad1bb5": {
          "model_module": "@jupyter-widgets/controls",
          "model_module_version": "1.5.0",
          "model_name": "HTMLModel",
          "state": {
            "_dom_classes": [],
            "_model_module": "@jupyter-widgets/controls",
            "_model_module_version": "1.5.0",
            "_model_name": "HTMLModel",
            "_view_count": null,
            "_view_module": "@jupyter-widgets/controls",
            "_view_module_version": "1.5.0",
            "_view_name": "HTMLView",
            "description": "",
            "description_tooltip": null,
            "layout": "IPY_MODEL_cee815bb37a9444d978f4c44bcbe907a",
            "placeholder": "​",
            "style": "IPY_MODEL_0bb7730229ec4d189025468b1e3f47b1",
            "value": " 438M/438M [00:07&lt;00:00, 57.9MB/s]"
          }
        },
        "dfbc85bbb6004a8baa93391ed481ba64": {
          "model_module": "@jupyter-widgets/controls",
          "model_module_version": "1.5.0",
          "model_name": "DescriptionStyleModel",
          "state": {
            "_model_module": "@jupyter-widgets/controls",
            "_model_module_version": "1.5.0",
            "_model_name": "DescriptionStyleModel",
            "_view_count": null,
            "_view_module": "@jupyter-widgets/base",
            "_view_module_version": "1.2.0",
            "_view_name": "StyleView",
            "description_width": ""
          }
        },
        "dff74ae7f3024d13994d11319c0f9bfc": {
          "model_module": "@jupyter-widgets/controls",
          "model_module_version": "1.5.0",
          "model_name": "DescriptionStyleModel",
          "state": {
            "_model_module": "@jupyter-widgets/controls",
            "_model_module_version": "1.5.0",
            "_model_name": "DescriptionStyleModel",
            "_view_count": null,
            "_view_module": "@jupyter-widgets/base",
            "_view_module_version": "1.2.0",
            "_view_name": "StyleView",
            "description_width": ""
          }
        },
        "e2af94d6900644e882e216f945b1a32a": {
          "model_module": "@jupyter-widgets/controls",
          "model_module_version": "1.5.0",
          "model_name": "HTMLModel",
          "state": {
            "_dom_classes": [],
            "_model_module": "@jupyter-widgets/controls",
            "_model_module_version": "1.5.0",
            "_model_name": "HTMLModel",
            "_view_count": null,
            "_view_module": "@jupyter-widgets/controls",
            "_view_module_version": "1.5.0",
            "_view_name": "HTMLView",
            "description": "",
            "description_tooltip": null,
            "layout": "IPY_MODEL_eb1f70a97527490ba0b94a90b83297c4",
            "placeholder": "​",
            "style": "IPY_MODEL_dff74ae7f3024d13994d11319c0f9bfc",
            "value": " 43.0/43.0 [00:00&lt;00:00, 1.16kB/s]"
          }
        },
        "e357a584ff89453f8649bb411df710bd": {
          "model_module": "@jupyter-widgets/controls",
          "model_module_version": "1.5.0",
          "model_name": "HBoxModel",
          "state": {
            "_dom_classes": [],
            "_model_module": "@jupyter-widgets/controls",
            "_model_module_version": "1.5.0",
            "_model_name": "HBoxModel",
            "_view_count": null,
            "_view_module": "@jupyter-widgets/controls",
            "_view_module_version": "1.5.0",
            "_view_name": "HBoxView",
            "box_style": "",
            "children": [
              "IPY_MODEL_0cb2c02dcab94b45878b9d85f6a04ac1",
              "IPY_MODEL_feef99c9edad445e8da4a46e06862de6",
              "IPY_MODEL_b09b4754a3af44abaf53e6d0e2e85d80"
            ],
            "layout": "IPY_MODEL_582d14a846b240548db37d6c45fb5494"
          }
        },
        "e86677b28b444dbb89186f7a0536de42": {
          "model_module": "@jupyter-widgets/controls",
          "model_module_version": "1.5.0",
          "model_name": "FloatProgressModel",
          "state": {
            "_dom_classes": [],
            "_model_module": "@jupyter-widgets/controls",
            "_model_module_version": "1.5.0",
            "_model_name": "FloatProgressModel",
            "_view_count": null,
            "_view_module": "@jupyter-widgets/controls",
            "_view_module_version": "1.5.0",
            "_view_name": "ProgressView",
            "bar_style": "success",
            "description": "",
            "description_tooltip": null,
            "layout": "IPY_MODEL_b44fed93f21449d3bda8b83764c85697",
            "max": 43,
            "min": 0,
            "orientation": "horizontal",
            "style": "IPY_MODEL_a0b6d11bc1354ccdb4c62efe8fc5f212",
            "value": 43
          }
        },
        "eb1f70a97527490ba0b94a90b83297c4": {
          "model_module": "@jupyter-widgets/base",
          "model_module_version": "1.2.0",
          "model_name": "LayoutModel",
          "state": {
            "_model_module": "@jupyter-widgets/base",
            "_model_module_version": "1.2.0",
            "_model_name": "LayoutModel",
            "_view_count": null,
            "_view_module": "@jupyter-widgets/base",
            "_view_module_version": "1.2.0",
            "_view_name": "LayoutView",
            "align_content": null,
            "align_items": null,
            "align_self": null,
            "border": null,
            "bottom": null,
            "display": null,
            "flex": null,
            "flex_flow": null,
            "grid_area": null,
            "grid_auto_columns": null,
            "grid_auto_flow": null,
            "grid_auto_rows": null,
            "grid_column": null,
            "grid_gap": null,
            "grid_row": null,
            "grid_template_areas": null,
            "grid_template_columns": null,
            "grid_template_rows": null,
            "height": null,
            "justify_content": null,
            "justify_items": null,
            "left": null,
            "margin": null,
            "max_height": null,
            "max_width": null,
            "min_height": null,
            "min_width": null,
            "object_fit": null,
            "object_position": null,
            "order": null,
            "overflow": null,
            "overflow_x": null,
            "overflow_y": null,
            "padding": null,
            "right": null,
            "top": null,
            "visibility": null,
            "width": null
          }
        },
        "ed941d0c87f443de9fc4e133f25d1d50": {
          "model_module": "@jupyter-widgets/base",
          "model_module_version": "1.2.0",
          "model_name": "LayoutModel",
          "state": {
            "_model_module": "@jupyter-widgets/base",
            "_model_module_version": "1.2.0",
            "_model_name": "LayoutModel",
            "_view_count": null,
            "_view_module": "@jupyter-widgets/base",
            "_view_module_version": "1.2.0",
            "_view_name": "LayoutView",
            "align_content": null,
            "align_items": null,
            "align_self": null,
            "border": null,
            "bottom": null,
            "display": null,
            "flex": null,
            "flex_flow": null,
            "grid_area": null,
            "grid_auto_columns": null,
            "grid_auto_flow": null,
            "grid_auto_rows": null,
            "grid_column": null,
            "grid_gap": null,
            "grid_row": null,
            "grid_template_areas": null,
            "grid_template_columns": null,
            "grid_template_rows": null,
            "height": null,
            "justify_content": null,
            "justify_items": null,
            "left": null,
            "margin": null,
            "max_height": null,
            "max_width": null,
            "min_height": null,
            "min_width": null,
            "object_fit": null,
            "object_position": null,
            "order": null,
            "overflow": null,
            "overflow_x": null,
            "overflow_y": null,
            "padding": null,
            "right": null,
            "top": null,
            "visibility": null,
            "width": null
          }
        },
        "f0d9ba91fa044708b8d6a96d12c3df6b": {
          "model_module": "@jupyter-widgets/controls",
          "model_module_version": "1.5.0",
          "model_name": "HTMLModel",
          "state": {
            "_dom_classes": [],
            "_model_module": "@jupyter-widgets/controls",
            "_model_module_version": "1.5.0",
            "_model_name": "HTMLModel",
            "_view_count": null,
            "_view_module": "@jupyter-widgets/controls",
            "_view_module_version": "1.5.0",
            "_view_name": "HTMLView",
            "description": "",
            "description_tooltip": null,
            "layout": "IPY_MODEL_2663936cb47745e1ab2cfb8e2badbf61",
            "placeholder": "​",
            "style": "IPY_MODEL_95a3ec2e76454ce5af38a644a01c8ef7",
            "value": "Downloading: 100%"
          }
        },
        "f262154ab3eb4df79a204dde2bc49f18": {
          "model_module": "@jupyter-widgets/controls",
          "model_module_version": "1.5.0",
          "model_name": "HBoxModel",
          "state": {
            "_dom_classes": [],
            "_model_module": "@jupyter-widgets/controls",
            "_model_module_version": "1.5.0",
            "_model_name": "HBoxModel",
            "_view_count": null,
            "_view_module": "@jupyter-widgets/controls",
            "_view_module_version": "1.5.0",
            "_view_name": "HBoxView",
            "box_style": "",
            "children": [
              "IPY_MODEL_7413037736a843f5a9e8407f9cb11b8b",
              "IPY_MODEL_b751e4403c744cf18945902266f5204e",
              "IPY_MODEL_d76999d804f048f4b0b43ca4f8d94285"
            ],
            "layout": "IPY_MODEL_c259a816101f4e6f8ac4d1ba43e0036a"
          }
        },
        "f3a7ebf5c63244d0af0eaba7c64004eb": {
          "model_module": "@jupyter-widgets/controls",
          "model_module_version": "1.5.0",
          "model_name": "DescriptionStyleModel",
          "state": {
            "_model_module": "@jupyter-widgets/controls",
            "_model_module_version": "1.5.0",
            "_model_name": "DescriptionStyleModel",
            "_view_count": null,
            "_view_module": "@jupyter-widgets/base",
            "_view_module_version": "1.2.0",
            "_view_name": "StyleView",
            "description_width": ""
          }
        },
        "f4ba456f29a94f18b1da434532f2d7d7": {
          "model_module": "@jupyter-widgets/controls",
          "model_module_version": "1.5.0",
          "model_name": "ProgressStyleModel",
          "state": {
            "_model_module": "@jupyter-widgets/controls",
            "_model_module_version": "1.5.0",
            "_model_name": "ProgressStyleModel",
            "_view_count": null,
            "_view_module": "@jupyter-widgets/base",
            "_view_module_version": "1.2.0",
            "_view_name": "StyleView",
            "bar_color": null,
            "description_width": ""
          }
        },
        "fb45ceed8f084dba9ef9b946ddff72d3": {
          "model_module": "@jupyter-widgets/base",
          "model_module_version": "1.2.0",
          "model_name": "LayoutModel",
          "state": {
            "_model_module": "@jupyter-widgets/base",
            "_model_module_version": "1.2.0",
            "_model_name": "LayoutModel",
            "_view_count": null,
            "_view_module": "@jupyter-widgets/base",
            "_view_module_version": "1.2.0",
            "_view_name": "LayoutView",
            "align_content": null,
            "align_items": null,
            "align_self": null,
            "border": null,
            "bottom": null,
            "display": null,
            "flex": null,
            "flex_flow": null,
            "grid_area": null,
            "grid_auto_columns": null,
            "grid_auto_flow": null,
            "grid_auto_rows": null,
            "grid_column": null,
            "grid_gap": null,
            "grid_row": null,
            "grid_template_areas": null,
            "grid_template_columns": null,
            "grid_template_rows": null,
            "height": null,
            "justify_content": null,
            "justify_items": null,
            "left": null,
            "margin": null,
            "max_height": null,
            "max_width": null,
            "min_height": null,
            "min_width": null,
            "object_fit": null,
            "object_position": null,
            "order": null,
            "overflow": null,
            "overflow_x": null,
            "overflow_y": null,
            "padding": null,
            "right": null,
            "top": null,
            "visibility": null,
            "width": null
          }
        },
        "fee11e3bef0648d680e85316751d1642": {
          "model_module": "@jupyter-widgets/controls",
          "model_module_version": "1.5.0",
          "model_name": "FloatProgressModel",
          "state": {
            "_dom_classes": [],
            "_model_module": "@jupyter-widgets/controls",
            "_model_module_version": "1.5.0",
            "_model_name": "FloatProgressModel",
            "_view_count": null,
            "_view_module": "@jupyter-widgets/controls",
            "_view_module_version": "1.5.0",
            "_view_name": "ProgressView",
            "bar_style": "success",
            "description": "",
            "description_tooltip": null,
            "layout": "IPY_MODEL_a2720f27773d494d87573a3ddf90b8d0",
            "max": 2,
            "min": 0,
            "orientation": "horizontal",
            "style": "IPY_MODEL_ff7d655b6bdb484094a3473f19075465",
            "value": 2
          }
        },
        "feef99c9edad445e8da4a46e06862de6": {
          "model_module": "@jupyter-widgets/controls",
          "model_module_version": "1.5.0",
          "model_name": "FloatProgressModel",
          "state": {
            "_dom_classes": [],
            "_model_module": "@jupyter-widgets/controls",
            "_model_module_version": "1.5.0",
            "_model_name": "FloatProgressModel",
            "_view_count": null,
            "_view_module": "@jupyter-widgets/controls",
            "_view_module_version": "1.5.0",
            "_view_name": "ProgressView",
            "bar_style": "success",
            "description": "",
            "description_tooltip": null,
            "layout": "IPY_MODEL_ae66b5c4c25e460287c9fc7034b64d0a",
            "max": 647,
            "min": 0,
            "orientation": "horizontal",
            "style": "IPY_MODEL_f4ba456f29a94f18b1da434532f2d7d7",
            "value": 647
          }
        },
        "ff7d655b6bdb484094a3473f19075465": {
          "model_module": "@jupyter-widgets/controls",
          "model_module_version": "1.5.0",
          "model_name": "ProgressStyleModel",
          "state": {
            "_model_module": "@jupyter-widgets/controls",
            "_model_module_version": "1.5.0",
            "_model_name": "ProgressStyleModel",
            "_view_count": null,
            "_view_module": "@jupyter-widgets/base",
            "_view_module_version": "1.2.0",
            "_view_name": "StyleView",
            "bar_color": null,
            "description_width": ""
          }
        }
      }
    }
  },
  "nbformat": 4,
  "nbformat_minor": 0
}